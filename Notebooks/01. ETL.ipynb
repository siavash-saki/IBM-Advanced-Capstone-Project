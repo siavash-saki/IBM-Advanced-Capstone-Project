{
 "cells": [
  {
   "cell_type": "markdown",
   "metadata": {},
   "source": [
    "#  Local Data ETL"
   ]
  },
  {
   "cell_type": "markdown",
   "metadata": {},
   "source": [
    "![image](https://www.webopedia.com/imagesvr_ce/5182/etl-diagram.JPG)[Image-Reference](https://www.webopedia.com/imagesvr_ce/5182/etl-diagram.JPG)"
   ]
  },
  {
   "cell_type": "markdown",
   "metadata": {},
   "source": [
    "### Instructions\n",
    "\n",
    "* [**Extraction**](#Extraction)\n",
    "\n",
    "  * Download all data\n",
    "  * Read CSV data into pandas Dataframes\n",
    "  \n",
    "\n",
    "* [**Transform**](#Transform)\n",
    "\n",
    "  * Copy only the columns needed into a new DataFrame\n",
    "  * Rename columns\n",
    "  * Handle any duplicates\n",
    "  * Dealing with missing Data\n",
    "  * Looking at Ranges and see if distribution of values in a column make sense, using stats (e.g. min, max, mean, standard deviation) and visualizations\n",
    "  * matching data types of columns to their content\n",
    "  \n",
    "\n",
    "* [**Load**](#Load)\n",
    "\n",
    "  * Create a connection to database.\n",
    "  * Check for a successful connection to the database and confirm that the tables have been created.\n",
    "  * Append DataFrames to tables. Be sure to use the index set earlier.\n",
    "  * Confirm successful **Load** by querying database."
   ]
  },
  {
   "cell_type": "markdown",
   "metadata": {},
   "source": [
    "______"
   ]
  },
  {
   "cell_type": "markdown",
   "metadata": {},
   "source": [
    "## Extraction"
   ]
  },
  {
   "cell_type": "markdown",
   "metadata": {},
   "source": [
    "Data are already downloaded from [SMARD](https://www.smard.de/home) website. SMARD is an abbreviation of the German term “Strommarktdaten”, which translates to electricity market data. Data that is published on SMARD’s website gives an up-to-date and in-depth overview of what is happening on the German electricity market. \n",
    "\n",
    "Datasets that we have downloaded are:\n",
    "\n",
    "* Electricity Consumption in Germany\n",
    "* Electricity Generation in Germany\n",
    "* Installed Capacity in Germany\n",
    "* Electricity Price\n",
    "\n",
    "All these datasets have records from 2015 to 2019  "
   ]
  },
  {
   "cell_type": "code",
   "execution_count": 167,
   "metadata": {},
   "outputs": [],
   "source": [
    "import numpy as np\n",
    "import pandas as pd\n",
    "from datetime import datetime\n",
    "import matplotlib.pyplot as plt\n",
    "import seaborn as sns\n",
    "%matplotlib inline"
   ]
  },
  {
   "cell_type": "code",
   "execution_count": 2,
   "metadata": {},
   "outputs": [
    {
     "name": "stdout",
     "output_type": "stream",
     "text": [
      "Actual_consumption_201501010000_201701012345_1.csv\r\n",
      "Actual_consumption_201701010000_201901012345_1.csv\r\n",
      "Actual_consumption_201901010000_202101012345_1.csv\r\n",
      "Actual_generation_201501010000_201701012345_1.csv\r\n",
      "Actual_generation_201701010000_201901012345_1.csv\r\n",
      "Actual_generation_201901010000_202101012345_1.csv\r\n",
      "Day-ahead_prices_201501010000_201701012359_1.csv\r\n",
      "Day-ahead_prices_201701010000_201901012359_1.csv\r\n",
      "Day-ahead_prices_201901010000_202101012359_1.csv\r\n",
      "Installed_generation_capacity_201501010000_201712312359_1.csv\r\n",
      "Installed_generation_capacity_201701010000_201912312359_1.csv\r\n",
      "Installed_generation_capacity_201901010000_202112312359_1.csv\r\n"
     ]
    }
   ],
   "source": [
    "!ls ../Data/"
   ]
  },
  {
   "cell_type": "code",
   "execution_count": 5,
   "metadata": {},
   "outputs": [],
   "source": [
    "consumption1= pd.read_csv('../Data/Actual_consumption_201501010000_201701012345_1.csv', delimiter=';')\n",
    "consumption2= pd.read_csv('../Data/Actual_consumption_201701010000_201901012345_1.csv', delimiter=';')\n",
    "consumption3= pd.read_csv('../Data/Actual_consumption_201901010000_202101012345_1.csv', delimiter=';')"
   ]
  },
  {
   "cell_type": "code",
   "execution_count": 6,
   "metadata": {},
   "outputs": [
    {
     "name": "stdout",
     "output_type": "stream",
     "text": [
      "(70271, 3)\n",
      "(70175, 3)\n",
      "(38880, 3)\n"
     ]
    }
   ],
   "source": [
    "print(consumption1.shape)\n",
    "print(consumption2.shape)\n",
    "print(consumption3.shape)"
   ]
  },
  {
   "cell_type": "code",
   "execution_count": 7,
   "metadata": {},
   "outputs": [
    {
     "data": {
      "text/html": [
       "<div>\n",
       "<style scoped>\n",
       "    .dataframe tbody tr th:only-of-type {\n",
       "        vertical-align: middle;\n",
       "    }\n",
       "\n",
       "    .dataframe tbody tr th {\n",
       "        vertical-align: top;\n",
       "    }\n",
       "\n",
       "    .dataframe thead th {\n",
       "        text-align: right;\n",
       "    }\n",
       "</style>\n",
       "<table border=\"1\" class=\"dataframe\">\n",
       "  <thead>\n",
       "    <tr style=\"text-align: right;\">\n",
       "      <th></th>\n",
       "      <th>Date</th>\n",
       "      <th>Time of day</th>\n",
       "      <th>Total[MWh]</th>\n",
       "    </tr>\n",
       "  </thead>\n",
       "  <tbody>\n",
       "    <tr>\n",
       "      <th>0</th>\n",
       "      <td>Jan 1, 2015</td>\n",
       "      <td>12:00 AM</td>\n",
       "      <td>10,606.25</td>\n",
       "    </tr>\n",
       "    <tr>\n",
       "      <th>1</th>\n",
       "      <td>Jan 1, 2015</td>\n",
       "      <td>12:15 AM</td>\n",
       "      <td>10,505.25</td>\n",
       "    </tr>\n",
       "    <tr>\n",
       "      <th>2</th>\n",
       "      <td>Jan 1, 2015</td>\n",
       "      <td>12:30 AM</td>\n",
       "      <td>10,517</td>\n",
       "    </tr>\n",
       "    <tr>\n",
       "      <th>3</th>\n",
       "      <td>Jan 1, 2015</td>\n",
       "      <td>12:45 AM</td>\n",
       "      <td>10,468.5</td>\n",
       "    </tr>\n",
       "    <tr>\n",
       "      <th>4</th>\n",
       "      <td>Jan 1, 2015</td>\n",
       "      <td>1:00 AM</td>\n",
       "      <td>10,307.5</td>\n",
       "    </tr>\n",
       "  </tbody>\n",
       "</table>\n",
       "</div>"
      ],
      "text/plain": [
       "          Date Time of day Total[MWh]\n",
       "0  Jan 1, 2015    12:00 AM  10,606.25\n",
       "1  Jan 1, 2015    12:15 AM  10,505.25\n",
       "2  Jan 1, 2015    12:30 AM     10,517\n",
       "3  Jan 1, 2015    12:45 AM   10,468.5\n",
       "4  Jan 1, 2015     1:00 AM   10,307.5"
      ]
     },
     "execution_count": 7,
     "metadata": {},
     "output_type": "execute_result"
    }
   ],
   "source": [
    "consumption1.head()"
   ]
  },
  {
   "cell_type": "code",
   "execution_count": 8,
   "metadata": {},
   "outputs": [
    {
     "data": {
      "text/html": [
       "<div>\n",
       "<style scoped>\n",
       "    .dataframe tbody tr th:only-of-type {\n",
       "        vertical-align: middle;\n",
       "    }\n",
       "\n",
       "    .dataframe tbody tr th {\n",
       "        vertical-align: top;\n",
       "    }\n",
       "\n",
       "    .dataframe thead th {\n",
       "        text-align: right;\n",
       "    }\n",
       "</style>\n",
       "<table border=\"1\" class=\"dataframe\">\n",
       "  <thead>\n",
       "    <tr style=\"text-align: right;\">\n",
       "      <th></th>\n",
       "      <th>Date</th>\n",
       "      <th>Time of day</th>\n",
       "      <th>Total[MWh]</th>\n",
       "    </tr>\n",
       "  </thead>\n",
       "  <tbody>\n",
       "    <tr>\n",
       "      <th>0</th>\n",
       "      <td>Jan 1, 2017</td>\n",
       "      <td>12:00 AM</td>\n",
       "      <td>11,178</td>\n",
       "    </tr>\n",
       "    <tr>\n",
       "      <th>1</th>\n",
       "      <td>Jan 1, 2017</td>\n",
       "      <td>12:15 AM</td>\n",
       "      <td>11,159.25</td>\n",
       "    </tr>\n",
       "    <tr>\n",
       "      <th>2</th>\n",
       "      <td>Jan 1, 2017</td>\n",
       "      <td>12:30 AM</td>\n",
       "      <td>11,121</td>\n",
       "    </tr>\n",
       "    <tr>\n",
       "      <th>3</th>\n",
       "      <td>Jan 1, 2017</td>\n",
       "      <td>12:45 AM</td>\n",
       "      <td>11,053.5</td>\n",
       "    </tr>\n",
       "    <tr>\n",
       "      <th>4</th>\n",
       "      <td>Jan 1, 2017</td>\n",
       "      <td>1:00 AM</td>\n",
       "      <td>10,908</td>\n",
       "    </tr>\n",
       "  </tbody>\n",
       "</table>\n",
       "</div>"
      ],
      "text/plain": [
       "          Date Time of day Total[MWh]\n",
       "0  Jan 1, 2017    12:00 AM     11,178\n",
       "1  Jan 1, 2017    12:15 AM  11,159.25\n",
       "2  Jan 1, 2017    12:30 AM     11,121\n",
       "3  Jan 1, 2017    12:45 AM   11,053.5\n",
       "4  Jan 1, 2017     1:00 AM     10,908"
      ]
     },
     "execution_count": 8,
     "metadata": {},
     "output_type": "execute_result"
    }
   ],
   "source": [
    "consumption2.head()"
   ]
  },
  {
   "cell_type": "code",
   "execution_count": 9,
   "metadata": {},
   "outputs": [
    {
     "data": {
      "text/html": [
       "<div>\n",
       "<style scoped>\n",
       "    .dataframe tbody tr th:only-of-type {\n",
       "        vertical-align: middle;\n",
       "    }\n",
       "\n",
       "    .dataframe tbody tr th {\n",
       "        vertical-align: top;\n",
       "    }\n",
       "\n",
       "    .dataframe thead th {\n",
       "        text-align: right;\n",
       "    }\n",
       "</style>\n",
       "<table border=\"1\" class=\"dataframe\">\n",
       "  <thead>\n",
       "    <tr style=\"text-align: right;\">\n",
       "      <th></th>\n",
       "      <th>Date</th>\n",
       "      <th>Time of day</th>\n",
       "      <th>Total[MWh]</th>\n",
       "    </tr>\n",
       "  </thead>\n",
       "  <tbody>\n",
       "    <tr>\n",
       "      <th>0</th>\n",
       "      <td>Jan 1, 2019</td>\n",
       "      <td>12:00 AM</td>\n",
       "      <td>10,690</td>\n",
       "    </tr>\n",
       "    <tr>\n",
       "      <th>1</th>\n",
       "      <td>Jan 1, 2019</td>\n",
       "      <td>12:15 AM</td>\n",
       "      <td>10,653.5</td>\n",
       "    </tr>\n",
       "    <tr>\n",
       "      <th>2</th>\n",
       "      <td>Jan 1, 2019</td>\n",
       "      <td>12:30 AM</td>\n",
       "      <td>10,607.75</td>\n",
       "    </tr>\n",
       "    <tr>\n",
       "      <th>3</th>\n",
       "      <td>Jan 1, 2019</td>\n",
       "      <td>12:45 AM</td>\n",
       "      <td>10,612.25</td>\n",
       "    </tr>\n",
       "    <tr>\n",
       "      <th>4</th>\n",
       "      <td>Jan 1, 2019</td>\n",
       "      <td>1:00 AM</td>\n",
       "      <td>10,465.5</td>\n",
       "    </tr>\n",
       "  </tbody>\n",
       "</table>\n",
       "</div>"
      ],
      "text/plain": [
       "          Date Time of day Total[MWh]\n",
       "0  Jan 1, 2019    12:00 AM     10,690\n",
       "1  Jan 1, 2019    12:15 AM   10,653.5\n",
       "2  Jan 1, 2019    12:30 AM  10,607.75\n",
       "3  Jan 1, 2019    12:45 AM  10,612.25\n",
       "4  Jan 1, 2019     1:00 AM   10,465.5"
      ]
     },
     "execution_count": 9,
     "metadata": {},
     "output_type": "execute_result"
    }
   ],
   "source": [
    "consumption3.head()"
   ]
  },
  {
   "cell_type": "code",
   "execution_count": 10,
   "metadata": {},
   "outputs": [],
   "source": [
    "generation1= pd.read_csv('../Data/Actual_generation_201501010000_201701012345_1.csv'\n",
    "                         , delimiter=';', low_memory=False)\n",
    "generation2= pd.read_csv('../Data/Actual_generation_201701010000_201901012345_1.csv'\n",
    "                         , delimiter=';', low_memory=False)\n",
    "generation3= pd.read_csv('../Data/Actual_generation_201901010000_202101012345_1.csv'\n",
    "                         , delimiter=';', low_memory=False)"
   ]
  },
  {
   "cell_type": "code",
   "execution_count": 11,
   "metadata": {},
   "outputs": [
    {
     "name": "stdout",
     "output_type": "stream",
     "text": [
      "(70271, 14)\n",
      "(70175, 14)\n",
      "(38880, 14)\n"
     ]
    }
   ],
   "source": [
    "print(generation1.shape)\n",
    "print(generation2.shape)\n",
    "print(generation3.shape)"
   ]
  },
  {
   "cell_type": "code",
   "execution_count": 12,
   "metadata": {},
   "outputs": [
    {
     "data": {
      "text/html": [
       "<div>\n",
       "<style scoped>\n",
       "    .dataframe tbody tr th:only-of-type {\n",
       "        vertical-align: middle;\n",
       "    }\n",
       "\n",
       "    .dataframe tbody tr th {\n",
       "        vertical-align: top;\n",
       "    }\n",
       "\n",
       "    .dataframe thead th {\n",
       "        text-align: right;\n",
       "    }\n",
       "</style>\n",
       "<table border=\"1\" class=\"dataframe\">\n",
       "  <thead>\n",
       "    <tr style=\"text-align: right;\">\n",
       "      <th></th>\n",
       "      <th>Datum</th>\n",
       "      <th>Uhrzeit</th>\n",
       "      <th>Biomass[MWh]</th>\n",
       "      <th>Hydropower[MWh]</th>\n",
       "      <th>Wind offshore[MWh]</th>\n",
       "      <th>Wind onshore[MWh]</th>\n",
       "      <th>Photovoltaics[MWh]</th>\n",
       "      <th>Other renewable[MWh]</th>\n",
       "      <th>Nuclear[MWh]</th>\n",
       "      <th>Fossil brown coal[MWh]</th>\n",
       "      <th>Fossil hard coal[MWh]</th>\n",
       "      <th>Fossil gas[MWh]</th>\n",
       "      <th>Hydro pumped storage[MWh]</th>\n",
       "      <th>Other conventional[MWh]</th>\n",
       "    </tr>\n",
       "  </thead>\n",
       "  <tbody>\n",
       "    <tr>\n",
       "      <th>0</th>\n",
       "      <td>Jan 1, 2015</td>\n",
       "      <td>12:00 AM</td>\n",
       "      <td>1,006</td>\n",
       "      <td>288</td>\n",
       "      <td>130</td>\n",
       "      <td>2,028</td>\n",
       "      <td>0</td>\n",
       "      <td>33</td>\n",
       "      <td>2,686</td>\n",
       "      <td>3,977</td>\n",
       "      <td>686</td>\n",
       "      <td>262</td>\n",
       "      <td>368</td>\n",
       "      <td>1,236</td>\n",
       "    </tr>\n",
       "    <tr>\n",
       "      <th>1</th>\n",
       "      <td>Jan 1, 2015</td>\n",
       "      <td>12:15 AM</td>\n",
       "      <td>1,007</td>\n",
       "      <td>288</td>\n",
       "      <td>129</td>\n",
       "      <td>2,023</td>\n",
       "      <td>0</td>\n",
       "      <td>33</td>\n",
       "      <td>2,646</td>\n",
       "      <td>3,963</td>\n",
       "      <td>721</td>\n",
       "      <td>261</td>\n",
       "      <td>328</td>\n",
       "      <td>1,214</td>\n",
       "    </tr>\n",
       "    <tr>\n",
       "      <th>2</th>\n",
       "      <td>Jan 1, 2015</td>\n",
       "      <td>12:30 AM</td>\n",
       "      <td>1,007</td>\n",
       "      <td>293</td>\n",
       "      <td>129</td>\n",
       "      <td>2,040</td>\n",
       "      <td>0</td>\n",
       "      <td>33</td>\n",
       "      <td>2,661</td>\n",
       "      <td>3,925</td>\n",
       "      <td>696</td>\n",
       "      <td>259</td>\n",
       "      <td>360</td>\n",
       "      <td>1,219</td>\n",
       "    </tr>\n",
       "    <tr>\n",
       "      <th>3</th>\n",
       "      <td>Jan 1, 2015</td>\n",
       "      <td>12:45 AM</td>\n",
       "      <td>1,005</td>\n",
       "      <td>290</td>\n",
       "      <td>129</td>\n",
       "      <td>2,037</td>\n",
       "      <td>0</td>\n",
       "      <td>33</td>\n",
       "      <td>2,718</td>\n",
       "      <td>3,872</td>\n",
       "      <td>665</td>\n",
       "      <td>225</td>\n",
       "      <td>280</td>\n",
       "      <td>1,243</td>\n",
       "    </tr>\n",
       "    <tr>\n",
       "      <th>4</th>\n",
       "      <td>Jan 1, 2015</td>\n",
       "      <td>1:00 AM</td>\n",
       "      <td>999</td>\n",
       "      <td>295</td>\n",
       "      <td>129</td>\n",
       "      <td>2,046</td>\n",
       "      <td>0</td>\n",
       "      <td>33</td>\n",
       "      <td>2,772</td>\n",
       "      <td>3,899</td>\n",
       "      <td>521</td>\n",
       "      <td>190</td>\n",
       "      <td>185</td>\n",
       "      <td>1,248</td>\n",
       "    </tr>\n",
       "  </tbody>\n",
       "</table>\n",
       "</div>"
      ],
      "text/plain": [
       "         Datum   Uhrzeit Biomass[MWh] Hydropower[MWh] Wind offshore[MWh]  \\\n",
       "0  Jan 1, 2015  12:00 AM        1,006             288                130   \n",
       "1  Jan 1, 2015  12:15 AM        1,007             288                129   \n",
       "2  Jan 1, 2015  12:30 AM        1,007             293                129   \n",
       "3  Jan 1, 2015  12:45 AM        1,005             290                129   \n",
       "4  Jan 1, 2015   1:00 AM          999             295                129   \n",
       "\n",
       "  Wind onshore[MWh] Photovoltaics[MWh] Other renewable[MWh] Nuclear[MWh]  \\\n",
       "0             2,028                  0                   33        2,686   \n",
       "1             2,023                  0                   33        2,646   \n",
       "2             2,040                  0                   33        2,661   \n",
       "3             2,037                  0                   33        2,718   \n",
       "4             2,046                  0                   33        2,772   \n",
       "\n",
       "  Fossil brown coal[MWh] Fossil hard coal[MWh] Fossil gas[MWh]  \\\n",
       "0                  3,977                   686             262   \n",
       "1                  3,963                   721             261   \n",
       "2                  3,925                   696             259   \n",
       "3                  3,872                   665             225   \n",
       "4                  3,899                   521             190   \n",
       "\n",
       "  Hydro pumped storage[MWh] Other conventional[MWh]  \n",
       "0                       368                   1,236  \n",
       "1                       328                   1,214  \n",
       "2                       360                   1,219  \n",
       "3                       280                   1,243  \n",
       "4                       185                   1,248  "
      ]
     },
     "execution_count": 12,
     "metadata": {},
     "output_type": "execute_result"
    }
   ],
   "source": [
    "generation1.head()"
   ]
  },
  {
   "cell_type": "code",
   "execution_count": 13,
   "metadata": {},
   "outputs": [
    {
     "data": {
      "text/html": [
       "<div>\n",
       "<style scoped>\n",
       "    .dataframe tbody tr th:only-of-type {\n",
       "        vertical-align: middle;\n",
       "    }\n",
       "\n",
       "    .dataframe tbody tr th {\n",
       "        vertical-align: top;\n",
       "    }\n",
       "\n",
       "    .dataframe thead th {\n",
       "        text-align: right;\n",
       "    }\n",
       "</style>\n",
       "<table border=\"1\" class=\"dataframe\">\n",
       "  <thead>\n",
       "    <tr style=\"text-align: right;\">\n",
       "      <th></th>\n",
       "      <th>Datum</th>\n",
       "      <th>Uhrzeit</th>\n",
       "      <th>Biomass[MWh]</th>\n",
       "      <th>Hydropower[MWh]</th>\n",
       "      <th>Wind offshore[MWh]</th>\n",
       "      <th>Wind onshore[MWh]</th>\n",
       "      <th>Photovoltaics[MWh]</th>\n",
       "      <th>Other renewable[MWh]</th>\n",
       "      <th>Nuclear[MWh]</th>\n",
       "      <th>Fossil brown coal[MWh]</th>\n",
       "      <th>Fossil hard coal[MWh]</th>\n",
       "      <th>Fossil gas[MWh]</th>\n",
       "      <th>Hydro pumped storage[MWh]</th>\n",
       "      <th>Other conventional[MWh]</th>\n",
       "    </tr>\n",
       "  </thead>\n",
       "  <tbody>\n",
       "    <tr>\n",
       "      <th>0</th>\n",
       "      <td>Jan 1, 2015</td>\n",
       "      <td>12:00 AM</td>\n",
       "      <td>1,006</td>\n",
       "      <td>288</td>\n",
       "      <td>130</td>\n",
       "      <td>2,028</td>\n",
       "      <td>0</td>\n",
       "      <td>33</td>\n",
       "      <td>2,686</td>\n",
       "      <td>3,977</td>\n",
       "      <td>686</td>\n",
       "      <td>262</td>\n",
       "      <td>368</td>\n",
       "      <td>1,236</td>\n",
       "    </tr>\n",
       "    <tr>\n",
       "      <th>1</th>\n",
       "      <td>Jan 1, 2015</td>\n",
       "      <td>12:15 AM</td>\n",
       "      <td>1,007</td>\n",
       "      <td>288</td>\n",
       "      <td>129</td>\n",
       "      <td>2,023</td>\n",
       "      <td>0</td>\n",
       "      <td>33</td>\n",
       "      <td>2,646</td>\n",
       "      <td>3,963</td>\n",
       "      <td>721</td>\n",
       "      <td>261</td>\n",
       "      <td>328</td>\n",
       "      <td>1,214</td>\n",
       "    </tr>\n",
       "    <tr>\n",
       "      <th>2</th>\n",
       "      <td>Jan 1, 2015</td>\n",
       "      <td>12:30 AM</td>\n",
       "      <td>1,007</td>\n",
       "      <td>293</td>\n",
       "      <td>129</td>\n",
       "      <td>2,040</td>\n",
       "      <td>0</td>\n",
       "      <td>33</td>\n",
       "      <td>2,661</td>\n",
       "      <td>3,925</td>\n",
       "      <td>696</td>\n",
       "      <td>259</td>\n",
       "      <td>360</td>\n",
       "      <td>1,219</td>\n",
       "    </tr>\n",
       "    <tr>\n",
       "      <th>3</th>\n",
       "      <td>Jan 1, 2015</td>\n",
       "      <td>12:45 AM</td>\n",
       "      <td>1,005</td>\n",
       "      <td>290</td>\n",
       "      <td>129</td>\n",
       "      <td>2,037</td>\n",
       "      <td>0</td>\n",
       "      <td>33</td>\n",
       "      <td>2,718</td>\n",
       "      <td>3,872</td>\n",
       "      <td>665</td>\n",
       "      <td>225</td>\n",
       "      <td>280</td>\n",
       "      <td>1,243</td>\n",
       "    </tr>\n",
       "    <tr>\n",
       "      <th>4</th>\n",
       "      <td>Jan 1, 2015</td>\n",
       "      <td>1:00 AM</td>\n",
       "      <td>999</td>\n",
       "      <td>295</td>\n",
       "      <td>129</td>\n",
       "      <td>2,046</td>\n",
       "      <td>0</td>\n",
       "      <td>33</td>\n",
       "      <td>2,772</td>\n",
       "      <td>3,899</td>\n",
       "      <td>521</td>\n",
       "      <td>190</td>\n",
       "      <td>185</td>\n",
       "      <td>1,248</td>\n",
       "    </tr>\n",
       "  </tbody>\n",
       "</table>\n",
       "</div>"
      ],
      "text/plain": [
       "         Datum   Uhrzeit Biomass[MWh] Hydropower[MWh] Wind offshore[MWh]  \\\n",
       "0  Jan 1, 2015  12:00 AM        1,006             288                130   \n",
       "1  Jan 1, 2015  12:15 AM        1,007             288                129   \n",
       "2  Jan 1, 2015  12:30 AM        1,007             293                129   \n",
       "3  Jan 1, 2015  12:45 AM        1,005             290                129   \n",
       "4  Jan 1, 2015   1:00 AM          999             295                129   \n",
       "\n",
       "  Wind onshore[MWh] Photovoltaics[MWh] Other renewable[MWh] Nuclear[MWh]  \\\n",
       "0             2,028                  0                   33        2,686   \n",
       "1             2,023                  0                   33        2,646   \n",
       "2             2,040                  0                   33        2,661   \n",
       "3             2,037                  0                   33        2,718   \n",
       "4             2,046                  0                   33        2,772   \n",
       "\n",
       "  Fossil brown coal[MWh] Fossil hard coal[MWh] Fossil gas[MWh]  \\\n",
       "0                  3,977                   686             262   \n",
       "1                  3,963                   721             261   \n",
       "2                  3,925                   696             259   \n",
       "3                  3,872                   665             225   \n",
       "4                  3,899                   521             190   \n",
       "\n",
       "  Hydro pumped storage[MWh] Other conventional[MWh]  \n",
       "0                       368                   1,236  \n",
       "1                       328                   1,214  \n",
       "2                       360                   1,219  \n",
       "3                       280                   1,243  \n",
       "4                       185                   1,248  "
      ]
     },
     "execution_count": 13,
     "metadata": {},
     "output_type": "execute_result"
    }
   ],
   "source": [
    "generation1.head()"
   ]
  },
  {
   "cell_type": "code",
   "execution_count": 14,
   "metadata": {},
   "outputs": [
    {
     "data": {
      "text/html": [
       "<div>\n",
       "<style scoped>\n",
       "    .dataframe tbody tr th:only-of-type {\n",
       "        vertical-align: middle;\n",
       "    }\n",
       "\n",
       "    .dataframe tbody tr th {\n",
       "        vertical-align: top;\n",
       "    }\n",
       "\n",
       "    .dataframe thead th {\n",
       "        text-align: right;\n",
       "    }\n",
       "</style>\n",
       "<table border=\"1\" class=\"dataframe\">\n",
       "  <thead>\n",
       "    <tr style=\"text-align: right;\">\n",
       "      <th></th>\n",
       "      <th>Date</th>\n",
       "      <th>Time of day</th>\n",
       "      <th>Biomass[MWh]</th>\n",
       "      <th>Hydropower[MWh]</th>\n",
       "      <th>Wind offshore[MWh]</th>\n",
       "      <th>Wind onshore[MWh]</th>\n",
       "      <th>Photovoltaics[MWh]</th>\n",
       "      <th>Other renewable[MWh]</th>\n",
       "      <th>Nuclear[MWh]</th>\n",
       "      <th>Fossil brown coal[MWh]</th>\n",
       "      <th>Fossil hard coal[MWh]</th>\n",
       "      <th>Fossil gas[MWh]</th>\n",
       "      <th>Hydro pumped storage[MWh]</th>\n",
       "      <th>Other conventional[MWh]</th>\n",
       "    </tr>\n",
       "  </thead>\n",
       "  <tbody>\n",
       "    <tr>\n",
       "      <th>0</th>\n",
       "      <td>Jan 1, 2017</td>\n",
       "      <td>12:00 AM</td>\n",
       "      <td>1,181</td>\n",
       "      <td>284.0</td>\n",
       "      <td>825</td>\n",
       "      <td>3,012</td>\n",
       "      <td>0</td>\n",
       "      <td>45.0</td>\n",
       "      <td>1,614</td>\n",
       "      <td>3,318</td>\n",
       "      <td>1,110</td>\n",
       "      <td>291</td>\n",
       "      <td>48</td>\n",
       "      <td>1,161</td>\n",
       "    </tr>\n",
       "    <tr>\n",
       "      <th>1</th>\n",
       "      <td>Jan 1, 2017</td>\n",
       "      <td>12:15 AM</td>\n",
       "      <td>1,178</td>\n",
       "      <td>285.0</td>\n",
       "      <td>826</td>\n",
       "      <td>3,029</td>\n",
       "      <td>0</td>\n",
       "      <td>44.0</td>\n",
       "      <td>1,616</td>\n",
       "      <td>3,336</td>\n",
       "      <td>1,115</td>\n",
       "      <td>291</td>\n",
       "      <td>54</td>\n",
       "      <td>1,157</td>\n",
       "    </tr>\n",
       "    <tr>\n",
       "      <th>2</th>\n",
       "      <td>Jan 1, 2017</td>\n",
       "      <td>12:30 AM</td>\n",
       "      <td>1,177</td>\n",
       "      <td>285.0</td>\n",
       "      <td>826</td>\n",
       "      <td>3,055</td>\n",
       "      <td>0</td>\n",
       "      <td>44.0</td>\n",
       "      <td>1,614</td>\n",
       "      <td>3,321</td>\n",
       "      <td>1,149</td>\n",
       "      <td>289</td>\n",
       "      <td>57</td>\n",
       "      <td>1,144</td>\n",
       "    </tr>\n",
       "    <tr>\n",
       "      <th>3</th>\n",
       "      <td>Jan 1, 2017</td>\n",
       "      <td>12:45 AM</td>\n",
       "      <td>1,176</td>\n",
       "      <td>285.0</td>\n",
       "      <td>827</td>\n",
       "      <td>3,023</td>\n",
       "      <td>0</td>\n",
       "      <td>44.0</td>\n",
       "      <td>1,614</td>\n",
       "      <td>3,323</td>\n",
       "      <td>1,162</td>\n",
       "      <td>287</td>\n",
       "      <td>56</td>\n",
       "      <td>1,090</td>\n",
       "    </tr>\n",
       "    <tr>\n",
       "      <th>4</th>\n",
       "      <td>Jan 1, 2017</td>\n",
       "      <td>1:00 AM</td>\n",
       "      <td>1,175</td>\n",
       "      <td>285.0</td>\n",
       "      <td>827</td>\n",
       "      <td>3,017</td>\n",
       "      <td>0</td>\n",
       "      <td>44.0</td>\n",
       "      <td>1,616</td>\n",
       "      <td>3,424</td>\n",
       "      <td>1,212</td>\n",
       "      <td>290</td>\n",
       "      <td>31</td>\n",
       "      <td>1,194</td>\n",
       "    </tr>\n",
       "  </tbody>\n",
       "</table>\n",
       "</div>"
      ],
      "text/plain": [
       "          Date Time of day Biomass[MWh]  Hydropower[MWh] Wind offshore[MWh]  \\\n",
       "0  Jan 1, 2017    12:00 AM        1,181            284.0                825   \n",
       "1  Jan 1, 2017    12:15 AM        1,178            285.0                826   \n",
       "2  Jan 1, 2017    12:30 AM        1,177            285.0                826   \n",
       "3  Jan 1, 2017    12:45 AM        1,176            285.0                827   \n",
       "4  Jan 1, 2017     1:00 AM        1,175            285.0                827   \n",
       "\n",
       "  Wind onshore[MWh] Photovoltaics[MWh]  Other renewable[MWh] Nuclear[MWh]  \\\n",
       "0             3,012                  0                  45.0        1,614   \n",
       "1             3,029                  0                  44.0        1,616   \n",
       "2             3,055                  0                  44.0        1,614   \n",
       "3             3,023                  0                  44.0        1,614   \n",
       "4             3,017                  0                  44.0        1,616   \n",
       "\n",
       "  Fossil brown coal[MWh] Fossil hard coal[MWh] Fossil gas[MWh]  \\\n",
       "0                  3,318                 1,110             291   \n",
       "1                  3,336                 1,115             291   \n",
       "2                  3,321                 1,149             289   \n",
       "3                  3,323                 1,162             287   \n",
       "4                  3,424                 1,212             290   \n",
       "\n",
       "  Hydro pumped storage[MWh] Other conventional[MWh]  \n",
       "0                        48                   1,161  \n",
       "1                        54                   1,157  \n",
       "2                        57                   1,144  \n",
       "3                        56                   1,090  \n",
       "4                        31                   1,194  "
      ]
     },
     "execution_count": 14,
     "metadata": {},
     "output_type": "execute_result"
    }
   ],
   "source": [
    "generation2.head()"
   ]
  },
  {
   "cell_type": "code",
   "execution_count": 15,
   "metadata": {},
   "outputs": [
    {
     "data": {
      "text/html": [
       "<div>\n",
       "<style scoped>\n",
       "    .dataframe tbody tr th:only-of-type {\n",
       "        vertical-align: middle;\n",
       "    }\n",
       "\n",
       "    .dataframe tbody tr th {\n",
       "        vertical-align: top;\n",
       "    }\n",
       "\n",
       "    .dataframe thead th {\n",
       "        text-align: right;\n",
       "    }\n",
       "</style>\n",
       "<table border=\"1\" class=\"dataframe\">\n",
       "  <thead>\n",
       "    <tr style=\"text-align: right;\">\n",
       "      <th></th>\n",
       "      <th>Date</th>\n",
       "      <th>Time of day</th>\n",
       "      <th>Biomass[MWh]</th>\n",
       "      <th>Hydropower[MWh]</th>\n",
       "      <th>Wind offshore[MWh]</th>\n",
       "      <th>Wind onshore[MWh]</th>\n",
       "      <th>Photovoltaics[MWh]</th>\n",
       "      <th>Other renewable[MWh]</th>\n",
       "      <th>Nuclear[MWh]</th>\n",
       "      <th>Fossil brown coal[MWh]</th>\n",
       "      <th>Fossil hard coal[MWh]</th>\n",
       "      <th>Fossil gas[MWh]</th>\n",
       "      <th>Hydro pumped storage[MWh]</th>\n",
       "      <th>Other conventional[MWh]</th>\n",
       "    </tr>\n",
       "  </thead>\n",
       "  <tbody>\n",
       "    <tr>\n",
       "      <th>0</th>\n",
       "      <td>Jan 1, 2019</td>\n",
       "      <td>12:00 AM</td>\n",
       "      <td>1,231.5</td>\n",
       "      <td>401</td>\n",
       "      <td>794.75</td>\n",
       "      <td>4,751</td>\n",
       "      <td>0</td>\n",
       "      <td>27.5</td>\n",
       "      <td>2,250.5</td>\n",
       "      <td>1,729</td>\n",
       "      <td>724.5</td>\n",
       "      <td>630.5</td>\n",
       "      <td>29.5</td>\n",
       "      <td>494.25</td>\n",
       "    </tr>\n",
       "    <tr>\n",
       "      <th>1</th>\n",
       "      <td>Jan 1, 2019</td>\n",
       "      <td>12:15 AM</td>\n",
       "      <td>1,234.25</td>\n",
       "      <td>394.75</td>\n",
       "      <td>794</td>\n",
       "      <td>4,937.25</td>\n",
       "      <td>0</td>\n",
       "      <td>27.5</td>\n",
       "      <td>2,263.25</td>\n",
       "      <td>1,583.75</td>\n",
       "      <td>618</td>\n",
       "      <td>601.75</td>\n",
       "      <td>80</td>\n",
       "      <td>544.25</td>\n",
       "    </tr>\n",
       "    <tr>\n",
       "      <th>2</th>\n",
       "      <td>Jan 1, 2019</td>\n",
       "      <td>12:30 AM</td>\n",
       "      <td>1,231.5</td>\n",
       "      <td>381.25</td>\n",
       "      <td>792.25</td>\n",
       "      <td>5,118.5</td>\n",
       "      <td>0</td>\n",
       "      <td>27.5</td>\n",
       "      <td>2,246</td>\n",
       "      <td>1,551.25</td>\n",
       "      <td>537.5</td>\n",
       "      <td>585</td>\n",
       "      <td>29</td>\n",
       "      <td>546</td>\n",
       "    </tr>\n",
       "    <tr>\n",
       "      <th>3</th>\n",
       "      <td>Jan 1, 2019</td>\n",
       "      <td>12:45 AM</td>\n",
       "      <td>1,233.5</td>\n",
       "      <td>381</td>\n",
       "      <td>755.5</td>\n",
       "      <td>5,188.75</td>\n",
       "      <td>0</td>\n",
       "      <td>27.5</td>\n",
       "      <td>2,241.75</td>\n",
       "      <td>1,455</td>\n",
       "      <td>487.5</td>\n",
       "      <td>576.5</td>\n",
       "      <td>29.25</td>\n",
       "      <td>546</td>\n",
       "    </tr>\n",
       "    <tr>\n",
       "      <th>4</th>\n",
       "      <td>Jan 1, 2019</td>\n",
       "      <td>1:00 AM</td>\n",
       "      <td>1,229</td>\n",
       "      <td>388.25</td>\n",
       "      <td>715.5</td>\n",
       "      <td>5,297.5</td>\n",
       "      <td>0</td>\n",
       "      <td>27.5</td>\n",
       "      <td>2,224.5</td>\n",
       "      <td>1,363.75</td>\n",
       "      <td>503.75</td>\n",
       "      <td>546.25</td>\n",
       "      <td>29</td>\n",
       "      <td>543</td>\n",
       "    </tr>\n",
       "  </tbody>\n",
       "</table>\n",
       "</div>"
      ],
      "text/plain": [
       "          Date Time of day Biomass[MWh] Hydropower[MWh] Wind offshore[MWh]  \\\n",
       "0  Jan 1, 2019    12:00 AM      1,231.5             401             794.75   \n",
       "1  Jan 1, 2019    12:15 AM     1,234.25          394.75                794   \n",
       "2  Jan 1, 2019    12:30 AM      1,231.5          381.25             792.25   \n",
       "3  Jan 1, 2019    12:45 AM      1,233.5             381              755.5   \n",
       "4  Jan 1, 2019     1:00 AM        1,229          388.25              715.5   \n",
       "\n",
       "  Wind onshore[MWh] Photovoltaics[MWh] Other renewable[MWh] Nuclear[MWh]  \\\n",
       "0             4,751                  0                 27.5      2,250.5   \n",
       "1          4,937.25                  0                 27.5     2,263.25   \n",
       "2           5,118.5                  0                 27.5        2,246   \n",
       "3          5,188.75                  0                 27.5     2,241.75   \n",
       "4           5,297.5                  0                 27.5      2,224.5   \n",
       "\n",
       "  Fossil brown coal[MWh] Fossil hard coal[MWh] Fossil gas[MWh]  \\\n",
       "0                  1,729                 724.5           630.5   \n",
       "1               1,583.75                   618          601.75   \n",
       "2               1,551.25                 537.5             585   \n",
       "3                  1,455                 487.5           576.5   \n",
       "4               1,363.75                503.75          546.25   \n",
       "\n",
       "  Hydro pumped storage[MWh] Other conventional[MWh]  \n",
       "0                      29.5                  494.25  \n",
       "1                        80                  544.25  \n",
       "2                        29                     546  \n",
       "3                     29.25                     546  \n",
       "4                        29                     543  "
      ]
     },
     "execution_count": 15,
     "metadata": {},
     "output_type": "execute_result"
    }
   ],
   "source": [
    "generation3.head()"
   ]
  },
  {
   "cell_type": "code",
   "execution_count": 16,
   "metadata": {},
   "outputs": [],
   "source": [
    "installed1= pd.read_csv('../Data/Installed_generation_capacity_201501010000_201712312359_1.csv', delimiter=';')\n",
    "installed2= pd.read_csv('../Data/Installed_generation_capacity_201701010000_201912312359_1.csv', delimiter=';')\n",
    "installed3= pd.read_csv('../Data/Installed_generation_capacity_201901010000_202112312359_1.csv', delimiter=';')"
   ]
  },
  {
   "cell_type": "code",
   "execution_count": 17,
   "metadata": {},
   "outputs": [
    {
     "name": "stdout",
     "output_type": "stream",
     "text": [
      "(3, 14)\n",
      "(3, 14)\n",
      "(2, 14)\n"
     ]
    }
   ],
   "source": [
    "print(installed1.shape)\n",
    "print(installed2.shape)\n",
    "print(installed3.shape)"
   ]
  },
  {
   "cell_type": "code",
   "execution_count": 18,
   "metadata": {},
   "outputs": [
    {
     "data": {
      "text/html": [
       "<div>\n",
       "<style scoped>\n",
       "    .dataframe tbody tr th:only-of-type {\n",
       "        vertical-align: middle;\n",
       "    }\n",
       "\n",
       "    .dataframe tbody tr th {\n",
       "        vertical-align: top;\n",
       "    }\n",
       "\n",
       "    .dataframe thead th {\n",
       "        text-align: right;\n",
       "    }\n",
       "</style>\n",
       "<table border=\"1\" class=\"dataframe\">\n",
       "  <thead>\n",
       "    <tr style=\"text-align: right;\">\n",
       "      <th></th>\n",
       "      <th>Date</th>\n",
       "      <th>Time of day</th>\n",
       "      <th>Biomass[MW]</th>\n",
       "      <th>Hydropower[MW]</th>\n",
       "      <th>Wind offshore[MW]</th>\n",
       "      <th>Wind onshore[MW]</th>\n",
       "      <th>Photovoltaics[MW]</th>\n",
       "      <th>Other renewable[MW]</th>\n",
       "      <th>Nuclear[MW]</th>\n",
       "      <th>Fossil brown coal[MW]</th>\n",
       "      <th>Fossil hard coal[MW]</th>\n",
       "      <th>Fossil gas[MW]</th>\n",
       "      <th>Hydro pumped storage[MW]</th>\n",
       "      <th>Other conventional[MW]</th>\n",
       "    </tr>\n",
       "  </thead>\n",
       "  <tbody>\n",
       "    <tr>\n",
       "      <th>0</th>\n",
       "      <td>Jan 1, 2015</td>\n",
       "      <td>12:00 AM</td>\n",
       "      <td>6,808</td>\n",
       "      <td>5,507</td>\n",
       "      <td>993</td>\n",
       "      <td>37,701</td>\n",
       "      <td>37,271</td>\n",
       "      <td>483</td>\n",
       "      <td>12,068</td>\n",
       "      <td>21,160</td>\n",
       "      <td>26,190</td>\n",
       "      <td>31,734</td>\n",
       "      <td>8,699</td>\n",
       "      <td>7,437</td>\n",
       "    </tr>\n",
       "    <tr>\n",
       "      <th>1</th>\n",
       "      <td>Jan 1, 2016</td>\n",
       "      <td>12:00 AM</td>\n",
       "      <td>6,815</td>\n",
       "      <td>5,514</td>\n",
       "      <td>3,283</td>\n",
       "      <td>41,168</td>\n",
       "      <td>38,686</td>\n",
       "      <td>545</td>\n",
       "      <td>10,793</td>\n",
       "      <td>21,062</td>\n",
       "      <td>26,264</td>\n",
       "      <td>32,398</td>\n",
       "      <td>8,699</td>\n",
       "      <td>7,576</td>\n",
       "    </tr>\n",
       "    <tr>\n",
       "      <th>2</th>\n",
       "      <td>Jan 1, 2017</td>\n",
       "      <td>12:00 AM</td>\n",
       "      <td>7,080</td>\n",
       "      <td>5,446</td>\n",
       "      <td>4,131</td>\n",
       "      <td>47,042</td>\n",
       "      <td>40,834</td>\n",
       "      <td>550</td>\n",
       "      <td>10,793</td>\n",
       "      <td>21,262</td>\n",
       "      <td>27,437</td>\n",
       "      <td>32,627</td>\n",
       "      <td>8,894</td>\n",
       "      <td>7,720</td>\n",
       "    </tr>\n",
       "  </tbody>\n",
       "</table>\n",
       "</div>"
      ],
      "text/plain": [
       "          Date Time of day Biomass[MW] Hydropower[MW] Wind offshore[MW]  \\\n",
       "0  Jan 1, 2015    12:00 AM       6,808          5,507               993   \n",
       "1  Jan 1, 2016    12:00 AM       6,815          5,514             3,283   \n",
       "2  Jan 1, 2017    12:00 AM       7,080          5,446             4,131   \n",
       "\n",
       "  Wind onshore[MW] Photovoltaics[MW]  Other renewable[MW] Nuclear[MW]  \\\n",
       "0           37,701            37,271                  483      12,068   \n",
       "1           41,168            38,686                  545      10,793   \n",
       "2           47,042            40,834                  550      10,793   \n",
       "\n",
       "  Fossil brown coal[MW] Fossil hard coal[MW] Fossil gas[MW]  \\\n",
       "0                21,160               26,190         31,734   \n",
       "1                21,062               26,264         32,398   \n",
       "2                21,262               27,437         32,627   \n",
       "\n",
       "  Hydro pumped storage[MW] Other conventional[MW]  \n",
       "0                    8,699                  7,437  \n",
       "1                    8,699                  7,576  \n",
       "2                    8,894                  7,720  "
      ]
     },
     "execution_count": 18,
     "metadata": {},
     "output_type": "execute_result"
    }
   ],
   "source": [
    "installed1"
   ]
  },
  {
   "cell_type": "code",
   "execution_count": 19,
   "metadata": {},
   "outputs": [
    {
     "data": {
      "text/html": [
       "<div>\n",
       "<style scoped>\n",
       "    .dataframe tbody tr th:only-of-type {\n",
       "        vertical-align: middle;\n",
       "    }\n",
       "\n",
       "    .dataframe tbody tr th {\n",
       "        vertical-align: top;\n",
       "    }\n",
       "\n",
       "    .dataframe thead th {\n",
       "        text-align: right;\n",
       "    }\n",
       "</style>\n",
       "<table border=\"1\" class=\"dataframe\">\n",
       "  <thead>\n",
       "    <tr style=\"text-align: right;\">\n",
       "      <th></th>\n",
       "      <th>Date</th>\n",
       "      <th>Time of day</th>\n",
       "      <th>Biomass[MW]</th>\n",
       "      <th>Hydropower[MW]</th>\n",
       "      <th>Wind offshore[MW]</th>\n",
       "      <th>Wind onshore[MW]</th>\n",
       "      <th>Photovoltaics[MW]</th>\n",
       "      <th>Other renewable[MW]</th>\n",
       "      <th>Nuclear[MW]</th>\n",
       "      <th>Fossil brown coal[MW]</th>\n",
       "      <th>Fossil hard coal[MW]</th>\n",
       "      <th>Fossil gas[MW]</th>\n",
       "      <th>Hydro pumped storage[MW]</th>\n",
       "      <th>Other conventional[MW]</th>\n",
       "    </tr>\n",
       "  </thead>\n",
       "  <tbody>\n",
       "    <tr>\n",
       "      <th>0</th>\n",
       "      <td>Jan 1, 2017</td>\n",
       "      <td>12:00 AM</td>\n",
       "      <td>7,080</td>\n",
       "      <td>5,446</td>\n",
       "      <td>4,131</td>\n",
       "      <td>47,042</td>\n",
       "      <td>40,834</td>\n",
       "      <td>550</td>\n",
       "      <td>10,793</td>\n",
       "      <td>21,262</td>\n",
       "      <td>27,437</td>\n",
       "      <td>32,627</td>\n",
       "      <td>8,894</td>\n",
       "      <td>7,720</td>\n",
       "    </tr>\n",
       "    <tr>\n",
       "      <th>1</th>\n",
       "      <td>Jan 1, 2018</td>\n",
       "      <td>12:00 AM</td>\n",
       "      <td>7,396</td>\n",
       "      <td>5,300</td>\n",
       "      <td>5,051</td>\n",
       "      <td>51,633</td>\n",
       "      <td>42,804</td>\n",
       "      <td>534</td>\n",
       "      <td>9,516</td>\n",
       "      <td>21,275</td>\n",
       "      <td>25,035</td>\n",
       "      <td>31,361</td>\n",
       "      <td>8,918</td>\n",
       "      <td>7,375</td>\n",
       "    </tr>\n",
       "    <tr>\n",
       "      <th>2</th>\n",
       "      <td>Jan 1, 2019</td>\n",
       "      <td>12:00 AM</td>\n",
       "      <td>7,752</td>\n",
       "      <td>5,281</td>\n",
       "      <td>6,393</td>\n",
       "      <td>52,792</td>\n",
       "      <td>45,299</td>\n",
       "      <td>487</td>\n",
       "      <td>9,516</td>\n",
       "      <td>21,205</td>\n",
       "      <td>25,293</td>\n",
       "      <td>31,664</td>\n",
       "      <td>9,422</td>\n",
       "      <td>7,277</td>\n",
       "    </tr>\n",
       "  </tbody>\n",
       "</table>\n",
       "</div>"
      ],
      "text/plain": [
       "          Date Time of day Biomass[MW] Hydropower[MW] Wind offshore[MW]  \\\n",
       "0  Jan 1, 2017    12:00 AM       7,080          5,446             4,131   \n",
       "1  Jan 1, 2018    12:00 AM       7,396          5,300             5,051   \n",
       "2  Jan 1, 2019    12:00 AM       7,752          5,281             6,393   \n",
       "\n",
       "  Wind onshore[MW] Photovoltaics[MW]  Other renewable[MW] Nuclear[MW]  \\\n",
       "0           47,042            40,834                  550      10,793   \n",
       "1           51,633            42,804                  534       9,516   \n",
       "2           52,792            45,299                  487       9,516   \n",
       "\n",
       "  Fossil brown coal[MW] Fossil hard coal[MW] Fossil gas[MW]  \\\n",
       "0                21,262               27,437         32,627   \n",
       "1                21,275               25,035         31,361   \n",
       "2                21,205               25,293         31,664   \n",
       "\n",
       "  Hydro pumped storage[MW] Other conventional[MW]  \n",
       "0                    8,894                  7,720  \n",
       "1                    8,918                  7,375  \n",
       "2                    9,422                  7,277  "
      ]
     },
     "execution_count": 19,
     "metadata": {},
     "output_type": "execute_result"
    }
   ],
   "source": [
    "installed2"
   ]
  },
  {
   "cell_type": "code",
   "execution_count": 20,
   "metadata": {},
   "outputs": [
    {
     "data": {
      "text/html": [
       "<div>\n",
       "<style scoped>\n",
       "    .dataframe tbody tr th:only-of-type {\n",
       "        vertical-align: middle;\n",
       "    }\n",
       "\n",
       "    .dataframe tbody tr th {\n",
       "        vertical-align: top;\n",
       "    }\n",
       "\n",
       "    .dataframe thead th {\n",
       "        text-align: right;\n",
       "    }\n",
       "</style>\n",
       "<table border=\"1\" class=\"dataframe\">\n",
       "  <thead>\n",
       "    <tr style=\"text-align: right;\">\n",
       "      <th></th>\n",
       "      <th>Date</th>\n",
       "      <th>Time of day</th>\n",
       "      <th>Biomass[MW]</th>\n",
       "      <th>Hydropower[MW]</th>\n",
       "      <th>Wind offshore[MW]</th>\n",
       "      <th>Wind onshore[MW]</th>\n",
       "      <th>Photovoltaics[MW]</th>\n",
       "      <th>Other renewable[MW]</th>\n",
       "      <th>Nuclear[MW]</th>\n",
       "      <th>Fossil brown coal[MW]</th>\n",
       "      <th>Fossil hard coal[MW]</th>\n",
       "      <th>Fossil gas[MW]</th>\n",
       "      <th>Hydro pumped storage[MW]</th>\n",
       "      <th>Other conventional[MW]</th>\n",
       "    </tr>\n",
       "  </thead>\n",
       "  <tbody>\n",
       "    <tr>\n",
       "      <th>0</th>\n",
       "      <td>Jan 1, 2019</td>\n",
       "      <td>12:00 AM</td>\n",
       "      <td>7,752</td>\n",
       "      <td>5,281</td>\n",
       "      <td>6,393</td>\n",
       "      <td>52,792</td>\n",
       "      <td>45,299</td>\n",
       "      <td>487</td>\n",
       "      <td>9,516</td>\n",
       "      <td>21,205</td>\n",
       "      <td>25,293</td>\n",
       "      <td>31,664</td>\n",
       "      <td>9,422</td>\n",
       "      <td>7,277</td>\n",
       "    </tr>\n",
       "    <tr>\n",
       "      <th>1</th>\n",
       "      <td>Jan 1, 2020</td>\n",
       "      <td>12:00 AM</td>\n",
       "      <td>7,855</td>\n",
       "      <td>5,256</td>\n",
       "      <td>7,709</td>\n",
       "      <td>53,405</td>\n",
       "      <td>46,471</td>\n",
       "      <td>523</td>\n",
       "      <td>8,114</td>\n",
       "      <td>21,067</td>\n",
       "      <td>22,458</td>\n",
       "      <td>31,712</td>\n",
       "      <td>9,422</td>\n",
       "      <td>7,592</td>\n",
       "    </tr>\n",
       "  </tbody>\n",
       "</table>\n",
       "</div>"
      ],
      "text/plain": [
       "          Date Time of day Biomass[MW] Hydropower[MW] Wind offshore[MW]  \\\n",
       "0  Jan 1, 2019    12:00 AM       7,752          5,281             6,393   \n",
       "1  Jan 1, 2020    12:00 AM       7,855          5,256             7,709   \n",
       "\n",
       "  Wind onshore[MW] Photovoltaics[MW]  Other renewable[MW] Nuclear[MW]  \\\n",
       "0           52,792            45,299                  487       9,516   \n",
       "1           53,405            46,471                  523       8,114   \n",
       "\n",
       "  Fossil brown coal[MW] Fossil hard coal[MW] Fossil gas[MW]  \\\n",
       "0                21,205               25,293         31,664   \n",
       "1                21,067               22,458         31,712   \n",
       "\n",
       "  Hydro pumped storage[MW] Other conventional[MW]  \n",
       "0                    9,422                  7,277  \n",
       "1                    9,422                  7,592  "
      ]
     },
     "execution_count": 20,
     "metadata": {},
     "output_type": "execute_result"
    }
   ],
   "source": [
    "installed3"
   ]
  },
  {
   "cell_type": "code",
   "execution_count": 21,
   "metadata": {},
   "outputs": [],
   "source": [
    "price1= pd.read_csv('../Data/Day-ahead_prices_201501010000_201701012359_1.csv', delimiter=';')\n",
    "price2= pd.read_csv('../Data/Day-ahead_prices_201701010000_201901012359_1.csv', delimiter=';')\n",
    "price3= pd.read_csv('../Data/Day-ahead_prices_201901010000_202101012359_1.csv', delimiter=';')"
   ]
  },
  {
   "cell_type": "code",
   "execution_count": 22,
   "metadata": {},
   "outputs": [
    {
     "name": "stdout",
     "output_type": "stream",
     "text": [
      "(17568, 16)\n",
      "(17544, 16)\n",
      "(9720, 16)\n"
     ]
    }
   ],
   "source": [
    "print(price1.shape)\n",
    "print(price2.shape)\n",
    "print(price3.shape)"
   ]
  },
  {
   "cell_type": "code",
   "execution_count": 23,
   "metadata": {},
   "outputs": [
    {
     "data": {
      "text/html": [
       "<div>\n",
       "<style scoped>\n",
       "    .dataframe tbody tr th:only-of-type {\n",
       "        vertical-align: middle;\n",
       "    }\n",
       "\n",
       "    .dataframe tbody tr th {\n",
       "        vertical-align: top;\n",
       "    }\n",
       "\n",
       "    .dataframe thead th {\n",
       "        text-align: right;\n",
       "    }\n",
       "</style>\n",
       "<table border=\"1\" class=\"dataframe\">\n",
       "  <thead>\n",
       "    <tr style=\"text-align: right;\">\n",
       "      <th></th>\n",
       "      <th>Date</th>\n",
       "      <th>Time of day</th>\n",
       "      <th>Germany/Luxembourg[Euro/MWh]</th>\n",
       "      <th>Denmark 1[Euro/MWh]</th>\n",
       "      <th>Denmark 2[Euro/MWh]</th>\n",
       "      <th>France[Euro/MWh]</th>\n",
       "      <th>Northern Italy[Euro/MWh]</th>\n",
       "      <th>Netherlands[Euro/MWh]</th>\n",
       "      <th>Poland[Euro/MWh]</th>\n",
       "      <th>Sweden 4[Euro/MWh]</th>\n",
       "      <th>Switzerland[Euro/MWh]</th>\n",
       "      <th>Slovenia[Euro/MWh]</th>\n",
       "      <th>Czech Republic[Euro/MWh]</th>\n",
       "      <th>Hungary[Euro/MWh]</th>\n",
       "      <th>Austria[Euro/MWh]</th>\n",
       "      <th>Germany/Austria/Luxembourg[Euro/MWh]</th>\n",
       "    </tr>\n",
       "  </thead>\n",
       "  <tbody>\n",
       "    <tr>\n",
       "      <th>0</th>\n",
       "      <td>Jan 1, 2015</td>\n",
       "      <td>12:00 AM</td>\n",
       "      <td>-</td>\n",
       "      <td>25.02</td>\n",
       "      <td>27.38</td>\n",
       "      <td>-</td>\n",
       "      <td>-</td>\n",
       "      <td>-</td>\n",
       "      <td>-</td>\n",
       "      <td>27.38</td>\n",
       "      <td>44.94</td>\n",
       "      <td>27.30</td>\n",
       "      <td>26.48</td>\n",
       "      <td>45.07</td>\n",
       "      <td>-</td>\n",
       "      <td>-</td>\n",
       "    </tr>\n",
       "    <tr>\n",
       "      <th>1</th>\n",
       "      <td>Jan 1, 2015</td>\n",
       "      <td>1:00 AM</td>\n",
       "      <td>-</td>\n",
       "      <td>18.29</td>\n",
       "      <td>18.29</td>\n",
       "      <td>-</td>\n",
       "      <td>-</td>\n",
       "      <td>-</td>\n",
       "      <td>-</td>\n",
       "      <td>23.37</td>\n",
       "      <td>43.43</td>\n",
       "      <td>23.25</td>\n",
       "      <td>24.2</td>\n",
       "      <td>44.16</td>\n",
       "      <td>-</td>\n",
       "      <td>-</td>\n",
       "    </tr>\n",
       "    <tr>\n",
       "      <th>2</th>\n",
       "      <td>Jan 1, 2015</td>\n",
       "      <td>2:00 AM</td>\n",
       "      <td>-</td>\n",
       "      <td>16.04</td>\n",
       "      <td>16.04</td>\n",
       "      <td>-</td>\n",
       "      <td>-</td>\n",
       "      <td>-</td>\n",
       "      <td>-</td>\n",
       "      <td>19.33</td>\n",
       "      <td>38.08</td>\n",
       "      <td>22.20</td>\n",
       "      <td>22.06</td>\n",
       "      <td>39.17</td>\n",
       "      <td>-</td>\n",
       "      <td>-</td>\n",
       "    </tr>\n",
       "    <tr>\n",
       "      <th>3</th>\n",
       "      <td>Jan 1, 2015</td>\n",
       "      <td>3:00 AM</td>\n",
       "      <td>-</td>\n",
       "      <td>14.60</td>\n",
       "      <td>14.60</td>\n",
       "      <td>-</td>\n",
       "      <td>-</td>\n",
       "      <td>-</td>\n",
       "      <td>-</td>\n",
       "      <td>17.66</td>\n",
       "      <td>35.47</td>\n",
       "      <td>19.56</td>\n",
       "      <td>20.27</td>\n",
       "      <td>26.93</td>\n",
       "      <td>-</td>\n",
       "      <td>-</td>\n",
       "    </tr>\n",
       "    <tr>\n",
       "      <th>4</th>\n",
       "      <td>Jan 1, 2015</td>\n",
       "      <td>4:00 AM</td>\n",
       "      <td>-</td>\n",
       "      <td>14.95</td>\n",
       "      <td>14.95</td>\n",
       "      <td>-</td>\n",
       "      <td>-</td>\n",
       "      <td>-</td>\n",
       "      <td>-</td>\n",
       "      <td>17.53</td>\n",
       "      <td>30.83</td>\n",
       "      <td>18.88</td>\n",
       "      <td>19.17</td>\n",
       "      <td>20.94</td>\n",
       "      <td>-</td>\n",
       "      <td>-</td>\n",
       "    </tr>\n",
       "  </tbody>\n",
       "</table>\n",
       "</div>"
      ],
      "text/plain": [
       "          Date Time of day Germany/Luxembourg[Euro/MWh]  Denmark 1[Euro/MWh]  \\\n",
       "0  Jan 1, 2015    12:00 AM                            -                25.02   \n",
       "1  Jan 1, 2015     1:00 AM                            -                18.29   \n",
       "2  Jan 1, 2015     2:00 AM                            -                16.04   \n",
       "3  Jan 1, 2015     3:00 AM                            -                14.60   \n",
       "4  Jan 1, 2015     4:00 AM                            -                14.95   \n",
       "\n",
       "   Denmark 2[Euro/MWh] France[Euro/MWh] Northern Italy[Euro/MWh]  \\\n",
       "0                27.38                -                        -   \n",
       "1                18.29                -                        -   \n",
       "2                16.04                -                        -   \n",
       "3                14.60                -                        -   \n",
       "4                14.95                -                        -   \n",
       "\n",
       "  Netherlands[Euro/MWh] Poland[Euro/MWh]  Sweden 4[Euro/MWh]  \\\n",
       "0                     -                -               27.38   \n",
       "1                     -                -               23.37   \n",
       "2                     -                -               19.33   \n",
       "3                     -                -               17.66   \n",
       "4                     -                -               17.53   \n",
       "\n",
       "  Switzerland[Euro/MWh]  Slovenia[Euro/MWh] Czech Republic[Euro/MWh]  \\\n",
       "0                 44.94               27.30                    26.48   \n",
       "1                 43.43               23.25                     24.2   \n",
       "2                 38.08               22.20                    22.06   \n",
       "3                 35.47               19.56                    20.27   \n",
       "4                 30.83               18.88                    19.17   \n",
       "\n",
       "   Hungary[Euro/MWh] Austria[Euro/MWh] Germany/Austria/Luxembourg[Euro/MWh]  \n",
       "0              45.07                 -                                    -  \n",
       "1              44.16                 -                                    -  \n",
       "2              39.17                 -                                    -  \n",
       "3              26.93                 -                                    -  \n",
       "4              20.94                 -                                    -  "
      ]
     },
     "execution_count": 23,
     "metadata": {},
     "output_type": "execute_result"
    }
   ],
   "source": [
    "price1.head()"
   ]
  },
  {
   "cell_type": "code",
   "execution_count": 24,
   "metadata": {},
   "outputs": [
    {
     "data": {
      "text/html": [
       "<div>\n",
       "<style scoped>\n",
       "    .dataframe tbody tr th:only-of-type {\n",
       "        vertical-align: middle;\n",
       "    }\n",
       "\n",
       "    .dataframe tbody tr th {\n",
       "        vertical-align: top;\n",
       "    }\n",
       "\n",
       "    .dataframe thead th {\n",
       "        text-align: right;\n",
       "    }\n",
       "</style>\n",
       "<table border=\"1\" class=\"dataframe\">\n",
       "  <thead>\n",
       "    <tr style=\"text-align: right;\">\n",
       "      <th></th>\n",
       "      <th>Date</th>\n",
       "      <th>Time of day</th>\n",
       "      <th>Germany/Luxembourg[Euro/MWh]</th>\n",
       "      <th>Denmark 1[Euro/MWh]</th>\n",
       "      <th>Denmark 2[Euro/MWh]</th>\n",
       "      <th>France[Euro/MWh]</th>\n",
       "      <th>Northern Italy[Euro/MWh]</th>\n",
       "      <th>Netherlands[Euro/MWh]</th>\n",
       "      <th>Poland[Euro/MWh]</th>\n",
       "      <th>Sweden 4[Euro/MWh]</th>\n",
       "      <th>Switzerland[Euro/MWh]</th>\n",
       "      <th>Slovenia[Euro/MWh]</th>\n",
       "      <th>Czech Republic[Euro/MWh]</th>\n",
       "      <th>Hungary[Euro/MWh]</th>\n",
       "      <th>Austria[Euro/MWh]</th>\n",
       "      <th>Germany/Austria/Luxembourg[Euro/MWh]</th>\n",
       "    </tr>\n",
       "  </thead>\n",
       "  <tbody>\n",
       "    <tr>\n",
       "      <th>0</th>\n",
       "      <td>Jan 1, 2017</td>\n",
       "      <td>12:00 AM</td>\n",
       "      <td>-</td>\n",
       "      <td>20.96</td>\n",
       "      <td>20.96</td>\n",
       "      <td>58.82</td>\n",
       "      <td>53</td>\n",
       "      <td>42</td>\n",
       "      <td>24.03</td>\n",
       "      <td>24.03</td>\n",
       "      <td>57.04</td>\n",
       "      <td>53.00</td>\n",
       "      <td>18.5</td>\n",
       "      <td>57.25</td>\n",
       "      <td>-</td>\n",
       "      <td>20.96</td>\n",
       "    </tr>\n",
       "    <tr>\n",
       "      <th>1</th>\n",
       "      <td>Jan 1, 2017</td>\n",
       "      <td>1:00 AM</td>\n",
       "      <td>-</td>\n",
       "      <td>20.90</td>\n",
       "      <td>20.90</td>\n",
       "      <td>58.23</td>\n",
       "      <td>52</td>\n",
       "      <td>49.94</td>\n",
       "      <td>24.03</td>\n",
       "      <td>24.03</td>\n",
       "      <td>51.94</td>\n",
       "      <td>52.00</td>\n",
       "      <td>13.0</td>\n",
       "      <td>50.21</td>\n",
       "      <td>-</td>\n",
       "      <td>20.9</td>\n",
       "    </tr>\n",
       "    <tr>\n",
       "      <th>2</th>\n",
       "      <td>Jan 1, 2017</td>\n",
       "      <td>2:00 AM</td>\n",
       "      <td>-</td>\n",
       "      <td>18.13</td>\n",
       "      <td>18.13</td>\n",
       "      <td>51.95</td>\n",
       "      <td>51</td>\n",
       "      <td>51.95</td>\n",
       "      <td>24.02</td>\n",
       "      <td>24.02</td>\n",
       "      <td>49.07</td>\n",
       "      <td>51.00</td>\n",
       "      <td>16.0</td>\n",
       "      <td>44.04</td>\n",
       "      <td>-</td>\n",
       "      <td>18.13</td>\n",
       "    </tr>\n",
       "    <tr>\n",
       "      <th>3</th>\n",
       "      <td>Jan 1, 2017</td>\n",
       "      <td>3:00 AM</td>\n",
       "      <td>-</td>\n",
       "      <td>16.03</td>\n",
       "      <td>16.03</td>\n",
       "      <td>47.27</td>\n",
       "      <td>47.27</td>\n",
       "      <td>40.99</td>\n",
       "      <td>23.04</td>\n",
       "      <td>23.19</td>\n",
       "      <td>45.01</td>\n",
       "      <td>47.27</td>\n",
       "      <td>16.4</td>\n",
       "      <td>32.81</td>\n",
       "      <td>-</td>\n",
       "      <td>16.03</td>\n",
       "    </tr>\n",
       "    <tr>\n",
       "      <th>4</th>\n",
       "      <td>Jan 1, 2017</td>\n",
       "      <td>4:00 AM</td>\n",
       "      <td>-</td>\n",
       "      <td>16.43</td>\n",
       "      <td>16.43</td>\n",
       "      <td>45.49</td>\n",
       "      <td>45.49</td>\n",
       "      <td>39</td>\n",
       "      <td>18.87</td>\n",
       "      <td>24.1</td>\n",
       "      <td>42.4</td>\n",
       "      <td>45.49</td>\n",
       "      <td>16.0</td>\n",
       "      <td>28.41</td>\n",
       "      <td>-</td>\n",
       "      <td>16.43</td>\n",
       "    </tr>\n",
       "  </tbody>\n",
       "</table>\n",
       "</div>"
      ],
      "text/plain": [
       "          Date Time of day Germany/Luxembourg[Euro/MWh]  Denmark 1[Euro/MWh]  \\\n",
       "0  Jan 1, 2017    12:00 AM                            -                20.96   \n",
       "1  Jan 1, 2017     1:00 AM                            -                20.90   \n",
       "2  Jan 1, 2017     2:00 AM                            -                18.13   \n",
       "3  Jan 1, 2017     3:00 AM                            -                16.03   \n",
       "4  Jan 1, 2017     4:00 AM                            -                16.43   \n",
       "\n",
       "   Denmark 2[Euro/MWh] France[Euro/MWh] Northern Italy[Euro/MWh]  \\\n",
       "0                20.96            58.82                       53   \n",
       "1                20.90            58.23                       52   \n",
       "2                18.13            51.95                       51   \n",
       "3                16.03            47.27                    47.27   \n",
       "4                16.43            45.49                    45.49   \n",
       "\n",
       "  Netherlands[Euro/MWh] Poland[Euro/MWh] Sweden 4[Euro/MWh]  \\\n",
       "0                    42            24.03              24.03   \n",
       "1                 49.94            24.03              24.03   \n",
       "2                 51.95            24.02              24.02   \n",
       "3                 40.99            23.04              23.19   \n",
       "4                    39            18.87               24.1   \n",
       "\n",
       "  Switzerland[Euro/MWh]  Slovenia[Euro/MWh]  Czech Republic[Euro/MWh]  \\\n",
       "0                 57.04               53.00                      18.5   \n",
       "1                 51.94               52.00                      13.0   \n",
       "2                 49.07               51.00                      16.0   \n",
       "3                 45.01               47.27                      16.4   \n",
       "4                  42.4               45.49                      16.0   \n",
       "\n",
       "  Hungary[Euro/MWh] Austria[Euro/MWh] Germany/Austria/Luxembourg[Euro/MWh]  \n",
       "0             57.25                 -                                20.96  \n",
       "1             50.21                 -                                 20.9  \n",
       "2             44.04                 -                                18.13  \n",
       "3             32.81                 -                                16.03  \n",
       "4             28.41                 -                                16.43  "
      ]
     },
     "execution_count": 24,
     "metadata": {},
     "output_type": "execute_result"
    }
   ],
   "source": [
    "price2.head()"
   ]
  },
  {
   "cell_type": "code",
   "execution_count": 25,
   "metadata": {},
   "outputs": [
    {
     "data": {
      "text/html": [
       "<div>\n",
       "<style scoped>\n",
       "    .dataframe tbody tr th:only-of-type {\n",
       "        vertical-align: middle;\n",
       "    }\n",
       "\n",
       "    .dataframe tbody tr th {\n",
       "        vertical-align: top;\n",
       "    }\n",
       "\n",
       "    .dataframe thead th {\n",
       "        text-align: right;\n",
       "    }\n",
       "</style>\n",
       "<table border=\"1\" class=\"dataframe\">\n",
       "  <thead>\n",
       "    <tr style=\"text-align: right;\">\n",
       "      <th></th>\n",
       "      <th>Date</th>\n",
       "      <th>Time of day</th>\n",
       "      <th>Germany/Luxembourg[Euro/MWh]</th>\n",
       "      <th>Denmark 1[Euro/MWh]</th>\n",
       "      <th>Denmark 2[Euro/MWh]</th>\n",
       "      <th>France[Euro/MWh]</th>\n",
       "      <th>Northern Italy[Euro/MWh]</th>\n",
       "      <th>Netherlands[Euro/MWh]</th>\n",
       "      <th>Poland[Euro/MWh]</th>\n",
       "      <th>Sweden 4[Euro/MWh]</th>\n",
       "      <th>Switzerland[Euro/MWh]</th>\n",
       "      <th>Slovenia[Euro/MWh]</th>\n",
       "      <th>Czech Republic[Euro/MWh]</th>\n",
       "      <th>Hungary[Euro/MWh]</th>\n",
       "      <th>Austria[Euro/MWh]</th>\n",
       "      <th>Germany/Austria/Luxembourg[Euro/MWh]</th>\n",
       "    </tr>\n",
       "  </thead>\n",
       "  <tbody>\n",
       "    <tr>\n",
       "      <th>0</th>\n",
       "      <td>Jan 1, 2019</td>\n",
       "      <td>12:00 AM</td>\n",
       "      <td>28.32</td>\n",
       "      <td>28.32</td>\n",
       "      <td>28.32</td>\n",
       "      <td>51</td>\n",
       "      <td>-</td>\n",
       "      <td>68.92</td>\n",
       "      <td>-</td>\n",
       "      <td>28.32</td>\n",
       "      <td>50.26</td>\n",
       "      <td>51</td>\n",
       "      <td>8.5</td>\n",
       "      <td>59.9</td>\n",
       "      <td>33.48</td>\n",
       "      <td>-</td>\n",
       "    </tr>\n",
       "    <tr>\n",
       "      <th>1</th>\n",
       "      <td>Jan 1, 2019</td>\n",
       "      <td>1:00 AM</td>\n",
       "      <td>10.07</td>\n",
       "      <td>10.07</td>\n",
       "      <td>10.07</td>\n",
       "      <td>46.27</td>\n",
       "      <td>-</td>\n",
       "      <td>64.98</td>\n",
       "      <td>-</td>\n",
       "      <td>10.07</td>\n",
       "      <td>48.74</td>\n",
       "      <td>46.27</td>\n",
       "      <td>3.97</td>\n",
       "      <td>52.71</td>\n",
       "      <td>39.76</td>\n",
       "      <td>-</td>\n",
       "    </tr>\n",
       "    <tr>\n",
       "      <th>2</th>\n",
       "      <td>Jan 1, 2019</td>\n",
       "      <td>2:00 AM</td>\n",
       "      <td>-4.08</td>\n",
       "      <td>-4.08</td>\n",
       "      <td>-4.08</td>\n",
       "      <td>39.78</td>\n",
       "      <td>-</td>\n",
       "      <td>60.27</td>\n",
       "      <td>-</td>\n",
       "      <td>10.03</td>\n",
       "      <td>47.24</td>\n",
       "      <td>39.78</td>\n",
       "      <td>4.7</td>\n",
       "      <td>36.49</td>\n",
       "      <td>39.78</td>\n",
       "      <td>-</td>\n",
       "    </tr>\n",
       "    <tr>\n",
       "      <th>3</th>\n",
       "      <td>Jan 1, 2019</td>\n",
       "      <td>3:00 AM</td>\n",
       "      <td>-9.91</td>\n",
       "      <td>-9.91</td>\n",
       "      <td>-9.91</td>\n",
       "      <td>27.87</td>\n",
       "      <td>-</td>\n",
       "      <td>49.97</td>\n",
       "      <td>-</td>\n",
       "      <td>4.56</td>\n",
       "      <td>36.29</td>\n",
       "      <td>27.87</td>\n",
       "      <td>0.93</td>\n",
       "      <td>31.24</td>\n",
       "      <td>27.87</td>\n",
       "      <td>-</td>\n",
       "    </tr>\n",
       "    <tr>\n",
       "      <th>4</th>\n",
       "      <td>Jan 1, 2019</td>\n",
       "      <td>4:00 AM</td>\n",
       "      <td>-7.41</td>\n",
       "      <td>-7.41</td>\n",
       "      <td>-7.41</td>\n",
       "      <td>23.21</td>\n",
       "      <td>-</td>\n",
       "      <td>47.66</td>\n",
       "      <td>-</td>\n",
       "      <td>4.83</td>\n",
       "      <td>30.09</td>\n",
       "      <td>-0.36</td>\n",
       "      <td>3.9</td>\n",
       "      <td>25.98</td>\n",
       "      <td>-0.36</td>\n",
       "      <td>-</td>\n",
       "    </tr>\n",
       "  </tbody>\n",
       "</table>\n",
       "</div>"
      ],
      "text/plain": [
       "          Date Time of day Germany/Luxembourg[Euro/MWh] Denmark 1[Euro/MWh]  \\\n",
       "0  Jan 1, 2019    12:00 AM                        28.32               28.32   \n",
       "1  Jan 1, 2019     1:00 AM                        10.07               10.07   \n",
       "2  Jan 1, 2019     2:00 AM                        -4.08               -4.08   \n",
       "3  Jan 1, 2019     3:00 AM                        -9.91               -9.91   \n",
       "4  Jan 1, 2019     4:00 AM                        -7.41               -7.41   \n",
       "\n",
       "  Denmark 2[Euro/MWh] France[Euro/MWh] Northern Italy[Euro/MWh]  \\\n",
       "0               28.32               51                        -   \n",
       "1               10.07            46.27                        -   \n",
       "2               -4.08            39.78                        -   \n",
       "3               -9.91            27.87                        -   \n",
       "4               -7.41            23.21                        -   \n",
       "\n",
       "  Netherlands[Euro/MWh] Poland[Euro/MWh] Sweden 4[Euro/MWh]  \\\n",
       "0                 68.92                -              28.32   \n",
       "1                 64.98                -              10.07   \n",
       "2                 60.27                -              10.03   \n",
       "3                 49.97                -               4.56   \n",
       "4                 47.66                -               4.83   \n",
       "\n",
       "  Switzerland[Euro/MWh] Slovenia[Euro/MWh] Czech Republic[Euro/MWh]  \\\n",
       "0                 50.26                 51                      8.5   \n",
       "1                 48.74              46.27                     3.97   \n",
       "2                 47.24              39.78                      4.7   \n",
       "3                 36.29              27.87                     0.93   \n",
       "4                 30.09              -0.36                      3.9   \n",
       "\n",
       "  Hungary[Euro/MWh] Austria[Euro/MWh] Germany/Austria/Luxembourg[Euro/MWh]  \n",
       "0              59.9             33.48                                    -  \n",
       "1             52.71             39.76                                    -  \n",
       "2             36.49             39.78                                    -  \n",
       "3             31.24             27.87                                    -  \n",
       "4             25.98             -0.36                                    -  "
      ]
     },
     "execution_count": 25,
     "metadata": {},
     "output_type": "execute_result"
    }
   ],
   "source": [
    "price3.head()"
   ]
  },
  {
   "cell_type": "markdown",
   "metadata": {},
   "source": [
    "All the Datasets have benn imported successfully. "
   ]
  },
  {
   "cell_type": "markdown",
   "metadata": {},
   "source": [
    "## Transform"
   ]
  },
  {
   "cell_type": "markdown",
   "metadata": {},
   "source": [
    "**We start by merging data**."
   ]
  },
  {
   "cell_type": "code",
   "execution_count": 26,
   "metadata": {},
   "outputs": [
    {
     "name": "stdout",
     "output_type": "stream",
     "text": [
      "(179326, 3)\n"
     ]
    }
   ],
   "source": [
    "consumption= pd.concat([consumption1,consumption2,consumption3], axis=0)\n",
    "print(consumption.shape)"
   ]
  },
  {
   "cell_type": "code",
   "execution_count": 27,
   "metadata": {},
   "outputs": [
    {
     "name": "stdout",
     "output_type": "stream",
     "text": [
      "(179326, 16)\n"
     ]
    }
   ],
   "source": [
    "generation= pd.concat([generation1,generation2,generation3], axis=0)\n",
    "print(generation.shape)"
   ]
  },
  {
   "cell_type": "code",
   "execution_count": 260,
   "metadata": {},
   "outputs": [
    {
     "name": "stdout",
     "output_type": "stream",
     "text": [
      "(8, 14)\n"
     ]
    }
   ],
   "source": [
    "installed= pd.concat([installed1,installed2,installed3], axis=0)\n",
    "print(installed.shape)"
   ]
  },
  {
   "cell_type": "code",
   "execution_count": 29,
   "metadata": {},
   "outputs": [
    {
     "name": "stdout",
     "output_type": "stream",
     "text": [
      "(44832, 16)\n"
     ]
    }
   ],
   "source": [
    "price= pd.concat([price1,price2,price3], axis=0)\n",
    "print(price.shape)"
   ]
  },
  {
   "cell_type": "markdown",
   "metadata": {},
   "source": [
    "**Let's explore datasets.**"
   ]
  },
  {
   "cell_type": "markdown",
   "metadata": {},
   "source": [
    "* **Electricity Consumption Dataset**"
   ]
  },
  {
   "cell_type": "code",
   "execution_count": 30,
   "metadata": {},
   "outputs": [
    {
     "name": "stdout",
     "output_type": "stream",
     "text": [
      "<class 'pandas.core.frame.DataFrame'>\n",
      "Int64Index: 179326 entries, 0 to 38879\n",
      "Data columns (total 3 columns):\n",
      " #   Column       Non-Null Count   Dtype \n",
      "---  ------       --------------   ----- \n",
      " 0   Date         179326 non-null  object\n",
      " 1   Time of day  179326 non-null  object\n",
      " 2   Total[MWh]   179326 non-null  object\n",
      "dtypes: object(3)\n",
      "memory usage: 5.5+ MB\n"
     ]
    }
   ],
   "source": [
    "consumption.info()"
   ]
  },
  {
   "cell_type": "code",
   "execution_count": 31,
   "metadata": {},
   "outputs": [
    {
     "data": {
      "text/html": [
       "<div>\n",
       "<style scoped>\n",
       "    .dataframe tbody tr th:only-of-type {\n",
       "        vertical-align: middle;\n",
       "    }\n",
       "\n",
       "    .dataframe tbody tr th {\n",
       "        vertical-align: top;\n",
       "    }\n",
       "\n",
       "    .dataframe thead th {\n",
       "        text-align: right;\n",
       "    }\n",
       "</style>\n",
       "<table border=\"1\" class=\"dataframe\">\n",
       "  <thead>\n",
       "    <tr style=\"text-align: right;\">\n",
       "      <th></th>\n",
       "      <th>Date</th>\n",
       "      <th>Time of day</th>\n",
       "      <th>Total[MWh]</th>\n",
       "    </tr>\n",
       "  </thead>\n",
       "  <tbody>\n",
       "    <tr>\n",
       "      <th>count</th>\n",
       "      <td>179326</td>\n",
       "      <td>179326</td>\n",
       "      <td>179326</td>\n",
       "    </tr>\n",
       "    <tr>\n",
       "      <th>unique</th>\n",
       "      <td>1866</td>\n",
       "      <td>96</td>\n",
       "      <td>39021</td>\n",
       "    </tr>\n",
       "    <tr>\n",
       "      <th>top</th>\n",
       "      <td>Jan 1, 2019</td>\n",
       "      <td>2:00 AM</td>\n",
       "      <td>-</td>\n",
       "    </tr>\n",
       "    <tr>\n",
       "      <th>freq</th>\n",
       "      <td>191</td>\n",
       "      <td>1868</td>\n",
       "      <td>612</td>\n",
       "    </tr>\n",
       "  </tbody>\n",
       "</table>\n",
       "</div>"
      ],
      "text/plain": [
       "               Date Time of day Total[MWh]\n",
       "count        179326      179326     179326\n",
       "unique         1866          96      39021\n",
       "top     Jan 1, 2019     2:00 AM          -\n",
       "freq            191        1868        612"
      ]
     },
     "execution_count": 31,
     "metadata": {},
     "output_type": "execute_result"
    }
   ],
   "source": [
    "consumption.describe()"
   ]
  },
  {
   "cell_type": "markdown",
   "metadata": {},
   "source": [
    "There isn't any NaN value. But the data types are not correct."
   ]
  },
  {
   "cell_type": "code",
   "execution_count": 32,
   "metadata": {},
   "outputs": [
    {
     "data": {
      "text/plain": [
       "190"
      ]
     },
     "execution_count": 32,
     "metadata": {},
     "output_type": "execute_result"
    }
   ],
   "source": [
    "# Check for duplicates\n",
    "consumption.duplicated().sum()"
   ]
  },
  {
   "cell_type": "code",
   "execution_count": 33,
   "metadata": {},
   "outputs": [],
   "source": [
    "consumption.drop_duplicates(inplace=True)"
   ]
  },
  {
   "cell_type": "code",
   "execution_count": 34,
   "metadata": {},
   "outputs": [
    {
     "data": {
      "text/plain": [
       "0"
      ]
     },
     "execution_count": 34,
     "metadata": {},
     "output_type": "execute_result"
    }
   ],
   "source": [
    "consumption.duplicated().sum()"
   ]
  },
  {
   "cell_type": "markdown",
   "metadata": {},
   "source": [
    "**Correct Datatypes**"
   ]
  },
  {
   "cell_type": "code",
   "execution_count": 35,
   "metadata": {},
   "outputs": [
    {
     "data": {
      "text/html": [
       "<div>\n",
       "<style scoped>\n",
       "    .dataframe tbody tr th:only-of-type {\n",
       "        vertical-align: middle;\n",
       "    }\n",
       "\n",
       "    .dataframe tbody tr th {\n",
       "        vertical-align: top;\n",
       "    }\n",
       "\n",
       "    .dataframe thead th {\n",
       "        text-align: right;\n",
       "    }\n",
       "</style>\n",
       "<table border=\"1\" class=\"dataframe\">\n",
       "  <thead>\n",
       "    <tr style=\"text-align: right;\">\n",
       "      <th></th>\n",
       "      <th>Date</th>\n",
       "      <th>Time of day</th>\n",
       "      <th>Total[MWh]</th>\n",
       "    </tr>\n",
       "  </thead>\n",
       "  <tbody>\n",
       "    <tr>\n",
       "      <th>0</th>\n",
       "      <td>Jan 1, 2015</td>\n",
       "      <td>12:00 AM</td>\n",
       "      <td>10,606.25</td>\n",
       "    </tr>\n",
       "    <tr>\n",
       "      <th>1</th>\n",
       "      <td>Jan 1, 2015</td>\n",
       "      <td>12:15 AM</td>\n",
       "      <td>10,505.25</td>\n",
       "    </tr>\n",
       "    <tr>\n",
       "      <th>2</th>\n",
       "      <td>Jan 1, 2015</td>\n",
       "      <td>12:30 AM</td>\n",
       "      <td>10,517</td>\n",
       "    </tr>\n",
       "    <tr>\n",
       "      <th>3</th>\n",
       "      <td>Jan 1, 2015</td>\n",
       "      <td>12:45 AM</td>\n",
       "      <td>10,468.5</td>\n",
       "    </tr>\n",
       "    <tr>\n",
       "      <th>4</th>\n",
       "      <td>Jan 1, 2015</td>\n",
       "      <td>1:00 AM</td>\n",
       "      <td>10,307.5</td>\n",
       "    </tr>\n",
       "  </tbody>\n",
       "</table>\n",
       "</div>"
      ],
      "text/plain": [
       "          Date Time of day Total[MWh]\n",
       "0  Jan 1, 2015    12:00 AM  10,606.25\n",
       "1  Jan 1, 2015    12:15 AM  10,505.25\n",
       "2  Jan 1, 2015    12:30 AM     10,517\n",
       "3  Jan 1, 2015    12:45 AM   10,468.5\n",
       "4  Jan 1, 2015     1:00 AM   10,307.5"
      ]
     },
     "execution_count": 35,
     "metadata": {},
     "output_type": "execute_result"
    }
   ],
   "source": [
    "consumption.head(5)"
   ]
  },
  {
   "cell_type": "code",
   "execution_count": 36,
   "metadata": {},
   "outputs": [],
   "source": [
    "consumption['timestamp']= consumption.apply(lambda x: (x['Date']+x['Time of day']), axis=1 )\\\n",
    "                                     .apply(lambda x: datetime.strptime(x, '%b %d, %Y%I:%M %p'))\\\n",
    "                                     .apply(lambda x: pd.to_datetime(x))"
   ]
  },
  {
   "cell_type": "code",
   "execution_count": 37,
   "metadata": {},
   "outputs": [
    {
     "data": {
      "text/html": [
       "<div>\n",
       "<style scoped>\n",
       "    .dataframe tbody tr th:only-of-type {\n",
       "        vertical-align: middle;\n",
       "    }\n",
       "\n",
       "    .dataframe tbody tr th {\n",
       "        vertical-align: top;\n",
       "    }\n",
       "\n",
       "    .dataframe thead th {\n",
       "        text-align: right;\n",
       "    }\n",
       "</style>\n",
       "<table border=\"1\" class=\"dataframe\">\n",
       "  <thead>\n",
       "    <tr style=\"text-align: right;\">\n",
       "      <th></th>\n",
       "      <th>Date</th>\n",
       "      <th>Time of day</th>\n",
       "      <th>Total[MWh]</th>\n",
       "      <th>timestamp</th>\n",
       "    </tr>\n",
       "  </thead>\n",
       "  <tbody>\n",
       "    <tr>\n",
       "      <th>0</th>\n",
       "      <td>Jan 1, 2015</td>\n",
       "      <td>12:00 AM</td>\n",
       "      <td>10,606.25</td>\n",
       "      <td>2015-01-01 00:00:00</td>\n",
       "    </tr>\n",
       "    <tr>\n",
       "      <th>1</th>\n",
       "      <td>Jan 1, 2015</td>\n",
       "      <td>12:15 AM</td>\n",
       "      <td>10,505.25</td>\n",
       "      <td>2015-01-01 00:15:00</td>\n",
       "    </tr>\n",
       "    <tr>\n",
       "      <th>2</th>\n",
       "      <td>Jan 1, 2015</td>\n",
       "      <td>12:30 AM</td>\n",
       "      <td>10,517</td>\n",
       "      <td>2015-01-01 00:30:00</td>\n",
       "    </tr>\n",
       "    <tr>\n",
       "      <th>3</th>\n",
       "      <td>Jan 1, 2015</td>\n",
       "      <td>12:45 AM</td>\n",
       "      <td>10,468.5</td>\n",
       "      <td>2015-01-01 00:45:00</td>\n",
       "    </tr>\n",
       "    <tr>\n",
       "      <th>4</th>\n",
       "      <td>Jan 1, 2015</td>\n",
       "      <td>1:00 AM</td>\n",
       "      <td>10,307.5</td>\n",
       "      <td>2015-01-01 01:00:00</td>\n",
       "    </tr>\n",
       "  </tbody>\n",
       "</table>\n",
       "</div>"
      ],
      "text/plain": [
       "          Date Time of day Total[MWh]           timestamp\n",
       "0  Jan 1, 2015    12:00 AM  10,606.25 2015-01-01 00:00:00\n",
       "1  Jan 1, 2015    12:15 AM  10,505.25 2015-01-01 00:15:00\n",
       "2  Jan 1, 2015    12:30 AM     10,517 2015-01-01 00:30:00\n",
       "3  Jan 1, 2015    12:45 AM   10,468.5 2015-01-01 00:45:00\n",
       "4  Jan 1, 2015     1:00 AM   10,307.5 2015-01-01 01:00:00"
      ]
     },
     "execution_count": 37,
     "metadata": {},
     "output_type": "execute_result"
    }
   ],
   "source": [
    "consumption.head()"
   ]
  },
  {
   "cell_type": "markdown",
   "metadata": {},
   "source": [
    "Date and times are successfully merged and turned into datetime format."
   ]
  },
  {
   "cell_type": "code",
   "execution_count": 39,
   "metadata": {},
   "outputs": [],
   "source": [
    "consumption['Total[MWh]']= consumption['Total[MWh]'].apply(lambda x: '0' if x=='-' else x)"
   ]
  },
  {
   "cell_type": "code",
   "execution_count": 40,
   "metadata": {},
   "outputs": [],
   "source": [
    "consumption['Total[MWh]']= consumption['Total[MWh]'].apply(lambda x: ''.join(x.split(','))).astype('float')"
   ]
  },
  {
   "cell_type": "code",
   "execution_count": 41,
   "metadata": {},
   "outputs": [
    {
     "data": {
      "text/html": [
       "<div>\n",
       "<style scoped>\n",
       "    .dataframe tbody tr th:only-of-type {\n",
       "        vertical-align: middle;\n",
       "    }\n",
       "\n",
       "    .dataframe tbody tr th {\n",
       "        vertical-align: top;\n",
       "    }\n",
       "\n",
       "    .dataframe thead th {\n",
       "        text-align: right;\n",
       "    }\n",
       "</style>\n",
       "<table border=\"1\" class=\"dataframe\">\n",
       "  <thead>\n",
       "    <tr style=\"text-align: right;\">\n",
       "      <th></th>\n",
       "      <th>Date</th>\n",
       "      <th>Time of day</th>\n",
       "      <th>Total[MWh]</th>\n",
       "      <th>timestamp</th>\n",
       "    </tr>\n",
       "  </thead>\n",
       "  <tbody>\n",
       "    <tr>\n",
       "      <th>0</th>\n",
       "      <td>Jan 1, 2015</td>\n",
       "      <td>12:00 AM</td>\n",
       "      <td>10606.25</td>\n",
       "      <td>2015-01-01 00:00:00</td>\n",
       "    </tr>\n",
       "    <tr>\n",
       "      <th>1</th>\n",
       "      <td>Jan 1, 2015</td>\n",
       "      <td>12:15 AM</td>\n",
       "      <td>10505.25</td>\n",
       "      <td>2015-01-01 00:15:00</td>\n",
       "    </tr>\n",
       "    <tr>\n",
       "      <th>2</th>\n",
       "      <td>Jan 1, 2015</td>\n",
       "      <td>12:30 AM</td>\n",
       "      <td>10517.00</td>\n",
       "      <td>2015-01-01 00:30:00</td>\n",
       "    </tr>\n",
       "    <tr>\n",
       "      <th>3</th>\n",
       "      <td>Jan 1, 2015</td>\n",
       "      <td>12:45 AM</td>\n",
       "      <td>10468.50</td>\n",
       "      <td>2015-01-01 00:45:00</td>\n",
       "    </tr>\n",
       "    <tr>\n",
       "      <th>4</th>\n",
       "      <td>Jan 1, 2015</td>\n",
       "      <td>1:00 AM</td>\n",
       "      <td>10307.50</td>\n",
       "      <td>2015-01-01 01:00:00</td>\n",
       "    </tr>\n",
       "  </tbody>\n",
       "</table>\n",
       "</div>"
      ],
      "text/plain": [
       "          Date Time of day  Total[MWh]           timestamp\n",
       "0  Jan 1, 2015    12:00 AM    10606.25 2015-01-01 00:00:00\n",
       "1  Jan 1, 2015    12:15 AM    10505.25 2015-01-01 00:15:00\n",
       "2  Jan 1, 2015    12:30 AM    10517.00 2015-01-01 00:30:00\n",
       "3  Jan 1, 2015    12:45 AM    10468.50 2015-01-01 00:45:00\n",
       "4  Jan 1, 2015     1:00 AM    10307.50 2015-01-01 01:00:00"
      ]
     },
     "execution_count": 41,
     "metadata": {},
     "output_type": "execute_result"
    }
   ],
   "source": [
    "consumption.head()"
   ]
  },
  {
   "cell_type": "markdown",
   "metadata": {},
   "source": [
    "**Keep necessary columns and drop others**"
   ]
  },
  {
   "cell_type": "code",
   "execution_count": 42,
   "metadata": {},
   "outputs": [],
   "source": [
    "consumption.drop(columns=['Date','Time of day'], inplace=True)"
   ]
  },
  {
   "cell_type": "code",
   "execution_count": 43,
   "metadata": {},
   "outputs": [],
   "source": [
    "consumption=consumption[['timestamp','Total[MWh]']]"
   ]
  },
  {
   "cell_type": "markdown",
   "metadata": {},
   "source": [
    "**Rename Columns**"
   ]
  },
  {
   "cell_type": "code",
   "execution_count": 44,
   "metadata": {},
   "outputs": [],
   "source": [
    "consumption.rename(columns={'Total[MWh]':'Electricity Consumption [MWh]'}, inplace=True)"
   ]
  },
  {
   "cell_type": "code",
   "execution_count": 45,
   "metadata": {},
   "outputs": [
    {
     "data": {
      "text/html": [
       "<div>\n",
       "<style scoped>\n",
       "    .dataframe tbody tr th:only-of-type {\n",
       "        vertical-align: middle;\n",
       "    }\n",
       "\n",
       "    .dataframe tbody tr th {\n",
       "        vertical-align: top;\n",
       "    }\n",
       "\n",
       "    .dataframe thead th {\n",
       "        text-align: right;\n",
       "    }\n",
       "</style>\n",
       "<table border=\"1\" class=\"dataframe\">\n",
       "  <thead>\n",
       "    <tr style=\"text-align: right;\">\n",
       "      <th></th>\n",
       "      <th>timestamp</th>\n",
       "      <th>Electricity Consumption [MWh]</th>\n",
       "    </tr>\n",
       "  </thead>\n",
       "  <tbody>\n",
       "    <tr>\n",
       "      <th>0</th>\n",
       "      <td>2015-01-01 00:00:00</td>\n",
       "      <td>10606.25</td>\n",
       "    </tr>\n",
       "    <tr>\n",
       "      <th>1</th>\n",
       "      <td>2015-01-01 00:15:00</td>\n",
       "      <td>10505.25</td>\n",
       "    </tr>\n",
       "    <tr>\n",
       "      <th>2</th>\n",
       "      <td>2015-01-01 00:30:00</td>\n",
       "      <td>10517.00</td>\n",
       "    </tr>\n",
       "    <tr>\n",
       "      <th>3</th>\n",
       "      <td>2015-01-01 00:45:00</td>\n",
       "      <td>10468.50</td>\n",
       "    </tr>\n",
       "    <tr>\n",
       "      <th>4</th>\n",
       "      <td>2015-01-01 01:00:00</td>\n",
       "      <td>10307.50</td>\n",
       "    </tr>\n",
       "  </tbody>\n",
       "</table>\n",
       "</div>"
      ],
      "text/plain": [
       "            timestamp  Electricity Consumption [MWh]\n",
       "0 2015-01-01 00:00:00                       10606.25\n",
       "1 2015-01-01 00:15:00                       10505.25\n",
       "2 2015-01-01 00:30:00                       10517.00\n",
       "3 2015-01-01 00:45:00                       10468.50\n",
       "4 2015-01-01 01:00:00                       10307.50"
      ]
     },
     "execution_count": 45,
     "metadata": {},
     "output_type": "execute_result"
    }
   ],
   "source": [
    "consumption.head()"
   ]
  },
  {
   "cell_type": "markdown",
   "metadata": {},
   "source": [
    "**Correct the data range**"
   ]
  },
  {
   "cell_type": "code",
   "execution_count": 46,
   "metadata": {},
   "outputs": [],
   "source": [
    "consumption= consumption[consumption.timestamp.apply(lambda x: x.year) != 2020]"
   ]
  },
  {
   "cell_type": "code",
   "execution_count": 47,
   "metadata": {},
   "outputs": [
    {
     "data": {
      "text/html": [
       "<div>\n",
       "<style scoped>\n",
       "    .dataframe tbody tr th:only-of-type {\n",
       "        vertical-align: middle;\n",
       "    }\n",
       "\n",
       "    .dataframe tbody tr th {\n",
       "        vertical-align: top;\n",
       "    }\n",
       "\n",
       "    .dataframe thead th {\n",
       "        text-align: right;\n",
       "    }\n",
       "</style>\n",
       "<table border=\"1\" class=\"dataframe\">\n",
       "  <thead>\n",
       "    <tr style=\"text-align: right;\">\n",
       "      <th></th>\n",
       "      <th>timestamp</th>\n",
       "      <th>Electricity Consumption [MWh]</th>\n",
       "    </tr>\n",
       "  </thead>\n",
       "  <tbody>\n",
       "    <tr>\n",
       "      <th>0</th>\n",
       "      <td>2015-01-01 00:00:00</td>\n",
       "      <td>10606.25</td>\n",
       "    </tr>\n",
       "    <tr>\n",
       "      <th>1</th>\n",
       "      <td>2015-01-01 00:15:00</td>\n",
       "      <td>10505.25</td>\n",
       "    </tr>\n",
       "    <tr>\n",
       "      <th>2</th>\n",
       "      <td>2015-01-01 00:30:00</td>\n",
       "      <td>10517.00</td>\n",
       "    </tr>\n",
       "    <tr>\n",
       "      <th>3</th>\n",
       "      <td>2015-01-01 00:45:00</td>\n",
       "      <td>10468.50</td>\n",
       "    </tr>\n",
       "    <tr>\n",
       "      <th>4</th>\n",
       "      <td>2015-01-01 01:00:00</td>\n",
       "      <td>10307.50</td>\n",
       "    </tr>\n",
       "  </tbody>\n",
       "</table>\n",
       "</div>"
      ],
      "text/plain": [
       "            timestamp  Electricity Consumption [MWh]\n",
       "0 2015-01-01 00:00:00                       10606.25\n",
       "1 2015-01-01 00:15:00                       10505.25\n",
       "2 2015-01-01 00:30:00                       10517.00\n",
       "3 2015-01-01 00:45:00                       10468.50\n",
       "4 2015-01-01 01:00:00                       10307.50"
      ]
     },
     "execution_count": 47,
     "metadata": {},
     "output_type": "execute_result"
    }
   ],
   "source": [
    "consumption.head()"
   ]
  },
  {
   "cell_type": "code",
   "execution_count": 48,
   "metadata": {},
   "outputs": [
    {
     "data": {
      "text/html": [
       "<div>\n",
       "<style scoped>\n",
       "    .dataframe tbody tr th:only-of-type {\n",
       "        vertical-align: middle;\n",
       "    }\n",
       "\n",
       "    .dataframe tbody tr th {\n",
       "        vertical-align: top;\n",
       "    }\n",
       "\n",
       "    .dataframe thead th {\n",
       "        text-align: right;\n",
       "    }\n",
       "</style>\n",
       "<table border=\"1\" class=\"dataframe\">\n",
       "  <thead>\n",
       "    <tr style=\"text-align: right;\">\n",
       "      <th></th>\n",
       "      <th>timestamp</th>\n",
       "      <th>Electricity Consumption [MWh]</th>\n",
       "    </tr>\n",
       "  </thead>\n",
       "  <tbody>\n",
       "    <tr>\n",
       "      <th>count</th>\n",
       "      <td>175296</td>\n",
       "      <td>175296.000000</td>\n",
       "    </tr>\n",
       "    <tr>\n",
       "      <th>unique</th>\n",
       "      <td>175276</td>\n",
       "      <td>NaN</td>\n",
       "    </tr>\n",
       "    <tr>\n",
       "      <th>top</th>\n",
       "      <td>2018-10-28 02:45:00</td>\n",
       "      <td>NaN</td>\n",
       "    </tr>\n",
       "    <tr>\n",
       "      <th>freq</th>\n",
       "      <td>2</td>\n",
       "      <td>NaN</td>\n",
       "    </tr>\n",
       "    <tr>\n",
       "      <th>first</th>\n",
       "      <td>2015-01-01 00:00:00</td>\n",
       "      <td>NaN</td>\n",
       "    </tr>\n",
       "    <tr>\n",
       "      <th>last</th>\n",
       "      <td>2019-12-31 23:45:00</td>\n",
       "      <td>NaN</td>\n",
       "    </tr>\n",
       "    <tr>\n",
       "      <th>mean</th>\n",
       "      <td>NaN</td>\n",
       "      <td>13951.906294</td>\n",
       "    </tr>\n",
       "    <tr>\n",
       "      <th>std</th>\n",
       "      <td>NaN</td>\n",
       "      <td>2512.825378</td>\n",
       "    </tr>\n",
       "    <tr>\n",
       "      <th>min</th>\n",
       "      <td>NaN</td>\n",
       "      <td>0.000000</td>\n",
       "    </tr>\n",
       "    <tr>\n",
       "      <th>25%</th>\n",
       "      <td>NaN</td>\n",
       "      <td>11859.000000</td>\n",
       "    </tr>\n",
       "    <tr>\n",
       "      <th>50%</th>\n",
       "      <td>NaN</td>\n",
       "      <td>13870.000000</td>\n",
       "    </tr>\n",
       "    <tr>\n",
       "      <th>75%</th>\n",
       "      <td>NaN</td>\n",
       "      <td>16161.250000</td>\n",
       "    </tr>\n",
       "    <tr>\n",
       "      <th>max</th>\n",
       "      <td>NaN</td>\n",
       "      <td>19870.250000</td>\n",
       "    </tr>\n",
       "  </tbody>\n",
       "</table>\n",
       "</div>"
      ],
      "text/plain": [
       "                  timestamp  Electricity Consumption [MWh]\n",
       "count                175296                  175296.000000\n",
       "unique               175276                            NaN\n",
       "top     2018-10-28 02:45:00                            NaN\n",
       "freq                      2                            NaN\n",
       "first   2015-01-01 00:00:00                            NaN\n",
       "last    2019-12-31 23:45:00                            NaN\n",
       "mean                    NaN                   13951.906294\n",
       "std                     NaN                    2512.825378\n",
       "min                     NaN                       0.000000\n",
       "25%                     NaN                   11859.000000\n",
       "50%                     NaN                   13870.000000\n",
       "75%                     NaN                   16161.250000\n",
       "max                     NaN                   19870.250000"
      ]
     },
     "execution_count": 48,
     "metadata": {},
     "output_type": "execute_result"
    }
   ],
   "source": [
    "consumption.describe(include='all')"
   ]
  },
  {
   "cell_type": "markdown",
   "metadata": {},
   "source": [
    "**Check duplicates again**"
   ]
  },
  {
   "cell_type": "code",
   "execution_count": 49,
   "metadata": {},
   "outputs": [
    {
     "data": {
      "text/plain": [
       "20"
      ]
     },
     "execution_count": 49,
     "metadata": {},
     "output_type": "execute_result"
    }
   ],
   "source": [
    "consumption.timestamp.duplicated().sum()"
   ]
  },
  {
   "cell_type": "code",
   "execution_count": 50,
   "metadata": {},
   "outputs": [
    {
     "data": {
      "text/html": [
       "<div>\n",
       "<style scoped>\n",
       "    .dataframe tbody tr th:only-of-type {\n",
       "        vertical-align: middle;\n",
       "    }\n",
       "\n",
       "    .dataframe tbody tr th {\n",
       "        vertical-align: top;\n",
       "    }\n",
       "\n",
       "    .dataframe thead th {\n",
       "        text-align: right;\n",
       "    }\n",
       "</style>\n",
       "<table border=\"1\" class=\"dataframe\">\n",
       "  <thead>\n",
       "    <tr style=\"text-align: right;\">\n",
       "      <th></th>\n",
       "      <th>timestamp</th>\n",
       "      <th>Electricity Consumption [MWh]</th>\n",
       "    </tr>\n",
       "  </thead>\n",
       "  <tbody>\n",
       "    <tr>\n",
       "      <th>28516</th>\n",
       "      <td>2015-10-25 02:00:00</td>\n",
       "      <td>9574.75</td>\n",
       "    </tr>\n",
       "    <tr>\n",
       "      <th>28520</th>\n",
       "      <td>2015-10-25 02:00:00</td>\n",
       "      <td>9477.00</td>\n",
       "    </tr>\n",
       "    <tr>\n",
       "      <th>28517</th>\n",
       "      <td>2015-10-25 02:15:00</td>\n",
       "      <td>9527.50</td>\n",
       "    </tr>\n",
       "    <tr>\n",
       "      <th>28521</th>\n",
       "      <td>2015-10-25 02:15:00</td>\n",
       "      <td>9425.75</td>\n",
       "    </tr>\n",
       "    <tr>\n",
       "      <th>28518</th>\n",
       "      <td>2015-10-25 02:30:00</td>\n",
       "      <td>9482.25</td>\n",
       "    </tr>\n",
       "    <tr>\n",
       "      <th>28522</th>\n",
       "      <td>2015-10-25 02:30:00</td>\n",
       "      <td>9479.50</td>\n",
       "    </tr>\n",
       "    <tr>\n",
       "      <th>28519</th>\n",
       "      <td>2015-10-25 02:45:00</td>\n",
       "      <td>9417.00</td>\n",
       "    </tr>\n",
       "    <tr>\n",
       "      <th>28523</th>\n",
       "      <td>2015-10-25 02:45:00</td>\n",
       "      <td>9424.25</td>\n",
       "    </tr>\n",
       "    <tr>\n",
       "      <th>64132</th>\n",
       "      <td>2016-10-30 02:00:00</td>\n",
       "      <td>9547.50</td>\n",
       "    </tr>\n",
       "    <tr>\n",
       "      <th>64136</th>\n",
       "      <td>2016-10-30 02:00:00</td>\n",
       "      <td>9445.50</td>\n",
       "    </tr>\n",
       "  </tbody>\n",
       "</table>\n",
       "</div>"
      ],
      "text/plain": [
       "                timestamp  Electricity Consumption [MWh]\n",
       "28516 2015-10-25 02:00:00                        9574.75\n",
       "28520 2015-10-25 02:00:00                        9477.00\n",
       "28517 2015-10-25 02:15:00                        9527.50\n",
       "28521 2015-10-25 02:15:00                        9425.75\n",
       "28518 2015-10-25 02:30:00                        9482.25\n",
       "28522 2015-10-25 02:30:00                        9479.50\n",
       "28519 2015-10-25 02:45:00                        9417.00\n",
       "28523 2015-10-25 02:45:00                        9424.25\n",
       "64132 2016-10-30 02:00:00                        9547.50\n",
       "64136 2016-10-30 02:00:00                        9445.50"
      ]
     },
     "execution_count": 50,
     "metadata": {},
     "output_type": "execute_result"
    }
   ],
   "source": [
    "consumption[consumption.timestamp.duplicated(keep=False)].sort_values(by='timestamp').head(10)"
   ]
  },
  {
   "cell_type": "markdown",
   "metadata": {},
   "source": [
    "**Drop duplicates**"
   ]
  },
  {
   "cell_type": "code",
   "execution_count": 51,
   "metadata": {},
   "outputs": [
    {
     "data": {
      "text/plain": [
       "(175296, 2)"
      ]
     },
     "execution_count": 51,
     "metadata": {},
     "output_type": "execute_result"
    }
   ],
   "source": [
    "consumption.shape"
   ]
  },
  {
   "cell_type": "code",
   "execution_count": 52,
   "metadata": {},
   "outputs": [],
   "source": [
    "consumption= consumption[~consumption.timestamp.duplicated()]"
   ]
  },
  {
   "cell_type": "code",
   "execution_count": 53,
   "metadata": {},
   "outputs": [
    {
     "data": {
      "text/plain": [
       "(175276, 2)"
      ]
     },
     "execution_count": 53,
     "metadata": {},
     "output_type": "execute_result"
    }
   ],
   "source": [
    "consumption.shape"
   ]
  },
  {
   "cell_type": "code",
   "execution_count": 54,
   "metadata": {},
   "outputs": [
    {
     "data": {
      "text/html": [
       "<div>\n",
       "<style scoped>\n",
       "    .dataframe tbody tr th:only-of-type {\n",
       "        vertical-align: middle;\n",
       "    }\n",
       "\n",
       "    .dataframe tbody tr th {\n",
       "        vertical-align: top;\n",
       "    }\n",
       "\n",
       "    .dataframe thead th {\n",
       "        text-align: right;\n",
       "    }\n",
       "</style>\n",
       "<table border=\"1\" class=\"dataframe\">\n",
       "  <thead>\n",
       "    <tr style=\"text-align: right;\">\n",
       "      <th></th>\n",
       "      <th>timestamp</th>\n",
       "      <th>Electricity Consumption [MWh]</th>\n",
       "    </tr>\n",
       "  </thead>\n",
       "  <tbody>\n",
       "    <tr>\n",
       "      <th>0</th>\n",
       "      <td>2015-01-01 00:00:00</td>\n",
       "      <td>10606.25</td>\n",
       "    </tr>\n",
       "    <tr>\n",
       "      <th>1</th>\n",
       "      <td>2015-01-01 00:15:00</td>\n",
       "      <td>10505.25</td>\n",
       "    </tr>\n",
       "    <tr>\n",
       "      <th>2</th>\n",
       "      <td>2015-01-01 00:30:00</td>\n",
       "      <td>10517.00</td>\n",
       "    </tr>\n",
       "    <tr>\n",
       "      <th>3</th>\n",
       "      <td>2015-01-01 00:45:00</td>\n",
       "      <td>10468.50</td>\n",
       "    </tr>\n",
       "    <tr>\n",
       "      <th>4</th>\n",
       "      <td>2015-01-01 01:00:00</td>\n",
       "      <td>10307.50</td>\n",
       "    </tr>\n",
       "  </tbody>\n",
       "</table>\n",
       "</div>"
      ],
      "text/plain": [
       "            timestamp  Electricity Consumption [MWh]\n",
       "0 2015-01-01 00:00:00                       10606.25\n",
       "1 2015-01-01 00:15:00                       10505.25\n",
       "2 2015-01-01 00:30:00                       10517.00\n",
       "3 2015-01-01 00:45:00                       10468.50\n",
       "4 2015-01-01 01:00:00                       10307.50"
      ]
     },
     "execution_count": 54,
     "metadata": {},
     "output_type": "execute_result"
    }
   ],
   "source": [
    "consumption.head()"
   ]
  },
  {
   "cell_type": "markdown",
   "metadata": {},
   "source": [
    "**Missing Timesteps**"
   ]
  },
  {
   "cell_type": "code",
   "execution_count": 55,
   "metadata": {},
   "outputs": [
    {
     "name": "stdout",
     "output_type": "stream",
     "text": [
      "Start Date and Time:  2015-01-01 00:00:00\n",
      "End Date and Time:    2019-12-31 23:45:00\n"
     ]
    }
   ],
   "source": [
    "print('Start Date and Time: ', consumption.timestamp.min())\n",
    "print('End Date and Time:   ', consumption.timestamp.max())"
   ]
  },
  {
   "cell_type": "code",
   "execution_count": 56,
   "metadata": {},
   "outputs": [],
   "source": [
    "must_be_timesteps= (consumption.timestamp.max()-consumption.timestamp.min())/pd.to_timedelta(15, unit='m')+1"
   ]
  },
  {
   "cell_type": "code",
   "execution_count": 57,
   "metadata": {},
   "outputs": [
    {
     "name": "stdout",
     "output_type": "stream",
     "text": [
      "Existing Timesteps:  175276\n",
      "Target Timesteps:    175296.0\n",
      "missing Timesteps:   20.0\n"
     ]
    }
   ],
   "source": [
    "print('Existing Timesteps: ', consumption.shape[0])\n",
    "print('Target Timesteps:   ', must_be_timesteps)\n",
    "print('missing Timesteps:  ', must_be_timesteps-consumption.shape[0])"
   ]
  },
  {
   "cell_type": "code",
   "execution_count": 58,
   "metadata": {},
   "outputs": [],
   "source": [
    "# creating reference DatetimeIndex idx_ref with a 15-minute frequency\n",
    "idx_ref = pd.date_range(start=consumption.timestamp.min(), end=consumption.timestamp.max(),freq='15min')\n",
    "\n",
    "# idx_dat represents your DatetimeIndex from the sensor\n",
    "gaps = idx_ref[~idx_ref.isin(consumption.timestamp)]"
   ]
  },
  {
   "cell_type": "code",
   "execution_count": 64,
   "metadata": {},
   "outputs": [
    {
     "data": {
      "text/plain": [
       "DatetimeIndex(['2015-03-29 02:00:00', '2015-03-29 02:15:00',\n",
       "               '2015-03-29 02:30:00', '2015-03-29 02:45:00',\n",
       "               '2016-03-27 02:00:00', '2016-03-27 02:15:00',\n",
       "               '2016-03-27 02:30:00', '2016-03-27 02:45:00',\n",
       "               '2017-03-26 02:00:00', '2017-03-26 02:15:00',\n",
       "               '2017-03-26 02:30:00', '2017-03-26 02:45:00',\n",
       "               '2018-03-25 02:00:00', '2018-03-25 02:15:00',\n",
       "               '2018-03-25 02:30:00', '2018-03-25 02:45:00',\n",
       "               '2019-03-31 02:00:00', '2019-03-31 02:15:00',\n",
       "               '2019-03-31 02:30:00', '2019-03-31 02:45:00'],\n",
       "              dtype='datetime64[ns]', freq=None)"
      ]
     },
     "execution_count": 64,
     "metadata": {},
     "output_type": "execute_result"
    }
   ],
   "source": [
    "gaps"
   ]
  },
  {
   "cell_type": "code",
   "execution_count": null,
   "metadata": {},
   "outputs": [],
   "source": [
    "# Dataframe for missing time steps\n",
    "gaps_con= pd.DataFrame({'timestamp':gaps,'Electricity Consumption [MWh]':np.nan})"
   ]
  },
  {
   "cell_type": "code",
   "execution_count": 70,
   "metadata": {},
   "outputs": [],
   "source": [
    "# Add missing timesteps with NaN value\n",
    "consumption= pd.concat([consumption,gaps_con]).sort_values(by='timestamp').reset_index(drop=True)"
   ]
  },
  {
   "cell_type": "code",
   "execution_count": null,
   "metadata": {},
   "outputs": [],
   "source": [
    "# fill NaN values with an average of last and next valid observation\n",
    "consumption['Electricity Consumption [MWh]']=\\\n",
    "(consumption['Electricity Consumption [MWh]'].fillna(method='ffill')+\\\n",
    "consumption['Electricity Consumption [MWh]'].fillna(method='bfill'))/2"
   ]
  },
  {
   "cell_type": "markdown",
   "metadata": {},
   "source": [
    "**Missing values**"
   ]
  },
  {
   "cell_type": "code",
   "execution_count": 131,
   "metadata": {},
   "outputs": [],
   "source": [
    "# change 0 values to NaN\n",
    "consumption['Electricity Consumption [MWh]']=\\\n",
    "consumption['Electricity Consumption [MWh]'].apply(lambda x: np.nan if x==0 else x)"
   ]
  },
  {
   "cell_type": "code",
   "execution_count": 134,
   "metadata": {},
   "outputs": [],
   "source": [
    "# fill NaN values with an average of last and next valid observation\n",
    "consumption['Electricity Consumption [MWh]']=\\\n",
    "(consumption['Electricity Consumption [MWh]'].fillna(method='ffill')+\\\n",
    "consumption['Electricity Consumption [MWh]'].fillna(method='bfill'))/2"
   ]
  },
  {
   "cell_type": "code",
   "execution_count": 136,
   "metadata": {},
   "outputs": [
    {
     "data": {
      "text/plain": [
       "timestamp                        0\n",
       "Electricity Consumption [MWh]    0\n",
       "dtype: int64"
      ]
     },
     "execution_count": 136,
     "metadata": {},
     "output_type": "execute_result"
    }
   ],
   "source": [
    "# check NaN again\n",
    "consumption.isna().sum()"
   ]
  },
  {
   "cell_type": "markdown",
   "metadata": {},
   "source": [
    "**Dataframe is ready**"
   ]
  },
  {
   "cell_type": "code",
   "execution_count": 117,
   "metadata": {},
   "outputs": [
    {
     "data": {
      "text/html": [
       "<div>\n",
       "<style scoped>\n",
       "    .dataframe tbody tr th:only-of-type {\n",
       "        vertical-align: middle;\n",
       "    }\n",
       "\n",
       "    .dataframe tbody tr th {\n",
       "        vertical-align: top;\n",
       "    }\n",
       "\n",
       "    .dataframe thead th {\n",
       "        text-align: right;\n",
       "    }\n",
       "</style>\n",
       "<table border=\"1\" class=\"dataframe\">\n",
       "  <thead>\n",
       "    <tr style=\"text-align: right;\">\n",
       "      <th></th>\n",
       "      <th>timestamp</th>\n",
       "      <th>Electricity Consumption [MWh]</th>\n",
       "    </tr>\n",
       "  </thead>\n",
       "  <tbody>\n",
       "    <tr>\n",
       "      <th>0</th>\n",
       "      <td>2015-01-01 00:00:00</td>\n",
       "      <td>10606.25</td>\n",
       "    </tr>\n",
       "    <tr>\n",
       "      <th>1</th>\n",
       "      <td>2015-01-01 00:15:00</td>\n",
       "      <td>10505.25</td>\n",
       "    </tr>\n",
       "    <tr>\n",
       "      <th>2</th>\n",
       "      <td>2015-01-01 00:30:00</td>\n",
       "      <td>10517.00</td>\n",
       "    </tr>\n",
       "    <tr>\n",
       "      <th>3</th>\n",
       "      <td>2015-01-01 00:45:00</td>\n",
       "      <td>10468.50</td>\n",
       "    </tr>\n",
       "    <tr>\n",
       "      <th>4</th>\n",
       "      <td>2015-01-01 01:00:00</td>\n",
       "      <td>10307.50</td>\n",
       "    </tr>\n",
       "  </tbody>\n",
       "</table>\n",
       "</div>"
      ],
      "text/plain": [
       "            timestamp  Electricity Consumption [MWh]\n",
       "0 2015-01-01 00:00:00                       10606.25\n",
       "1 2015-01-01 00:15:00                       10505.25\n",
       "2 2015-01-01 00:30:00                       10517.00\n",
       "3 2015-01-01 00:45:00                       10468.50\n",
       "4 2015-01-01 01:00:00                       10307.50"
      ]
     },
     "execution_count": 117,
     "metadata": {},
     "output_type": "execute_result"
    }
   ],
   "source": [
    "consumption.head()"
   ]
  },
  {
   "cell_type": "code",
   "execution_count": 168,
   "metadata": {},
   "outputs": [],
   "source": [
    "sns.set_style('darkgrid')"
   ]
  },
  {
   "cell_type": "code",
   "execution_count": 169,
   "metadata": {},
   "outputs": [
    {
     "ename": "TypeError",
     "evalue": "'str' object is not callable",
     "output_type": "error",
     "traceback": [
      "\u001b[0;31m---------------------------------------------------------------------------\u001b[0m",
      "\u001b[0;31mTypeError\u001b[0m                                 Traceback (most recent call last)",
      "\u001b[0;32m<ipython-input-169-da53698b7683>\u001b[0m in \u001b[0;36m<module>\u001b[0;34m\u001b[0m\n\u001b[1;32m      2\u001b[0m \u001b[0mplt\u001b[0m\u001b[0;34m.\u001b[0m\u001b[0mplot\u001b[0m\u001b[0;34m(\u001b[0m\u001b[0mconsumption\u001b[0m\u001b[0;34m.\u001b[0m\u001b[0mset_index\u001b[0m\u001b[0;34m(\u001b[0m\u001b[0;34m'timestamp'\u001b[0m\u001b[0;34m)\u001b[0m\u001b[0;34m)\u001b[0m\u001b[0;34m\u001b[0m\u001b[0;34m\u001b[0m\u001b[0m\n\u001b[1;32m      3\u001b[0m \u001b[0mplt\u001b[0m\u001b[0;34m.\u001b[0m\u001b[0mtitle\u001b[0m\u001b[0;34m(\u001b[0m\u001b[0;34m'\\nTotal Electricity Consumption in Germany\\n'\u001b[0m\u001b[0;34m,\u001b[0m \u001b[0mfontsize\u001b[0m\u001b[0;34m=\u001b[0m\u001b[0;36m20\u001b[0m\u001b[0;34m,\u001b[0m \u001b[0mfontweight\u001b[0m\u001b[0;34m=\u001b[0m\u001b[0;34m'bold'\u001b[0m\u001b[0;34m)\u001b[0m\u001b[0;34m\u001b[0m\u001b[0;34m\u001b[0m\u001b[0m\n\u001b[0;32m----> 4\u001b[0;31m \u001b[0mplt\u001b[0m\u001b[0;34m.\u001b[0m\u001b[0mylabel\u001b[0m\u001b[0;34m(\u001b[0m\u001b[0mconsumption\u001b[0m\u001b[0;34m.\u001b[0m\u001b[0mcolumns\u001b[0m\u001b[0;34m[\u001b[0m\u001b[0;36m1\u001b[0m\u001b[0;34m]\u001b[0m\u001b[0;34m)\u001b[0m\u001b[0;34m\u001b[0m\u001b[0;34m\u001b[0m\u001b[0m\n\u001b[0m\u001b[1;32m      5\u001b[0m \u001b[0mplt\u001b[0m\u001b[0;34m.\u001b[0m\u001b[0mshow\u001b[0m\u001b[0;34m(\u001b[0m\u001b[0;34m)\u001b[0m\u001b[0;34m\u001b[0m\u001b[0;34m\u001b[0m\u001b[0m\n",
      "\u001b[0;31mTypeError\u001b[0m: 'str' object is not callable"
     ]
    },
    {
     "data": {
      "image/png": "[encoded data removed]",
      "text/plain": [
       "<Figure size 1008x288 with 1 Axes>"
      ]
     },
     "metadata": {},
     "output_type": "display_data"
    }
   ],
   "source": [
    "plt.figure(figsize=(14,4))\n",
    "plt.plot(consumption.set_index('timestamp'))\n",
    "plt.title('\\nTotal Electricity Consumption in Germany\\n', fontsize=20, fontweight='bold')\n",
    "plt.ylabel(consumption.columns[1])\n",
    "plt.show()"
   ]
  },
  {
   "cell_type": "code",
   "execution_count": 474,
   "metadata": {},
   "outputs": [],
   "source": [
    "consumption.to_csv('../Data_Cleaned/consumption.csv', index=False)\n",
    "consumption.to_pickle('../Data_Cleaned/consumption.pkl')"
   ]
  },
  {
   "cell_type": "markdown",
   "metadata": {},
   "source": [
    "* **Electricity Generation Dataset**"
   ]
  },
  {
   "cell_type": "code",
   "execution_count": 120,
   "metadata": {},
   "outputs": [
    {
     "name": "stdout",
     "output_type": "stream",
     "text": [
      "<class 'pandas.core.frame.DataFrame'>\n",
      "Int64Index: 179326 entries, 0 to 38879\n",
      "Data columns (total 16 columns):\n",
      " #   Column                     Non-Null Count   Dtype \n",
      "---  ------                     --------------   ----- \n",
      " 0   Datum                      70271 non-null   object\n",
      " 1   Uhrzeit                    70271 non-null   object\n",
      " 2   Biomass[MWh]               179326 non-null  object\n",
      " 3   Hydropower[MWh]            179326 non-null  object\n",
      " 4   Wind offshore[MWh]         179326 non-null  object\n",
      " 5   Wind onshore[MWh]          179326 non-null  object\n",
      " 6   Photovoltaics[MWh]         179326 non-null  object\n",
      " 7   Other renewable[MWh]       179326 non-null  object\n",
      " 8   Nuclear[MWh]               179326 non-null  object\n",
      " 9   Fossil brown coal[MWh]     179326 non-null  object\n",
      " 10  Fossil hard coal[MWh]      179326 non-null  object\n",
      " 11  Fossil gas[MWh]            179326 non-null  object\n",
      " 12  Hydro pumped storage[MWh]  179326 non-null  object\n",
      " 13  Other conventional[MWh]    179326 non-null  object\n",
      " 14  Date                       109055 non-null  object\n",
      " 15  Time of day                109055 non-null  object\n",
      "dtypes: object(16)\n",
      "memory usage: 23.3+ MB\n"
     ]
    }
   ],
   "source": [
    "generation.info()"
   ]
  },
  {
   "cell_type": "markdown",
   "metadata": {},
   "source": [
    "It looks strange because of NaN values. But the problem is one of the dataframes is in german language. That's why it couldn't concatenate correctly. We rename and translate german column names to english."
   ]
  },
  {
   "cell_type": "code",
   "execution_count": 121,
   "metadata": {},
   "outputs": [],
   "source": [
    "generation1.rename(columns={'Datum':'Date','Uhrzeit':'Time of day'}, inplace=True)"
   ]
  },
  {
   "cell_type": "code",
   "execution_count": 122,
   "metadata": {},
   "outputs": [],
   "source": [
    "generation= pd.concat([generation1,generation2,generation3], axis=0)"
   ]
  },
  {
   "cell_type": "code",
   "execution_count": 123,
   "metadata": {},
   "outputs": [
    {
     "name": "stdout",
     "output_type": "stream",
     "text": [
      "<class 'pandas.core.frame.DataFrame'>\n",
      "Int64Index: 179326 entries, 0 to 38879\n",
      "Data columns (total 14 columns):\n",
      " #   Column                     Non-Null Count   Dtype \n",
      "---  ------                     --------------   ----- \n",
      " 0   Date                       179326 non-null  object\n",
      " 1   Time of day                179326 non-null  object\n",
      " 2   Biomass[MWh]               179326 non-null  object\n",
      " 3   Hydropower[MWh]            179326 non-null  object\n",
      " 4   Wind offshore[MWh]         179326 non-null  object\n",
      " 5   Wind onshore[MWh]          179326 non-null  object\n",
      " 6   Photovoltaics[MWh]         179326 non-null  object\n",
      " 7   Other renewable[MWh]       179326 non-null  object\n",
      " 8   Nuclear[MWh]               179326 non-null  object\n",
      " 9   Fossil brown coal[MWh]     179326 non-null  object\n",
      " 10  Fossil hard coal[MWh]      179326 non-null  object\n",
      " 11  Fossil gas[MWh]            179326 non-null  object\n",
      " 12  Hydro pumped storage[MWh]  179326 non-null  object\n",
      " 13  Other conventional[MWh]    179326 non-null  object\n",
      "dtypes: object(14)\n",
      "memory usage: 20.5+ MB\n"
     ]
    }
   ],
   "source": [
    "generation.info()"
   ]
  },
  {
   "cell_type": "markdown",
   "metadata": {},
   "source": [
    "Now, it looks good."
   ]
  },
  {
   "cell_type": "code",
   "execution_count": 124,
   "metadata": {},
   "outputs": [
    {
     "data": {
      "text/html": [
       "<div>\n",
       "<style scoped>\n",
       "    .dataframe tbody tr th:only-of-type {\n",
       "        vertical-align: middle;\n",
       "    }\n",
       "\n",
       "    .dataframe tbody tr th {\n",
       "        vertical-align: top;\n",
       "    }\n",
       "\n",
       "    .dataframe thead th {\n",
       "        text-align: right;\n",
       "    }\n",
       "</style>\n",
       "<table border=\"1\" class=\"dataframe\">\n",
       "  <thead>\n",
       "    <tr style=\"text-align: right;\">\n",
       "      <th></th>\n",
       "      <th>Date</th>\n",
       "      <th>Time of day</th>\n",
       "      <th>Biomass[MWh]</th>\n",
       "      <th>Hydropower[MWh]</th>\n",
       "      <th>Wind offshore[MWh]</th>\n",
       "      <th>Wind onshore[MWh]</th>\n",
       "      <th>Photovoltaics[MWh]</th>\n",
       "      <th>Other renewable[MWh]</th>\n",
       "      <th>Nuclear[MWh]</th>\n",
       "      <th>Fossil brown coal[MWh]</th>\n",
       "      <th>Fossil hard coal[MWh]</th>\n",
       "      <th>Fossil gas[MWh]</th>\n",
       "      <th>Hydro pumped storage[MWh]</th>\n",
       "      <th>Other conventional[MWh]</th>\n",
       "    </tr>\n",
       "  </thead>\n",
       "  <tbody>\n",
       "    <tr>\n",
       "      <th>count</th>\n",
       "      <td>179326</td>\n",
       "      <td>179326</td>\n",
       "      <td>179326</td>\n",
       "      <td>179326</td>\n",
       "      <td>179326</td>\n",
       "      <td>179326</td>\n",
       "      <td>179326</td>\n",
       "      <td>179326</td>\n",
       "      <td>179326</td>\n",
       "      <td>179326</td>\n",
       "      <td>179326</td>\n",
       "      <td>179326</td>\n",
       "      <td>179326</td>\n",
       "      <td>179326</td>\n",
       "    </tr>\n",
       "    <tr>\n",
       "      <th>unique</th>\n",
       "      <td>1866</td>\n",
       "      <td>96</td>\n",
       "      <td>1348</td>\n",
       "      <td>3191</td>\n",
       "      <td>5927</td>\n",
       "      <td>27865</td>\n",
       "      <td>19679</td>\n",
       "      <td>193</td>\n",
       "      <td>5614</td>\n",
       "      <td>13238</td>\n",
       "      <td>17397</td>\n",
       "      <td>9694</td>\n",
       "      <td>5873</td>\n",
       "      <td>8919</td>\n",
       "    </tr>\n",
       "    <tr>\n",
       "      <th>top</th>\n",
       "      <td>Jan 1, 2019</td>\n",
       "      <td>2:00 AM</td>\n",
       "      <td>-</td>\n",
       "      <td>-</td>\n",
       "      <td>-</td>\n",
       "      <td>-</td>\n",
       "      <td>0</td>\n",
       "      <td>29</td>\n",
       "      <td>-</td>\n",
       "      <td>-</td>\n",
       "      <td>-</td>\n",
       "      <td>-</td>\n",
       "      <td>0</td>\n",
       "      <td>-</td>\n",
       "    </tr>\n",
       "    <tr>\n",
       "      <th>freq</th>\n",
       "      <td>191</td>\n",
       "      <td>1868</td>\n",
       "      <td>1144</td>\n",
       "      <td>1144</td>\n",
       "      <td>1039</td>\n",
       "      <td>1056</td>\n",
       "      <td>82189</td>\n",
       "      <td>7560</td>\n",
       "      <td>991</td>\n",
       "      <td>895</td>\n",
       "      <td>992</td>\n",
       "      <td>990</td>\n",
       "      <td>5107</td>\n",
       "      <td>1087</td>\n",
       "    </tr>\n",
       "  </tbody>\n",
       "</table>\n",
       "</div>"
      ],
      "text/plain": [
       "               Date Time of day Biomass[MWh] Hydropower[MWh]  \\\n",
       "count        179326      179326       179326          179326   \n",
       "unique         1866          96         1348            3191   \n",
       "top     Jan 1, 2019     2:00 AM            -               -   \n",
       "freq            191        1868         1144            1144   \n",
       "\n",
       "       Wind offshore[MWh] Wind onshore[MWh] Photovoltaics[MWh]  \\\n",
       "count              179326            179326             179326   \n",
       "unique               5927             27865              19679   \n",
       "top                     -                 -                  0   \n",
       "freq                 1039              1056              82189   \n",
       "\n",
       "       Other renewable[MWh] Nuclear[MWh] Fossil brown coal[MWh]  \\\n",
       "count                179326       179326                 179326   \n",
       "unique                  193         5614                  13238   \n",
       "top                      29            -                      -   \n",
       "freq                   7560          991                    895   \n",
       "\n",
       "       Fossil hard coal[MWh] Fossil gas[MWh] Hydro pumped storage[MWh]  \\\n",
       "count                 179326          179326                    179326   \n",
       "unique                 17397            9694                      5873   \n",
       "top                        -               -                         0   \n",
       "freq                     992             990                      5107   \n",
       "\n",
       "       Other conventional[MWh]  \n",
       "count                   179326  \n",
       "unique                    8919  \n",
       "top                          -  \n",
       "freq                      1087  "
      ]
     },
     "execution_count": 124,
     "metadata": {},
     "output_type": "execute_result"
    }
   ],
   "source": [
    "generation.describe()"
   ]
  },
  {
   "cell_type": "markdown",
   "metadata": {},
   "source": [
    "**Data Types**"
   ]
  },
  {
   "cell_type": "code",
   "execution_count": 125,
   "metadata": {},
   "outputs": [],
   "source": [
    "generation['timestamp']= generation.apply(lambda x: (x['Date']+x['Time of day']), axis=1 )\\\n",
    "                                   .apply(lambda x: datetime.strptime(x, '%b %d, %Y%I:%M %p'))\\\n",
    "                                   .apply(lambda x: pd.to_datetime(x))"
   ]
  },
  {
   "cell_type": "markdown",
   "metadata": {},
   "source": [
    "Date and times are successfully merged and turned into datetime format. We can now drop *Date* and *Time of day* columns."
   ]
  },
  {
   "cell_type": "code",
   "execution_count": 176,
   "metadata": {},
   "outputs": [],
   "source": [
    "generation.drop(['Date','Time of day'], axis=1, inplace=True)"
   ]
  },
  {
   "cell_type": "markdown",
   "metadata": {},
   "source": [
    "Chage datatype to float and change - with NaN."
   ]
  },
  {
   "cell_type": "code",
   "execution_count": 181,
   "metadata": {},
   "outputs": [
    {
     "name": "stdout",
     "output_type": "stream",
     "text": [
      "<class 'pandas.core.frame.DataFrame'>\n",
      "Int64Index: 179326 entries, 0 to 38879\n",
      "Data columns (total 13 columns):\n",
      " #   Column                     Non-Null Count   Dtype         \n",
      "---  ------                     --------------   -----         \n",
      " 0   Biomass[MWh]               179326 non-null  object        \n",
      " 1   Hydropower[MWh]            179326 non-null  object        \n",
      " 2   Wind offshore[MWh]         179326 non-null  object        \n",
      " 3   Wind onshore[MWh]          179326 non-null  object        \n",
      " 4   Photovoltaics[MWh]         179326 non-null  object        \n",
      " 5   Other renewable[MWh]       179326 non-null  object        \n",
      " 6   Nuclear[MWh]               179326 non-null  object        \n",
      " 7   Fossil brown coal[MWh]     179326 non-null  object        \n",
      " 8   Fossil hard coal[MWh]      179326 non-null  object        \n",
      " 9   Fossil gas[MWh]            179326 non-null  object        \n",
      " 10  Hydro pumped storage[MWh]  179326 non-null  object        \n",
      " 11  Other conventional[MWh]    179326 non-null  object        \n",
      " 12  timestamp                  179326 non-null  datetime64[ns]\n",
      "dtypes: datetime64[ns](1), object(12)\n",
      "memory usage: 24.2+ MB\n"
     ]
    }
   ],
   "source": [
    "generation.info()"
   ]
  },
  {
   "cell_type": "code",
   "execution_count": 196,
   "metadata": {},
   "outputs": [],
   "source": [
    "generation[generation.columns[:-1]] = generation.drop(['timestamp'],axis=1)\\\n",
    "                                        .astype(str)\\\n",
    "                                        .applymap(lambda x: ''.join(x.split(',')))\\\n",
    "                                        .applymap(lambda x: np.nan if x=='-' else x)\\\n",
    "                                        .astype(float)"
   ]
  },
  {
   "cell_type": "markdown",
   "metadata": {},
   "source": [
    "Check Dataframe and datatypes"
   ]
  },
  {
   "cell_type": "code",
   "execution_count": 198,
   "metadata": {},
   "outputs": [
    {
     "data": {
      "text/html": [
       "<div>\n",
       "<style scoped>\n",
       "    .dataframe tbody tr th:only-of-type {\n",
       "        vertical-align: middle;\n",
       "    }\n",
       "\n",
       "    .dataframe tbody tr th {\n",
       "        vertical-align: top;\n",
       "    }\n",
       "\n",
       "    .dataframe thead th {\n",
       "        text-align: right;\n",
       "    }\n",
       "</style>\n",
       "<table border=\"1\" class=\"dataframe\">\n",
       "  <thead>\n",
       "    <tr style=\"text-align: right;\">\n",
       "      <th></th>\n",
       "      <th>Biomass[MWh]</th>\n",
       "      <th>Hydropower[MWh]</th>\n",
       "      <th>Wind offshore[MWh]</th>\n",
       "      <th>Wind onshore[MWh]</th>\n",
       "      <th>Photovoltaics[MWh]</th>\n",
       "      <th>Other renewable[MWh]</th>\n",
       "      <th>Nuclear[MWh]</th>\n",
       "      <th>Fossil brown coal[MWh]</th>\n",
       "      <th>Fossil hard coal[MWh]</th>\n",
       "      <th>Fossil gas[MWh]</th>\n",
       "      <th>Hydro pumped storage[MWh]</th>\n",
       "      <th>Other conventional[MWh]</th>\n",
       "      <th>timestamp</th>\n",
       "    </tr>\n",
       "  </thead>\n",
       "  <tbody>\n",
       "    <tr>\n",
       "      <th>0</th>\n",
       "      <td>1006.0</td>\n",
       "      <td>288.0</td>\n",
       "      <td>130.0</td>\n",
       "      <td>2028.0</td>\n",
       "      <td>0.0</td>\n",
       "      <td>33.0</td>\n",
       "      <td>2686.0</td>\n",
       "      <td>3977.0</td>\n",
       "      <td>686.0</td>\n",
       "      <td>262.0</td>\n",
       "      <td>368.0</td>\n",
       "      <td>1236.0</td>\n",
       "      <td>2015-01-01 00:00:00</td>\n",
       "    </tr>\n",
       "    <tr>\n",
       "      <th>1</th>\n",
       "      <td>1007.0</td>\n",
       "      <td>288.0</td>\n",
       "      <td>129.0</td>\n",
       "      <td>2023.0</td>\n",
       "      <td>0.0</td>\n",
       "      <td>33.0</td>\n",
       "      <td>2646.0</td>\n",
       "      <td>3963.0</td>\n",
       "      <td>721.0</td>\n",
       "      <td>261.0</td>\n",
       "      <td>328.0</td>\n",
       "      <td>1214.0</td>\n",
       "      <td>2015-01-01 00:15:00</td>\n",
       "    </tr>\n",
       "    <tr>\n",
       "      <th>2</th>\n",
       "      <td>1007.0</td>\n",
       "      <td>293.0</td>\n",
       "      <td>129.0</td>\n",
       "      <td>2040.0</td>\n",
       "      <td>0.0</td>\n",
       "      <td>33.0</td>\n",
       "      <td>2661.0</td>\n",
       "      <td>3925.0</td>\n",
       "      <td>696.0</td>\n",
       "      <td>259.0</td>\n",
       "      <td>360.0</td>\n",
       "      <td>1219.0</td>\n",
       "      <td>2015-01-01 00:30:00</td>\n",
       "    </tr>\n",
       "    <tr>\n",
       "      <th>3</th>\n",
       "      <td>1005.0</td>\n",
       "      <td>290.0</td>\n",
       "      <td>129.0</td>\n",
       "      <td>2037.0</td>\n",
       "      <td>0.0</td>\n",
       "      <td>33.0</td>\n",
       "      <td>2718.0</td>\n",
       "      <td>3872.0</td>\n",
       "      <td>665.0</td>\n",
       "      <td>225.0</td>\n",
       "      <td>280.0</td>\n",
       "      <td>1243.0</td>\n",
       "      <td>2015-01-01 00:45:00</td>\n",
       "    </tr>\n",
       "    <tr>\n",
       "      <th>4</th>\n",
       "      <td>999.0</td>\n",
       "      <td>295.0</td>\n",
       "      <td>129.0</td>\n",
       "      <td>2046.0</td>\n",
       "      <td>0.0</td>\n",
       "      <td>33.0</td>\n",
       "      <td>2772.0</td>\n",
       "      <td>3899.0</td>\n",
       "      <td>521.0</td>\n",
       "      <td>190.0</td>\n",
       "      <td>185.0</td>\n",
       "      <td>1248.0</td>\n",
       "      <td>2015-01-01 01:00:00</td>\n",
       "    </tr>\n",
       "  </tbody>\n",
       "</table>\n",
       "</div>"
      ],
      "text/plain": [
       "   Biomass[MWh]  Hydropower[MWh]  Wind offshore[MWh]  Wind onshore[MWh]  \\\n",
       "0        1006.0            288.0               130.0             2028.0   \n",
       "1        1007.0            288.0               129.0             2023.0   \n",
       "2        1007.0            293.0               129.0             2040.0   \n",
       "3        1005.0            290.0               129.0             2037.0   \n",
       "4         999.0            295.0               129.0             2046.0   \n",
       "\n",
       "   Photovoltaics[MWh]  Other renewable[MWh]  Nuclear[MWh]  \\\n",
       "0                 0.0                  33.0        2686.0   \n",
       "1                 0.0                  33.0        2646.0   \n",
       "2                 0.0                  33.0        2661.0   \n",
       "3                 0.0                  33.0        2718.0   \n",
       "4                 0.0                  33.0        2772.0   \n",
       "\n",
       "   Fossil brown coal[MWh]  Fossil hard coal[MWh]  Fossil gas[MWh]  \\\n",
       "0                  3977.0                  686.0            262.0   \n",
       "1                  3963.0                  721.0            261.0   \n",
       "2                  3925.0                  696.0            259.0   \n",
       "3                  3872.0                  665.0            225.0   \n",
       "4                  3899.0                  521.0            190.0   \n",
       "\n",
       "   Hydro pumped storage[MWh]  Other conventional[MWh]           timestamp  \n",
       "0                      368.0                   1236.0 2015-01-01 00:00:00  \n",
       "1                      328.0                   1214.0 2015-01-01 00:15:00  \n",
       "2                      360.0                   1219.0 2015-01-01 00:30:00  \n",
       "3                      280.0                   1243.0 2015-01-01 00:45:00  \n",
       "4                      185.0                   1248.0 2015-01-01 01:00:00  "
      ]
     },
     "execution_count": 198,
     "metadata": {},
     "output_type": "execute_result"
    }
   ],
   "source": [
    "generation.head()"
   ]
  },
  {
   "cell_type": "code",
   "execution_count": 201,
   "metadata": {},
   "outputs": [
    {
     "data": {
      "text/plain": [
       "Biomass[MWh]                        float64\n",
       "Hydropower[MWh]                     float64\n",
       "Wind offshore[MWh]                  float64\n",
       "Wind onshore[MWh]                   float64\n",
       "Photovoltaics[MWh]                  float64\n",
       "Other renewable[MWh]                float64\n",
       "Nuclear[MWh]                        float64\n",
       "Fossil brown coal[MWh]              float64\n",
       "Fossil hard coal[MWh]               float64\n",
       "Fossil gas[MWh]                     float64\n",
       "Hydro pumped storage[MWh]           float64\n",
       "Other conventional[MWh]             float64\n",
       "timestamp                    datetime64[ns]\n",
       "dtype: object"
      ]
     },
     "execution_count": 201,
     "metadata": {},
     "output_type": "execute_result"
    }
   ],
   "source": [
    "generation.dtypes"
   ]
  },
  {
   "cell_type": "markdown",
   "metadata": {},
   "source": [
    "**Make a nice order**"
   ]
  },
  {
   "cell_type": "code",
   "execution_count": 204,
   "metadata": {},
   "outputs": [],
   "source": [
    "generation= generation[['timestamp']+generation.columns[:-1].tolist()]"
   ]
  },
  {
   "cell_type": "markdown",
   "metadata": {},
   "source": [
    "**Rename Columns**"
   ]
  },
  {
   "cell_type": "code",
   "execution_count": 214,
   "metadata": {},
   "outputs": [],
   "source": [
    "generation.columns=[' ['.join(i.split('[')) for i in generation.columns]"
   ]
  },
  {
   "cell_type": "markdown",
   "metadata": {},
   "source": [
    "**Correct the data range**"
   ]
  },
  {
   "cell_type": "code",
   "execution_count": 216,
   "metadata": {},
   "outputs": [],
   "source": [
    "generation= generation[generation.timestamp.apply(lambda x: x.year) != 2020]"
   ]
  },
  {
   "cell_type": "code",
   "execution_count": 217,
   "metadata": {},
   "outputs": [
    {
     "data": {
      "text/html": [
       "<div>\n",
       "<style scoped>\n",
       "    .dataframe tbody tr th:only-of-type {\n",
       "        vertical-align: middle;\n",
       "    }\n",
       "\n",
       "    .dataframe tbody tr th {\n",
       "        vertical-align: top;\n",
       "    }\n",
       "\n",
       "    .dataframe thead th {\n",
       "        text-align: right;\n",
       "    }\n",
       "</style>\n",
       "<table border=\"1\" class=\"dataframe\">\n",
       "  <thead>\n",
       "    <tr style=\"text-align: right;\">\n",
       "      <th></th>\n",
       "      <th>timestamp</th>\n",
       "      <th>Biomass [MWh]</th>\n",
       "      <th>Hydropower [MWh]</th>\n",
       "      <th>Wind offshore [MWh]</th>\n",
       "      <th>Wind onshore [MWh]</th>\n",
       "      <th>Photovoltaics [MWh]</th>\n",
       "      <th>Other renewable [MWh]</th>\n",
       "      <th>Nuclear [MWh]</th>\n",
       "      <th>Fossil brown coal [MWh]</th>\n",
       "      <th>Fossil hard coal [MWh]</th>\n",
       "      <th>Fossil gas [MWh]</th>\n",
       "      <th>Hydro pumped storage [MWh]</th>\n",
       "      <th>Other conventional [MWh]</th>\n",
       "    </tr>\n",
       "  </thead>\n",
       "  <tbody>\n",
       "    <tr>\n",
       "      <th>count</th>\n",
       "      <td>175486</td>\n",
       "      <td>174949.000000</td>\n",
       "      <td>174949.000000</td>\n",
       "      <td>175052.000000</td>\n",
       "      <td>175036.000000</td>\n",
       "      <td>174883.000000</td>\n",
       "      <td>174948.000000</td>\n",
       "      <td>175102.000000</td>\n",
       "      <td>175198.000000</td>\n",
       "      <td>175101.000000</td>\n",
       "      <td>175102.000000</td>\n",
       "      <td>175102.000000</td>\n",
       "      <td>175006.000000</td>\n",
       "    </tr>\n",
       "    <tr>\n",
       "      <th>unique</th>\n",
       "      <td>175276</td>\n",
       "      <td>NaN</td>\n",
       "      <td>NaN</td>\n",
       "      <td>NaN</td>\n",
       "      <td>NaN</td>\n",
       "      <td>NaN</td>\n",
       "      <td>NaN</td>\n",
       "      <td>NaN</td>\n",
       "      <td>NaN</td>\n",
       "      <td>NaN</td>\n",
       "      <td>NaN</td>\n",
       "      <td>NaN</td>\n",
       "      <td>NaN</td>\n",
       "    </tr>\n",
       "    <tr>\n",
       "      <th>top</th>\n",
       "      <td>2017-01-01 12:45:00</td>\n",
       "      <td>NaN</td>\n",
       "      <td>NaN</td>\n",
       "      <td>NaN</td>\n",
       "      <td>NaN</td>\n",
       "      <td>NaN</td>\n",
       "      <td>NaN</td>\n",
       "      <td>NaN</td>\n",
       "      <td>NaN</td>\n",
       "      <td>NaN</td>\n",
       "      <td>NaN</td>\n",
       "      <td>NaN</td>\n",
       "      <td>NaN</td>\n",
       "    </tr>\n",
       "    <tr>\n",
       "      <th>freq</th>\n",
       "      <td>2</td>\n",
       "      <td>NaN</td>\n",
       "      <td>NaN</td>\n",
       "      <td>NaN</td>\n",
       "      <td>NaN</td>\n",
       "      <td>NaN</td>\n",
       "      <td>NaN</td>\n",
       "      <td>NaN</td>\n",
       "      <td>NaN</td>\n",
       "      <td>NaN</td>\n",
       "      <td>NaN</td>\n",
       "      <td>NaN</td>\n",
       "      <td>NaN</td>\n",
       "    </tr>\n",
       "    <tr>\n",
       "      <th>first</th>\n",
       "      <td>2015-01-01 00:00:00</td>\n",
       "      <td>NaN</td>\n",
       "      <td>NaN</td>\n",
       "      <td>NaN</td>\n",
       "      <td>NaN</td>\n",
       "      <td>NaN</td>\n",
       "      <td>NaN</td>\n",
       "      <td>NaN</td>\n",
       "      <td>NaN</td>\n",
       "      <td>NaN</td>\n",
       "      <td>NaN</td>\n",
       "      <td>NaN</td>\n",
       "      <td>NaN</td>\n",
       "    </tr>\n",
       "    <tr>\n",
       "      <th>last</th>\n",
       "      <td>2019-12-31 23:45:00</td>\n",
       "      <td>NaN</td>\n",
       "      <td>NaN</td>\n",
       "      <td>NaN</td>\n",
       "      <td>NaN</td>\n",
       "      <td>NaN</td>\n",
       "      <td>NaN</td>\n",
       "      <td>NaN</td>\n",
       "      <td>NaN</td>\n",
       "      <td>NaN</td>\n",
       "      <td>NaN</td>\n",
       "      <td>NaN</td>\n",
       "      <td>NaN</td>\n",
       "    </tr>\n",
       "    <tr>\n",
       "      <th>mean</th>\n",
       "      <td>NaN</td>\n",
       "      <td>1119.202758</td>\n",
       "      <td>447.668489</td>\n",
       "      <td>460.782837</td>\n",
       "      <td>2333.218078</td>\n",
       "      <td>1073.817043</td>\n",
       "      <td>37.313353</td>\n",
       "      <td>2165.233100</td>\n",
       "      <td>3568.351331</td>\n",
       "      <td>1978.028442</td>\n",
       "      <td>695.324754</td>\n",
       "      <td>264.725875</td>\n",
       "      <td>1002.517838</td>\n",
       "    </tr>\n",
       "    <tr>\n",
       "      <th>std</th>\n",
       "      <td>NaN</td>\n",
       "      <td>84.490383</td>\n",
       "      <td>103.179825</td>\n",
       "      <td>364.156456</td>\n",
       "      <td>1929.600409</td>\n",
       "      <td>1655.382713</td>\n",
       "      <td>9.712474</td>\n",
       "      <td>364.804423</td>\n",
       "      <td>726.160756</td>\n",
       "      <td>1247.892093</td>\n",
       "      <td>537.263770</td>\n",
       "      <td>295.876215</td>\n",
       "      <td>636.688013</td>\n",
       "    </tr>\n",
       "    <tr>\n",
       "      <th>min</th>\n",
       "      <td>NaN</td>\n",
       "      <td>849.000000</td>\n",
       "      <td>183.000000</td>\n",
       "      <td>0.000000</td>\n",
       "      <td>22.000000</td>\n",
       "      <td>0.000000</td>\n",
       "      <td>12.000000</td>\n",
       "      <td>842.750000</td>\n",
       "      <td>938.000000</td>\n",
       "      <td>46.750000</td>\n",
       "      <td>8.000000</td>\n",
       "      <td>0.000000</td>\n",
       "      <td>75.000000</td>\n",
       "    </tr>\n",
       "    <tr>\n",
       "      <th>25%</th>\n",
       "      <td>NaN</td>\n",
       "      <td>1076.000000</td>\n",
       "      <td>371.000000</td>\n",
       "      <td>137.750000</td>\n",
       "      <td>874.000000</td>\n",
       "      <td>0.000000</td>\n",
       "      <td>30.000000</td>\n",
       "      <td>1917.000000</td>\n",
       "      <td>3297.000000</td>\n",
       "      <td>845.250000</td>\n",
       "      <td>260.750000</td>\n",
       "      <td>48.750000</td>\n",
       "      <td>438.250000</td>\n",
       "    </tr>\n",
       "    <tr>\n",
       "      <th>50%</th>\n",
       "      <td>NaN</td>\n",
       "      <td>1133.750000</td>\n",
       "      <td>437.000000</td>\n",
       "      <td>382.500000</td>\n",
       "      <td>1748.000000</td>\n",
       "      <td>17.750000</td>\n",
       "      <td>36.500000</td>\n",
       "      <td>2240.000000</td>\n",
       "      <td>3740.250000</td>\n",
       "      <td>1811.750000</td>\n",
       "      <td>535.000000</td>\n",
       "      <td>158.000000</td>\n",
       "      <td>917.000000</td>\n",
       "    </tr>\n",
       "    <tr>\n",
       "      <th>75%</th>\n",
       "      <td>NaN</td>\n",
       "      <td>1186.000000</td>\n",
       "      <td>516.000000</td>\n",
       "      <td>716.000000</td>\n",
       "      <td>3237.000000</td>\n",
       "      <td>1707.250000</td>\n",
       "      <td>45.000000</td>\n",
       "      <td>2445.000000</td>\n",
       "      <td>4056.000000</td>\n",
       "      <td>3004.000000</td>\n",
       "      <td>1001.000000</td>\n",
       "      <td>383.000000</td>\n",
       "      <td>1408.000000</td>\n",
       "    </tr>\n",
       "    <tr>\n",
       "      <th>max</th>\n",
       "      <td>NaN</td>\n",
       "      <td>1262.250000</td>\n",
       "      <td>790.000000</td>\n",
       "      <td>1725.000000</td>\n",
       "      <td>10121.250000</td>\n",
       "      <td>7554.750000</td>\n",
       "      <td>61.000000</td>\n",
       "      <td>2869.000000</td>\n",
       "      <td>4966.000000</td>\n",
       "      <td>5202.000000</td>\n",
       "      <td>3017.000000</td>\n",
       "      <td>1931.750000</td>\n",
       "      <td>8143.000000</td>\n",
       "    </tr>\n",
       "  </tbody>\n",
       "</table>\n",
       "</div>"
      ],
      "text/plain": [
       "                  timestamp  Biomass [MWh]  Hydropower [MWh]  \\\n",
       "count                175486  174949.000000     174949.000000   \n",
       "unique               175276            NaN               NaN   \n",
       "top     2017-01-01 12:45:00            NaN               NaN   \n",
       "freq                      2            NaN               NaN   \n",
       "first   2015-01-01 00:00:00            NaN               NaN   \n",
       "last    2019-12-31 23:45:00            NaN               NaN   \n",
       "mean                    NaN    1119.202758        447.668489   \n",
       "std                     NaN      84.490383        103.179825   \n",
       "min                     NaN     849.000000        183.000000   \n",
       "25%                     NaN    1076.000000        371.000000   \n",
       "50%                     NaN    1133.750000        437.000000   \n",
       "75%                     NaN    1186.000000        516.000000   \n",
       "max                     NaN    1262.250000        790.000000   \n",
       "\n",
       "        Wind offshore [MWh]  Wind onshore [MWh]  Photovoltaics [MWh]  \\\n",
       "count         175052.000000       175036.000000        174883.000000   \n",
       "unique                  NaN                 NaN                  NaN   \n",
       "top                     NaN                 NaN                  NaN   \n",
       "freq                    NaN                 NaN                  NaN   \n",
       "first                   NaN                 NaN                  NaN   \n",
       "last                    NaN                 NaN                  NaN   \n",
       "mean             460.782837         2333.218078          1073.817043   \n",
       "std              364.156456         1929.600409          1655.382713   \n",
       "min                0.000000           22.000000             0.000000   \n",
       "25%              137.750000          874.000000             0.000000   \n",
       "50%              382.500000         1748.000000            17.750000   \n",
       "75%              716.000000         3237.000000          1707.250000   \n",
       "max             1725.000000        10121.250000          7554.750000   \n",
       "\n",
       "        Other renewable [MWh]  Nuclear [MWh]  Fossil brown coal [MWh]  \\\n",
       "count           174948.000000  175102.000000            175198.000000   \n",
       "unique                    NaN            NaN                      NaN   \n",
       "top                       NaN            NaN                      NaN   \n",
       "freq                      NaN            NaN                      NaN   \n",
       "first                     NaN            NaN                      NaN   \n",
       "last                      NaN            NaN                      NaN   \n",
       "mean                37.313353    2165.233100              3568.351331   \n",
       "std                  9.712474     364.804423               726.160756   \n",
       "min                 12.000000     842.750000               938.000000   \n",
       "25%                 30.000000    1917.000000              3297.000000   \n",
       "50%                 36.500000    2240.000000              3740.250000   \n",
       "75%                 45.000000    2445.000000              4056.000000   \n",
       "max                 61.000000    2869.000000              4966.000000   \n",
       "\n",
       "        Fossil hard coal [MWh]  Fossil gas [MWh]  Hydro pumped storage [MWh]  \\\n",
       "count            175101.000000     175102.000000               175102.000000   \n",
       "unique                     NaN               NaN                         NaN   \n",
       "top                        NaN               NaN                         NaN   \n",
       "freq                       NaN               NaN                         NaN   \n",
       "first                      NaN               NaN                         NaN   \n",
       "last                       NaN               NaN                         NaN   \n",
       "mean               1978.028442        695.324754                  264.725875   \n",
       "std                1247.892093        537.263770                  295.876215   \n",
       "min                  46.750000          8.000000                    0.000000   \n",
       "25%                 845.250000        260.750000                   48.750000   \n",
       "50%                1811.750000        535.000000                  158.000000   \n",
       "75%                3004.000000       1001.000000                  383.000000   \n",
       "max                5202.000000       3017.000000                 1931.750000   \n",
       "\n",
       "        Other conventional [MWh]  \n",
       "count              175006.000000  \n",
       "unique                       NaN  \n",
       "top                          NaN  \n",
       "freq                         NaN  \n",
       "first                        NaN  \n",
       "last                         NaN  \n",
       "mean                 1002.517838  \n",
       "std                   636.688013  \n",
       "min                    75.000000  \n",
       "25%                   438.250000  \n",
       "50%                   917.000000  \n",
       "75%                  1408.000000  \n",
       "max                  8143.000000  "
      ]
     },
     "execution_count": 217,
     "metadata": {},
     "output_type": "execute_result"
    }
   ],
   "source": [
    "generation.describe(include='all')"
   ]
  },
  {
   "cell_type": "markdown",
   "metadata": {},
   "source": [
    "**Drop duplicates**"
   ]
  },
  {
   "cell_type": "code",
   "execution_count": 219,
   "metadata": {},
   "outputs": [
    {
     "data": {
      "text/plain": [
       "190"
      ]
     },
     "execution_count": 219,
     "metadata": {},
     "output_type": "execute_result"
    }
   ],
   "source": [
    "generation.duplicated().sum()"
   ]
  },
  {
   "cell_type": "code",
   "execution_count": 220,
   "metadata": {},
   "outputs": [],
   "source": [
    "generation.drop_duplicates(inplace=True)"
   ]
  },
  {
   "cell_type": "code",
   "execution_count": 221,
   "metadata": {},
   "outputs": [
    {
     "data": {
      "text/plain": [
       "0"
      ]
     },
     "execution_count": 221,
     "metadata": {},
     "output_type": "execute_result"
    }
   ],
   "source": [
    "generation.duplicated().sum()"
   ]
  },
  {
   "cell_type": "code",
   "execution_count": 222,
   "metadata": {},
   "outputs": [
    {
     "data": {
      "text/plain": [
       "20"
      ]
     },
     "execution_count": 222,
     "metadata": {},
     "output_type": "execute_result"
    }
   ],
   "source": [
    "generation.timestamp.duplicated().sum()"
   ]
  },
  {
   "cell_type": "code",
   "execution_count": 223,
   "metadata": {},
   "outputs": [],
   "source": [
    "generation= generation[~generation.timestamp.duplicated()]"
   ]
  },
  {
   "cell_type": "code",
   "execution_count": 224,
   "metadata": {},
   "outputs": [
    {
     "data": {
      "text/plain": [
       "0"
      ]
     },
     "execution_count": 224,
     "metadata": {},
     "output_type": "execute_result"
    }
   ],
   "source": [
    "generation.timestamp.duplicated().sum()"
   ]
  },
  {
   "cell_type": "markdown",
   "metadata": {},
   "source": [
    "Duplicates are removed."
   ]
  },
  {
   "cell_type": "markdown",
   "metadata": {},
   "source": [
    "**Missing Timesteps**"
   ]
  },
  {
   "cell_type": "code",
   "execution_count": 225,
   "metadata": {},
   "outputs": [
    {
     "name": "stdout",
     "output_type": "stream",
     "text": [
      "Start Date and Time:  2015-01-01 00:00:00\n",
      "End Date and Time:    2019-12-31 23:45:00\n"
     ]
    }
   ],
   "source": [
    "print('Start Date and Time: ', generation.timestamp.min())\n",
    "print('End Date and Time:   ', generation.timestamp.max())"
   ]
  },
  {
   "cell_type": "code",
   "execution_count": 226,
   "metadata": {},
   "outputs": [],
   "source": [
    "must_be_timesteps= (generation.timestamp.max()-generation.timestamp.min())/pd.to_timedelta(15, unit='m')+1"
   ]
  },
  {
   "cell_type": "code",
   "execution_count": 227,
   "metadata": {},
   "outputs": [
    {
     "name": "stdout",
     "output_type": "stream",
     "text": [
      "Existing Timesteps:  175276\n",
      "Target Timesteps:    175296.0\n",
      "missing Timesteps:   20.0\n"
     ]
    }
   ],
   "source": [
    "print('Existing Timesteps: ', generation.shape[0])\n",
    "print('Target Timesteps:   ', must_be_timesteps)\n",
    "print('missing Timesteps:  ', must_be_timesteps-generation.shape[0])"
   ]
  },
  {
   "cell_type": "code",
   "execution_count": 228,
   "metadata": {},
   "outputs": [],
   "source": [
    "# creating reference DatetimeIndex idx_ref with a 15-minute frequency\n",
    "idx_ref = pd.date_range(start=generation.timestamp.min(), end=generation.timestamp.max(),freq='15min')\n",
    "\n",
    "# idx_dat represents your DatetimeIndex from the sensor\n",
    "gaps = idx_ref[~idx_ref.isin(generation.timestamp)]"
   ]
  },
  {
   "cell_type": "code",
   "execution_count": 229,
   "metadata": {},
   "outputs": [
    {
     "data": {
      "text/plain": [
       "DatetimeIndex(['2015-03-29 02:00:00', '2015-03-29 02:15:00',\n",
       "               '2015-03-29 02:30:00', '2015-03-29 02:45:00',\n",
       "               '2016-03-27 02:00:00', '2016-03-27 02:15:00',\n",
       "               '2016-03-27 02:30:00', '2016-03-27 02:45:00',\n",
       "               '2017-03-26 02:00:00', '2017-03-26 02:15:00',\n",
       "               '2017-03-26 02:30:00', '2017-03-26 02:45:00',\n",
       "               '2018-03-25 02:00:00', '2018-03-25 02:15:00',\n",
       "               '2018-03-25 02:30:00', '2018-03-25 02:45:00',\n",
       "               '2019-03-31 02:00:00', '2019-03-31 02:15:00',\n",
       "               '2019-03-31 02:30:00', '2019-03-31 02:45:00'],\n",
       "              dtype='datetime64[ns]', freq=None)"
      ]
     },
     "execution_count": 229,
     "metadata": {},
     "output_type": "execute_result"
    }
   ],
   "source": [
    "gaps"
   ]
  },
  {
   "cell_type": "code",
   "execution_count": 230,
   "metadata": {},
   "outputs": [],
   "source": [
    "# Dataframe for missing time steps\n",
    "gaps_gen= pd.DataFrame({'timestamp':gaps})"
   ]
  },
  {
   "cell_type": "code",
   "execution_count": 234,
   "metadata": {},
   "outputs": [],
   "source": [
    "# Add missing timesteps with NaN value\n",
    "generation= pd.concat([generation,gaps_gen]).sort_values(by='timestamp').reset_index(drop=True)"
   ]
  },
  {
   "cell_type": "code",
   "execution_count": 238,
   "metadata": {},
   "outputs": [],
   "source": [
    "# fill NaN values with an average of last and next valid observation\n",
    "generation[generation.columns[1:]]=\\\n",
    "(generation[generation.columns[1:]].fillna(method='ffill')+\\\n",
    "generation[generation.columns[1:]].fillna(method='bfill'))/2"
   ]
  },
  {
   "cell_type": "markdown",
   "metadata": {},
   "source": [
    "**Dataframe is ready**"
   ]
  },
  {
   "cell_type": "code",
   "execution_count": 240,
   "metadata": {},
   "outputs": [
    {
     "data": {
      "text/html": [
       "<div>\n",
       "<style scoped>\n",
       "    .dataframe tbody tr th:only-of-type {\n",
       "        vertical-align: middle;\n",
       "    }\n",
       "\n",
       "    .dataframe tbody tr th {\n",
       "        vertical-align: top;\n",
       "    }\n",
       "\n",
       "    .dataframe thead th {\n",
       "        text-align: right;\n",
       "    }\n",
       "</style>\n",
       "<table border=\"1\" class=\"dataframe\">\n",
       "  <thead>\n",
       "    <tr style=\"text-align: right;\">\n",
       "      <th></th>\n",
       "      <th>timestamp</th>\n",
       "      <th>Biomass [MWh]</th>\n",
       "      <th>Hydropower [MWh]</th>\n",
       "      <th>Wind offshore [MWh]</th>\n",
       "      <th>Wind onshore [MWh]</th>\n",
       "      <th>Photovoltaics [MWh]</th>\n",
       "      <th>Other renewable [MWh]</th>\n",
       "      <th>Nuclear [MWh]</th>\n",
       "      <th>Fossil brown coal [MWh]</th>\n",
       "      <th>Fossil hard coal [MWh]</th>\n",
       "      <th>Fossil gas [MWh]</th>\n",
       "      <th>Hydro pumped storage [MWh]</th>\n",
       "      <th>Other conventional [MWh]</th>\n",
       "    </tr>\n",
       "  </thead>\n",
       "  <tbody>\n",
       "    <tr>\n",
       "      <th>0</th>\n",
       "      <td>2015-01-01 00:00:00</td>\n",
       "      <td>1006.0</td>\n",
       "      <td>288.0</td>\n",
       "      <td>130.0</td>\n",
       "      <td>2028.0</td>\n",
       "      <td>0.0</td>\n",
       "      <td>33.0</td>\n",
       "      <td>2686.0</td>\n",
       "      <td>3977.0</td>\n",
       "      <td>686.0</td>\n",
       "      <td>262.0</td>\n",
       "      <td>368.0</td>\n",
       "      <td>1236.0</td>\n",
       "    </tr>\n",
       "    <tr>\n",
       "      <th>1</th>\n",
       "      <td>2015-01-01 00:15:00</td>\n",
       "      <td>1007.0</td>\n",
       "      <td>288.0</td>\n",
       "      <td>129.0</td>\n",
       "      <td>2023.0</td>\n",
       "      <td>0.0</td>\n",
       "      <td>33.0</td>\n",
       "      <td>2646.0</td>\n",
       "      <td>3963.0</td>\n",
       "      <td>721.0</td>\n",
       "      <td>261.0</td>\n",
       "      <td>328.0</td>\n",
       "      <td>1214.0</td>\n",
       "    </tr>\n",
       "    <tr>\n",
       "      <th>2</th>\n",
       "      <td>2015-01-01 00:30:00</td>\n",
       "      <td>1007.0</td>\n",
       "      <td>293.0</td>\n",
       "      <td>129.0</td>\n",
       "      <td>2040.0</td>\n",
       "      <td>0.0</td>\n",
       "      <td>33.0</td>\n",
       "      <td>2661.0</td>\n",
       "      <td>3925.0</td>\n",
       "      <td>696.0</td>\n",
       "      <td>259.0</td>\n",
       "      <td>360.0</td>\n",
       "      <td>1219.0</td>\n",
       "    </tr>\n",
       "    <tr>\n",
       "      <th>3</th>\n",
       "      <td>2015-01-01 00:45:00</td>\n",
       "      <td>1005.0</td>\n",
       "      <td>290.0</td>\n",
       "      <td>129.0</td>\n",
       "      <td>2037.0</td>\n",
       "      <td>0.0</td>\n",
       "      <td>33.0</td>\n",
       "      <td>2718.0</td>\n",
       "      <td>3872.0</td>\n",
       "      <td>665.0</td>\n",
       "      <td>225.0</td>\n",
       "      <td>280.0</td>\n",
       "      <td>1243.0</td>\n",
       "    </tr>\n",
       "    <tr>\n",
       "      <th>4</th>\n",
       "      <td>2015-01-01 01:00:00</td>\n",
       "      <td>999.0</td>\n",
       "      <td>295.0</td>\n",
       "      <td>129.0</td>\n",
       "      <td>2046.0</td>\n",
       "      <td>0.0</td>\n",
       "      <td>33.0</td>\n",
       "      <td>2772.0</td>\n",
       "      <td>3899.0</td>\n",
       "      <td>521.0</td>\n",
       "      <td>190.0</td>\n",
       "      <td>185.0</td>\n",
       "      <td>1248.0</td>\n",
       "    </tr>\n",
       "  </tbody>\n",
       "</table>\n",
       "</div>"
      ],
      "text/plain": [
       "            timestamp  Biomass [MWh]  Hydropower [MWh]  Wind offshore [MWh]  \\\n",
       "0 2015-01-01 00:00:00         1006.0             288.0                130.0   \n",
       "1 2015-01-01 00:15:00         1007.0             288.0                129.0   \n",
       "2 2015-01-01 00:30:00         1007.0             293.0                129.0   \n",
       "3 2015-01-01 00:45:00         1005.0             290.0                129.0   \n",
       "4 2015-01-01 01:00:00          999.0             295.0                129.0   \n",
       "\n",
       "   Wind onshore [MWh]  Photovoltaics [MWh]  Other renewable [MWh]  \\\n",
       "0              2028.0                  0.0                   33.0   \n",
       "1              2023.0                  0.0                   33.0   \n",
       "2              2040.0                  0.0                   33.0   \n",
       "3              2037.0                  0.0                   33.0   \n",
       "4              2046.0                  0.0                   33.0   \n",
       "\n",
       "   Nuclear [MWh]  Fossil brown coal [MWh]  Fossil hard coal [MWh]  \\\n",
       "0         2686.0                   3977.0                   686.0   \n",
       "1         2646.0                   3963.0                   721.0   \n",
       "2         2661.0                   3925.0                   696.0   \n",
       "3         2718.0                   3872.0                   665.0   \n",
       "4         2772.0                   3899.0                   521.0   \n",
       "\n",
       "   Fossil gas [MWh]  Hydro pumped storage [MWh]  Other conventional [MWh]  \n",
       "0             262.0                       368.0                    1236.0  \n",
       "1             261.0                       328.0                    1214.0  \n",
       "2             259.0                       360.0                    1219.0  \n",
       "3             225.0                       280.0                    1243.0  \n",
       "4             190.0                       185.0                    1248.0  "
      ]
     },
     "execution_count": 240,
     "metadata": {},
     "output_type": "execute_result"
    }
   ],
   "source": [
    "generation.head()"
   ]
  },
  {
   "cell_type": "code",
   "execution_count": 282,
   "metadata": {},
   "outputs": [
    {
     "ename": "TypeError",
     "evalue": "'str' object is not callable",
     "output_type": "error",
     "traceback": [
      "\u001b[0;31m---------------------------------------------------------------------------\u001b[0m",
      "\u001b[0;31mTypeError\u001b[0m                                 Traceback (most recent call last)",
      "\u001b[0;32m<ipython-input-282-dca09274df26>\u001b[0m in \u001b[0;36m<module>\u001b[0;34m\u001b[0m\n\u001b[1;32m      3\u001b[0m     generation.drop('timestamp',axis=1).apply(sum, axis=1).values)\n\u001b[1;32m      4\u001b[0m \u001b[0mplt\u001b[0m\u001b[0;34m.\u001b[0m\u001b[0mtitle\u001b[0m\u001b[0;34m(\u001b[0m\u001b[0;34m'\\nTotal Electricity Generation in Germany\\n'\u001b[0m\u001b[0;34m,\u001b[0m \u001b[0mfontsize\u001b[0m\u001b[0;34m=\u001b[0m\u001b[0;36m20\u001b[0m\u001b[0;34m,\u001b[0m \u001b[0mfontweight\u001b[0m\u001b[0;34m=\u001b[0m\u001b[0;34m'bold'\u001b[0m\u001b[0;34m)\u001b[0m\u001b[0;34m\u001b[0m\u001b[0;34m\u001b[0m\u001b[0m\n\u001b[0;32m----> 5\u001b[0;31m \u001b[0mplt\u001b[0m\u001b[0;34m.\u001b[0m\u001b[0mylabel\u001b[0m\u001b[0;34m(\u001b[0m\u001b[0;34m'Elevtricity Generation [MWh]'\u001b[0m\u001b[0;34m)\u001b[0m\u001b[0;34m\u001b[0m\u001b[0;34m\u001b[0m\u001b[0m\n\u001b[0m\u001b[1;32m      6\u001b[0m \u001b[0mplt\u001b[0m\u001b[0;34m.\u001b[0m\u001b[0mshow\u001b[0m\u001b[0;34m(\u001b[0m\u001b[0;34m)\u001b[0m\u001b[0;34m\u001b[0m\u001b[0;34m\u001b[0m\u001b[0m\n",
      "\u001b[0;31mTypeError\u001b[0m: 'str' object is not callable"
     ]
    },
    {
     "data": {
      "image/png": "[encoded data removed]",
      "text/plain": [
       "<Figure size 1008x288 with 1 Axes>"
      ]
     },
     "metadata": {},
     "output_type": "display_data"
    }
   ],
   "source": [
    "plt.figure(figsize=(14,4))\n",
    "plt.plot(generation.timestamp,\n",
    "    generation.drop('timestamp',axis=1).apply(sum, axis=1).values)\n",
    "plt.title('\\nTotal Electricity Generation in Germany\\n', fontsize=20, fontweight='bold')\n",
    "plt.ylabel('Elevtricity Generation [MWh]')\n",
    "plt.show()"
   ]
  },
  {
   "cell_type": "code",
   "execution_count": 475,
   "metadata": {},
   "outputs": [],
   "source": [
    "generation.to_csv('../Data_Cleaned/generation.csv', index=False)\n",
    "generation.to_pickle('../Data_Cleaned/generation.pkl')"
   ]
  },
  {
   "cell_type": "markdown",
   "metadata": {},
   "source": [
    "* **Capacity Installed Dataset**"
   ]
  },
  {
   "cell_type": "code",
   "execution_count": 261,
   "metadata": {},
   "outputs": [
    {
     "name": "stdout",
     "output_type": "stream",
     "text": [
      "<class 'pandas.core.frame.DataFrame'>\n",
      "Int64Index: 8 entries, 0 to 1\n",
      "Data columns (total 14 columns):\n",
      " #   Column                    Non-Null Count  Dtype \n",
      "---  ------                    --------------  ----- \n",
      " 0   Date                      8 non-null      object\n",
      " 1   Time of day               8 non-null      object\n",
      " 2   Biomass[MW]               8 non-null      object\n",
      " 3   Hydropower[MW]            8 non-null      object\n",
      " 4   Wind offshore[MW]         8 non-null      object\n",
      " 5   Wind onshore[MW]          8 non-null      object\n",
      " 6   Photovoltaics[MW]         8 non-null      object\n",
      " 7   Other renewable[MW]       8 non-null      int64 \n",
      " 8   Nuclear[MW]               8 non-null      object\n",
      " 9   Fossil brown coal[MW]     8 non-null      object\n",
      " 10  Fossil hard coal[MW]      8 non-null      object\n",
      " 11  Fossil gas[MW]            8 non-null      object\n",
      " 12  Hydro pumped storage[MW]  8 non-null      object\n",
      " 13  Other conventional[MW]    8 non-null      object\n",
      "dtypes: int64(1), object(13)\n",
      "memory usage: 960.0+ bytes\n"
     ]
    }
   ],
   "source": [
    "installed.info()"
   ]
  },
  {
   "cell_type": "markdown",
   "metadata": {},
   "source": [
    "This Dataset is small. We can take a look at all of its values. But first let's get rid of duplicates."
   ]
  },
  {
   "cell_type": "markdown",
   "metadata": {},
   "source": [
    "**Drop Duplicates**"
   ]
  },
  {
   "cell_type": "code",
   "execution_count": 262,
   "metadata": {},
   "outputs": [
    {
     "data": {
      "text/plain": [
       "2"
      ]
     },
     "execution_count": 262,
     "metadata": {},
     "output_type": "execute_result"
    }
   ],
   "source": [
    "# Check for duplicates\n",
    "installed.duplicated().sum()"
   ]
  },
  {
   "cell_type": "code",
   "execution_count": 263,
   "metadata": {},
   "outputs": [],
   "source": [
    "installed.drop_duplicates(inplace=True)"
   ]
  },
  {
   "cell_type": "code",
   "execution_count": 264,
   "metadata": {},
   "outputs": [
    {
     "data": {
      "text/html": [
       "<div>\n",
       "<style scoped>\n",
       "    .dataframe tbody tr th:only-of-type {\n",
       "        vertical-align: middle;\n",
       "    }\n",
       "\n",
       "    .dataframe tbody tr th {\n",
       "        vertical-align: top;\n",
       "    }\n",
       "\n",
       "    .dataframe thead th {\n",
       "        text-align: right;\n",
       "    }\n",
       "</style>\n",
       "<table border=\"1\" class=\"dataframe\">\n",
       "  <thead>\n",
       "    <tr style=\"text-align: right;\">\n",
       "      <th></th>\n",
       "      <th>Date</th>\n",
       "      <th>Time of day</th>\n",
       "      <th>Biomass[MW]</th>\n",
       "      <th>Hydropower[MW]</th>\n",
       "      <th>Wind offshore[MW]</th>\n",
       "      <th>Wind onshore[MW]</th>\n",
       "      <th>Photovoltaics[MW]</th>\n",
       "      <th>Other renewable[MW]</th>\n",
       "      <th>Nuclear[MW]</th>\n",
       "      <th>Fossil brown coal[MW]</th>\n",
       "      <th>Fossil hard coal[MW]</th>\n",
       "      <th>Fossil gas[MW]</th>\n",
       "      <th>Hydro pumped storage[MW]</th>\n",
       "      <th>Other conventional[MW]</th>\n",
       "    </tr>\n",
       "  </thead>\n",
       "  <tbody>\n",
       "    <tr>\n",
       "      <th>0</th>\n",
       "      <td>Jan 1, 2015</td>\n",
       "      <td>12:00 AM</td>\n",
       "      <td>6,808</td>\n",
       "      <td>5,507</td>\n",
       "      <td>993</td>\n",
       "      <td>37,701</td>\n",
       "      <td>37,271</td>\n",
       "      <td>483</td>\n",
       "      <td>12,068</td>\n",
       "      <td>21,160</td>\n",
       "      <td>26,190</td>\n",
       "      <td>31,734</td>\n",
       "      <td>8,699</td>\n",
       "      <td>7,437</td>\n",
       "    </tr>\n",
       "    <tr>\n",
       "      <th>1</th>\n",
       "      <td>Jan 1, 2016</td>\n",
       "      <td>12:00 AM</td>\n",
       "      <td>6,815</td>\n",
       "      <td>5,514</td>\n",
       "      <td>3,283</td>\n",
       "      <td>41,168</td>\n",
       "      <td>38,686</td>\n",
       "      <td>545</td>\n",
       "      <td>10,793</td>\n",
       "      <td>21,062</td>\n",
       "      <td>26,264</td>\n",
       "      <td>32,398</td>\n",
       "      <td>8,699</td>\n",
       "      <td>7,576</td>\n",
       "    </tr>\n",
       "    <tr>\n",
       "      <th>2</th>\n",
       "      <td>Jan 1, 2017</td>\n",
       "      <td>12:00 AM</td>\n",
       "      <td>7,080</td>\n",
       "      <td>5,446</td>\n",
       "      <td>4,131</td>\n",
       "      <td>47,042</td>\n",
       "      <td>40,834</td>\n",
       "      <td>550</td>\n",
       "      <td>10,793</td>\n",
       "      <td>21,262</td>\n",
       "      <td>27,437</td>\n",
       "      <td>32,627</td>\n",
       "      <td>8,894</td>\n",
       "      <td>7,720</td>\n",
       "    </tr>\n",
       "    <tr>\n",
       "      <th>1</th>\n",
       "      <td>Jan 1, 2018</td>\n",
       "      <td>12:00 AM</td>\n",
       "      <td>7,396</td>\n",
       "      <td>5,300</td>\n",
       "      <td>5,051</td>\n",
       "      <td>51,633</td>\n",
       "      <td>42,804</td>\n",
       "      <td>534</td>\n",
       "      <td>9,516</td>\n",
       "      <td>21,275</td>\n",
       "      <td>25,035</td>\n",
       "      <td>31,361</td>\n",
       "      <td>8,918</td>\n",
       "      <td>7,375</td>\n",
       "    </tr>\n",
       "    <tr>\n",
       "      <th>2</th>\n",
       "      <td>Jan 1, 2019</td>\n",
       "      <td>12:00 AM</td>\n",
       "      <td>7,752</td>\n",
       "      <td>5,281</td>\n",
       "      <td>6,393</td>\n",
       "      <td>52,792</td>\n",
       "      <td>45,299</td>\n",
       "      <td>487</td>\n",
       "      <td>9,516</td>\n",
       "      <td>21,205</td>\n",
       "      <td>25,293</td>\n",
       "      <td>31,664</td>\n",
       "      <td>9,422</td>\n",
       "      <td>7,277</td>\n",
       "    </tr>\n",
       "    <tr>\n",
       "      <th>1</th>\n",
       "      <td>Jan 1, 2020</td>\n",
       "      <td>12:00 AM</td>\n",
       "      <td>7,855</td>\n",
       "      <td>5,256</td>\n",
       "      <td>7,709</td>\n",
       "      <td>53,405</td>\n",
       "      <td>46,471</td>\n",
       "      <td>523</td>\n",
       "      <td>8,114</td>\n",
       "      <td>21,067</td>\n",
       "      <td>22,458</td>\n",
       "      <td>31,712</td>\n",
       "      <td>9,422</td>\n",
       "      <td>7,592</td>\n",
       "    </tr>\n",
       "  </tbody>\n",
       "</table>\n",
       "</div>"
      ],
      "text/plain": [
       "          Date Time of day Biomass[MW] Hydropower[MW] Wind offshore[MW]  \\\n",
       "0  Jan 1, 2015    12:00 AM       6,808          5,507               993   \n",
       "1  Jan 1, 2016    12:00 AM       6,815          5,514             3,283   \n",
       "2  Jan 1, 2017    12:00 AM       7,080          5,446             4,131   \n",
       "1  Jan 1, 2018    12:00 AM       7,396          5,300             5,051   \n",
       "2  Jan 1, 2019    12:00 AM       7,752          5,281             6,393   \n",
       "1  Jan 1, 2020    12:00 AM       7,855          5,256             7,709   \n",
       "\n",
       "  Wind onshore[MW] Photovoltaics[MW]  Other renewable[MW] Nuclear[MW]  \\\n",
       "0           37,701            37,271                  483      12,068   \n",
       "1           41,168            38,686                  545      10,793   \n",
       "2           47,042            40,834                  550      10,793   \n",
       "1           51,633            42,804                  534       9,516   \n",
       "2           52,792            45,299                  487       9,516   \n",
       "1           53,405            46,471                  523       8,114   \n",
       "\n",
       "  Fossil brown coal[MW] Fossil hard coal[MW] Fossil gas[MW]  \\\n",
       "0                21,160               26,190         31,734   \n",
       "1                21,062               26,264         32,398   \n",
       "2                21,262               27,437         32,627   \n",
       "1                21,275               25,035         31,361   \n",
       "2                21,205               25,293         31,664   \n",
       "1                21,067               22,458         31,712   \n",
       "\n",
       "  Hydro pumped storage[MW] Other conventional[MW]  \n",
       "0                    8,699                  7,437  \n",
       "1                    8,699                  7,576  \n",
       "2                    8,894                  7,720  \n",
       "1                    8,918                  7,375  \n",
       "2                    9,422                  7,277  \n",
       "1                    9,422                  7,592  "
      ]
     },
     "execution_count": 264,
     "metadata": {},
     "output_type": "execute_result"
    }
   ],
   "source": [
    "installed"
   ]
  },
  {
   "cell_type": "markdown",
   "metadata": {},
   "source": [
    "**Data Types**`"
   ]
  },
  {
   "cell_type": "code",
   "execution_count": 265,
   "metadata": {},
   "outputs": [],
   "source": [
    "installed['timestamp']= installed.apply(lambda x: (x['Date']+x['Time of day']), axis=1 )\\\n",
    "                                 .apply(lambda x: datetime.strptime(x, '%b %d, %Y%I:%M %p'))\\\n",
    "                                 .apply(lambda x: pd.to_datetime(x))"
   ]
  },
  {
   "cell_type": "code",
   "execution_count": 266,
   "metadata": {},
   "outputs": [],
   "source": [
    "installed.drop(['Date','Time of day'], axis=1, inplace=True)"
   ]
  },
  {
   "cell_type": "code",
   "execution_count": 267,
   "metadata": {},
   "outputs": [],
   "source": [
    "installed[installed.columns[:-1]] = installed.drop(['timestamp'],axis=1)\\\n",
    "                                        .astype(str)\\\n",
    "                                        .applymap(lambda x: ''.join(x.split(',')))\\\n",
    "                                        .astype(float)"
   ]
  },
  {
   "cell_type": "code",
   "execution_count": 268,
   "metadata": {},
   "outputs": [
    {
     "data": {
      "text/plain": [
       "Biomass[MW]                        float64\n",
       "Hydropower[MW]                     float64\n",
       "Wind offshore[MW]                  float64\n",
       "Wind onshore[MW]                   float64\n",
       "Photovoltaics[MW]                  float64\n",
       "Other renewable[MW]                float64\n",
       "Nuclear[MW]                        float64\n",
       "Fossil brown coal[MW]              float64\n",
       "Fossil hard coal[MW]               float64\n",
       "Fossil gas[MW]                     float64\n",
       "Hydro pumped storage[MW]           float64\n",
       "Other conventional[MW]             float64\n",
       "timestamp                   datetime64[ns]\n",
       "dtype: object"
      ]
     },
     "execution_count": 268,
     "metadata": {},
     "output_type": "execute_result"
    }
   ],
   "source": [
    "installed.dtypes"
   ]
  },
  {
   "cell_type": "markdown",
   "metadata": {},
   "source": [
    "**Make a nice order**"
   ]
  },
  {
   "cell_type": "code",
   "execution_count": 269,
   "metadata": {},
   "outputs": [],
   "source": [
    "installed= installed[['timestamp']+installed.columns[:-1].tolist()]"
   ]
  },
  {
   "cell_type": "markdown",
   "metadata": {},
   "source": [
    "**Rename Columns**"
   ]
  },
  {
   "cell_type": "code",
   "execution_count": 270,
   "metadata": {},
   "outputs": [],
   "source": [
    "installed.columns=[' ['.join(i.split('[')) for i in installed.columns]"
   ]
  },
  {
   "cell_type": "code",
   "execution_count": 275,
   "metadata": {},
   "outputs": [],
   "source": [
    "installed.reset_index(drop=True, inplace=True)"
   ]
  },
  {
   "cell_type": "code",
   "execution_count": 276,
   "metadata": {},
   "outputs": [
    {
     "data": {
      "text/html": [
       "<div>\n",
       "<style scoped>\n",
       "    .dataframe tbody tr th:only-of-type {\n",
       "        vertical-align: middle;\n",
       "    }\n",
       "\n",
       "    .dataframe tbody tr th {\n",
       "        vertical-align: top;\n",
       "    }\n",
       "\n",
       "    .dataframe thead th {\n",
       "        text-align: right;\n",
       "    }\n",
       "</style>\n",
       "<table border=\"1\" class=\"dataframe\">\n",
       "  <thead>\n",
       "    <tr style=\"text-align: right;\">\n",
       "      <th></th>\n",
       "      <th>timestamp</th>\n",
       "      <th>Biomass [MW]</th>\n",
       "      <th>Hydropower [MW]</th>\n",
       "      <th>Wind offshore [MW]</th>\n",
       "      <th>Wind onshore [MW]</th>\n",
       "      <th>Photovoltaics [MW]</th>\n",
       "      <th>Other renewable [MW]</th>\n",
       "      <th>Nuclear [MW]</th>\n",
       "      <th>Fossil brown coal [MW]</th>\n",
       "      <th>Fossil hard coal [MW]</th>\n",
       "      <th>Fossil gas [MW]</th>\n",
       "      <th>Hydro pumped storage [MW]</th>\n",
       "      <th>Other conventional [MW]</th>\n",
       "    </tr>\n",
       "  </thead>\n",
       "  <tbody>\n",
       "    <tr>\n",
       "      <th>0</th>\n",
       "      <td>2015-01-01</td>\n",
       "      <td>6808.0</td>\n",
       "      <td>5507.0</td>\n",
       "      <td>993.0</td>\n",
       "      <td>37701.0</td>\n",
       "      <td>37271.0</td>\n",
       "      <td>483.0</td>\n",
       "      <td>12068.0</td>\n",
       "      <td>21160.0</td>\n",
       "      <td>26190.0</td>\n",
       "      <td>31734.0</td>\n",
       "      <td>8699.0</td>\n",
       "      <td>7437.0</td>\n",
       "    </tr>\n",
       "    <tr>\n",
       "      <th>1</th>\n",
       "      <td>2016-01-01</td>\n",
       "      <td>6815.0</td>\n",
       "      <td>5514.0</td>\n",
       "      <td>3283.0</td>\n",
       "      <td>41168.0</td>\n",
       "      <td>38686.0</td>\n",
       "      <td>545.0</td>\n",
       "      <td>10793.0</td>\n",
       "      <td>21062.0</td>\n",
       "      <td>26264.0</td>\n",
       "      <td>32398.0</td>\n",
       "      <td>8699.0</td>\n",
       "      <td>7576.0</td>\n",
       "    </tr>\n",
       "    <tr>\n",
       "      <th>2</th>\n",
       "      <td>2017-01-01</td>\n",
       "      <td>7080.0</td>\n",
       "      <td>5446.0</td>\n",
       "      <td>4131.0</td>\n",
       "      <td>47042.0</td>\n",
       "      <td>40834.0</td>\n",
       "      <td>550.0</td>\n",
       "      <td>10793.0</td>\n",
       "      <td>21262.0</td>\n",
       "      <td>27437.0</td>\n",
       "      <td>32627.0</td>\n",
       "      <td>8894.0</td>\n",
       "      <td>7720.0</td>\n",
       "    </tr>\n",
       "    <tr>\n",
       "      <th>3</th>\n",
       "      <td>2018-01-01</td>\n",
       "      <td>7396.0</td>\n",
       "      <td>5300.0</td>\n",
       "      <td>5051.0</td>\n",
       "      <td>51633.0</td>\n",
       "      <td>42804.0</td>\n",
       "      <td>534.0</td>\n",
       "      <td>9516.0</td>\n",
       "      <td>21275.0</td>\n",
       "      <td>25035.0</td>\n",
       "      <td>31361.0</td>\n",
       "      <td>8918.0</td>\n",
       "      <td>7375.0</td>\n",
       "    </tr>\n",
       "    <tr>\n",
       "      <th>4</th>\n",
       "      <td>2019-01-01</td>\n",
       "      <td>7752.0</td>\n",
       "      <td>5281.0</td>\n",
       "      <td>6393.0</td>\n",
       "      <td>52792.0</td>\n",
       "      <td>45299.0</td>\n",
       "      <td>487.0</td>\n",
       "      <td>9516.0</td>\n",
       "      <td>21205.0</td>\n",
       "      <td>25293.0</td>\n",
       "      <td>31664.0</td>\n",
       "      <td>9422.0</td>\n",
       "      <td>7277.0</td>\n",
       "    </tr>\n",
       "    <tr>\n",
       "      <th>5</th>\n",
       "      <td>2020-01-01</td>\n",
       "      <td>7855.0</td>\n",
       "      <td>5256.0</td>\n",
       "      <td>7709.0</td>\n",
       "      <td>53405.0</td>\n",
       "      <td>46471.0</td>\n",
       "      <td>523.0</td>\n",
       "      <td>8114.0</td>\n",
       "      <td>21067.0</td>\n",
       "      <td>22458.0</td>\n",
       "      <td>31712.0</td>\n",
       "      <td>9422.0</td>\n",
       "      <td>7592.0</td>\n",
       "    </tr>\n",
       "  </tbody>\n",
       "</table>\n",
       "</div>"
      ],
      "text/plain": [
       "   timestamp  Biomass [MW]  Hydropower [MW]  Wind offshore [MW]  \\\n",
       "0 2015-01-01        6808.0           5507.0               993.0   \n",
       "1 2016-01-01        6815.0           5514.0              3283.0   \n",
       "2 2017-01-01        7080.0           5446.0              4131.0   \n",
       "3 2018-01-01        7396.0           5300.0              5051.0   \n",
       "4 2019-01-01        7752.0           5281.0              6393.0   \n",
       "5 2020-01-01        7855.0           5256.0              7709.0   \n",
       "\n",
       "   Wind onshore [MW]  Photovoltaics [MW]  Other renewable [MW]  Nuclear [MW]  \\\n",
       "0            37701.0             37271.0                 483.0       12068.0   \n",
       "1            41168.0             38686.0                 545.0       10793.0   \n",
       "2            47042.0             40834.0                 550.0       10793.0   \n",
       "3            51633.0             42804.0                 534.0        9516.0   \n",
       "4            52792.0             45299.0                 487.0        9516.0   \n",
       "5            53405.0             46471.0                 523.0        8114.0   \n",
       "\n",
       "   Fossil brown coal [MW]  Fossil hard coal [MW]  Fossil gas [MW]  \\\n",
       "0                 21160.0                26190.0          31734.0   \n",
       "1                 21062.0                26264.0          32398.0   \n",
       "2                 21262.0                27437.0          32627.0   \n",
       "3                 21275.0                25035.0          31361.0   \n",
       "4                 21205.0                25293.0          31664.0   \n",
       "5                 21067.0                22458.0          31712.0   \n",
       "\n",
       "   Hydro pumped storage [MW]  Other conventional [MW]  \n",
       "0                     8699.0                   7437.0  \n",
       "1                     8699.0                   7576.0  \n",
       "2                     8894.0                   7720.0  \n",
       "3                     8918.0                   7375.0  \n",
       "4                     9422.0                   7277.0  \n",
       "5                     9422.0                   7592.0  "
      ]
     },
     "execution_count": 276,
     "metadata": {},
     "output_type": "execute_result"
    }
   ],
   "source": [
    "installed"
   ]
  },
  {
   "cell_type": "markdown",
   "metadata": {},
   "source": [
    "**Dataframe is ready**"
   ]
  },
  {
   "cell_type": "code",
   "execution_count": 303,
   "metadata": {},
   "outputs": [
    {
     "ename": "TypeError",
     "evalue": "'str' object is not callable",
     "output_type": "error",
     "traceback": [
      "\u001b[0;31m---------------------------------------------------------------------------\u001b[0m",
      "\u001b[0;31mTypeError\u001b[0m                                 Traceback (most recent call last)",
      "\u001b[0;32m<ipython-input-303-7c114cd7e096>\u001b[0m in \u001b[0;36m<module>\u001b[0;34m\u001b[0m\n\u001b[1;32m      4\u001b[0m             y=installed.drop('timestamp',axis=1).apply(sum, axis=1).values)\n\u001b[1;32m      5\u001b[0m \u001b[0mplt\u001b[0m\u001b[0;34m.\u001b[0m\u001b[0mxlabel\u001b[0m\u001b[0;34m(\u001b[0m\u001b[0;34m''\u001b[0m\u001b[0;34m)\u001b[0m\u001b[0;34m\u001b[0m\u001b[0;34m\u001b[0m\u001b[0m\n\u001b[0;32m----> 6\u001b[0;31m \u001b[0mplt\u001b[0m\u001b[0;34m.\u001b[0m\u001b[0mylabel\u001b[0m\u001b[0;34m(\u001b[0m\u001b[0;34m'Installed Capacity [MW]'\u001b[0m\u001b[0;34m)\u001b[0m\u001b[0;34m\u001b[0m\u001b[0;34m\u001b[0m\u001b[0m\n\u001b[0m\u001b[1;32m      7\u001b[0m \u001b[0mplt\u001b[0m\u001b[0;34m.\u001b[0m\u001b[0mshow\u001b[0m\u001b[0;34m(\u001b[0m\u001b[0;34m)\u001b[0m\u001b[0;34m\u001b[0m\u001b[0;34m\u001b[0m\u001b[0m\n",
      "\u001b[0;31mTypeError\u001b[0m: 'str' object is not callable"
     ]
    },
    {
     "data": {
      "image/png": "[encoded data removed]",
      "text/plain": [
       "<Figure size 864x288 with 1 Axes>"
      ]
     },
     "metadata": {},
     "output_type": "display_data"
    }
   ],
   "source": [
    "plt.figure(figsize=(12,4))\n",
    "plt.title('\\nTotal Installed Capacity in Germany\\n', fontsize=20, fontweight='bold')\n",
    "sns.barplot(x=installed.timestamp.apply(lambda x: x.year), \n",
    "            y=installed.drop('timestamp',axis=1).apply(sum, axis=1).values)\n",
    "plt.xlabel('')\n",
    "plt.ylabel('Installed Capacity [MW]')\n",
    "plt.show()"
   ]
  },
  {
   "cell_type": "code",
   "execution_count": 476,
   "metadata": {},
   "outputs": [],
   "source": [
    "installed.to_csv('../Data_Cleaned/installed.csv', index=False)\n",
    "installed.to_pickle('../Data_Cleaned/installed.pkl')"
   ]
  },
  {
   "cell_type": "markdown",
   "metadata": {},
   "source": [
    "* **Electricity Price Dataset**"
   ]
  },
  {
   "cell_type": "code",
   "execution_count": 382,
   "metadata": {},
   "outputs": [
    {
     "name": "stdout",
     "output_type": "stream",
     "text": [
      "<class 'pandas.core.frame.DataFrame'>\n",
      "Int64Index: 44832 entries, 0 to 9719\n",
      "Data columns (total 16 columns):\n",
      " #   Column                                Non-Null Count  Dtype \n",
      "---  ------                                --------------  ----- \n",
      " 0   Date                                  44832 non-null  object\n",
      " 1   Time of day                           44832 non-null  object\n",
      " 2   Germany/Luxembourg[Euro/MWh]          44832 non-null  object\n",
      " 3   Denmark 1[Euro/MWh]                   44832 non-null  object\n",
      " 4   Denmark 2[Euro/MWh]                   44832 non-null  object\n",
      " 5   France[Euro/MWh]                      44832 non-null  object\n",
      " 6   Northern Italy[Euro/MWh]              44832 non-null  object\n",
      " 7   Netherlands[Euro/MWh]                 44832 non-null  object\n",
      " 8   Poland[Euro/MWh]                      44832 non-null  object\n",
      " 9   Sweden 4[Euro/MWh]                    44832 non-null  object\n",
      " 10  Switzerland[Euro/MWh]                 44832 non-null  object\n",
      " 11  Slovenia[Euro/MWh]                    44832 non-null  object\n",
      " 12  Czech Republic[Euro/MWh]              44832 non-null  object\n",
      " 13  Hungary[Euro/MWh]                     44832 non-null  object\n",
      " 14  Austria[Euro/MWh]                     44832 non-null  object\n",
      " 15  Germany/Austria/Luxembourg[Euro/MWh]  44832 non-null  object\n",
      "dtypes: object(16)\n",
      "memory usage: 5.8+ MB\n"
     ]
    }
   ],
   "source": [
    "price.info()"
   ]
  },
  {
   "cell_type": "code",
   "execution_count": 383,
   "metadata": {},
   "outputs": [
    {
     "data": {
      "text/html": [
       "<div>\n",
       "<style scoped>\n",
       "    .dataframe tbody tr th:only-of-type {\n",
       "        vertical-align: middle;\n",
       "    }\n",
       "\n",
       "    .dataframe tbody tr th {\n",
       "        vertical-align: top;\n",
       "    }\n",
       "\n",
       "    .dataframe thead th {\n",
       "        text-align: right;\n",
       "    }\n",
       "</style>\n",
       "<table border=\"1\" class=\"dataframe\">\n",
       "  <thead>\n",
       "    <tr style=\"text-align: right;\">\n",
       "      <th></th>\n",
       "      <th>Date</th>\n",
       "      <th>Time of day</th>\n",
       "      <th>Germany/Luxembourg[Euro/MWh]</th>\n",
       "      <th>Denmark 1[Euro/MWh]</th>\n",
       "      <th>Denmark 2[Euro/MWh]</th>\n",
       "      <th>France[Euro/MWh]</th>\n",
       "      <th>Northern Italy[Euro/MWh]</th>\n",
       "      <th>Netherlands[Euro/MWh]</th>\n",
       "      <th>Poland[Euro/MWh]</th>\n",
       "      <th>Sweden 4[Euro/MWh]</th>\n",
       "      <th>Switzerland[Euro/MWh]</th>\n",
       "      <th>Slovenia[Euro/MWh]</th>\n",
       "      <th>Czech Republic[Euro/MWh]</th>\n",
       "      <th>Hungary[Euro/MWh]</th>\n",
       "      <th>Austria[Euro/MWh]</th>\n",
       "      <th>Germany/Austria/Luxembourg[Euro/MWh]</th>\n",
       "    </tr>\n",
       "  </thead>\n",
       "  <tbody>\n",
       "    <tr>\n",
       "      <th>count</th>\n",
       "      <td>44832</td>\n",
       "      <td>44832</td>\n",
       "      <td>44832</td>\n",
       "      <td>44832</td>\n",
       "      <td>44832</td>\n",
       "      <td>44832</td>\n",
       "      <td>44832</td>\n",
       "      <td>44832</td>\n",
       "      <td>44832</td>\n",
       "      <td>44832</td>\n",
       "      <td>44832</td>\n",
       "      <td>44832.0</td>\n",
       "      <td>44832</td>\n",
       "      <td>44832</td>\n",
       "      <td>44832</td>\n",
       "      <td>44832</td>\n",
       "    </tr>\n",
       "    <tr>\n",
       "      <th>unique</th>\n",
       "      <td>1866</td>\n",
       "      <td>24</td>\n",
       "      <td>4832</td>\n",
       "      <td>10541</td>\n",
       "      <td>10717</td>\n",
       "      <td>7892</td>\n",
       "      <td>5813</td>\n",
       "      <td>6526</td>\n",
       "      <td>3961</td>\n",
       "      <td>10078</td>\n",
       "      <td>7618</td>\n",
       "      <td>11304.0</td>\n",
       "      <td>10729</td>\n",
       "      <td>12206</td>\n",
       "      <td>4559</td>\n",
       "      <td>6590</td>\n",
       "    </tr>\n",
       "    <tr>\n",
       "      <th>top</th>\n",
       "      <td>Jan 1, 2017</td>\n",
       "      <td>2:00 AM</td>\n",
       "      <td>-</td>\n",
       "      <td>-</td>\n",
       "      <td>-</td>\n",
       "      <td>-</td>\n",
       "      <td>-</td>\n",
       "      <td>-</td>\n",
       "      <td>-</td>\n",
       "      <td>-</td>\n",
       "      <td>-</td>\n",
       "      <td>50.0</td>\n",
       "      <td>-</td>\n",
       "      <td>-</td>\n",
       "      <td>-</td>\n",
       "      <td>-</td>\n",
       "    </tr>\n",
       "    <tr>\n",
       "      <th>freq</th>\n",
       "      <td>48</td>\n",
       "      <td>1868</td>\n",
       "      <td>33071</td>\n",
       "      <td>216</td>\n",
       "      <td>192</td>\n",
       "      <td>288</td>\n",
       "      <td>19224</td>\n",
       "      <td>408</td>\n",
       "      <td>28679</td>\n",
       "      <td>192</td>\n",
       "      <td>240</td>\n",
       "      <td>303.0</td>\n",
       "      <td>240</td>\n",
       "      <td>192</td>\n",
       "      <td>32999</td>\n",
       "      <td>12073</td>\n",
       "    </tr>\n",
       "  </tbody>\n",
       "</table>\n",
       "</div>"
      ],
      "text/plain": [
       "               Date Time of day Germany/Luxembourg[Euro/MWh]  \\\n",
       "count         44832       44832                        44832   \n",
       "unique         1866          24                         4832   \n",
       "top     Jan 1, 2017     2:00 AM                            -   \n",
       "freq             48        1868                        33071   \n",
       "\n",
       "       Denmark 1[Euro/MWh] Denmark 2[Euro/MWh] France[Euro/MWh]  \\\n",
       "count                44832               44832            44832   \n",
       "unique               10541               10717             7892   \n",
       "top                      -                   -                -   \n",
       "freq                   216                 192              288   \n",
       "\n",
       "       Northern Italy[Euro/MWh] Netherlands[Euro/MWh] Poland[Euro/MWh]  \\\n",
       "count                     44832                 44832            44832   \n",
       "unique                     5813                  6526             3961   \n",
       "top                           -                     -                -   \n",
       "freq                      19224                   408            28679   \n",
       "\n",
       "       Sweden 4[Euro/MWh] Switzerland[Euro/MWh]  Slovenia[Euro/MWh]  \\\n",
       "count               44832                 44832             44832.0   \n",
       "unique              10078                  7618             11304.0   \n",
       "top                     -                     -                50.0   \n",
       "freq                  192                   240               303.0   \n",
       "\n",
       "       Czech Republic[Euro/MWh] Hungary[Euro/MWh] Austria[Euro/MWh]  \\\n",
       "count                     44832             44832             44832   \n",
       "unique                    10729             12206              4559   \n",
       "top                           -                 -                 -   \n",
       "freq                        240               192             32999   \n",
       "\n",
       "       Germany/Austria/Luxembourg[Euro/MWh]  \n",
       "count                                 44832  \n",
       "unique                                 6590  \n",
       "top                                       -  \n",
       "freq                                  12073  "
      ]
     },
     "execution_count": 383,
     "metadata": {},
     "output_type": "execute_result"
    }
   ],
   "source": [
    "price.describe()"
   ]
  },
  {
   "cell_type": "markdown",
   "metadata": {},
   "source": [
    "**Correct Datatypes**"
   ]
  },
  {
   "cell_type": "code",
   "execution_count": 384,
   "metadata": {},
   "outputs": [],
   "source": [
    "price['timestamp']= price.apply(lambda x: (x['Date']+x['Time of day']), axis=1 )\\\n",
    "                                     .apply(lambda x: datetime.strptime(x, '%b %d, %Y%I:%M %p'))\\\n",
    "                                     .apply(lambda x: pd.to_datetime(x))"
   ]
  },
  {
   "cell_type": "markdown",
   "metadata": {},
   "source": [
    "**Keep necessary columns and drop others**"
   ]
  },
  {
   "cell_type": "code",
   "execution_count": 385,
   "metadata": {},
   "outputs": [],
   "source": [
    "price=price[['timestamp','Germany/Austria/Luxembourg[Euro/MWh]']]"
   ]
  },
  {
   "cell_type": "code",
   "execution_count": 386,
   "metadata": {},
   "outputs": [
    {
     "data": {
      "text/html": [
       "<div>\n",
       "<style scoped>\n",
       "    .dataframe tbody tr th:only-of-type {\n",
       "        vertical-align: middle;\n",
       "    }\n",
       "\n",
       "    .dataframe tbody tr th {\n",
       "        vertical-align: top;\n",
       "    }\n",
       "\n",
       "    .dataframe thead th {\n",
       "        text-align: right;\n",
       "    }\n",
       "</style>\n",
       "<table border=\"1\" class=\"dataframe\">\n",
       "  <thead>\n",
       "    <tr style=\"text-align: right;\">\n",
       "      <th></th>\n",
       "      <th>timestamp</th>\n",
       "      <th>Germany/Austria/Luxembourg[Euro/MWh]</th>\n",
       "    </tr>\n",
       "  </thead>\n",
       "  <tbody>\n",
       "    <tr>\n",
       "      <th>0</th>\n",
       "      <td>2015-01-01 00:00:00</td>\n",
       "      <td>-</td>\n",
       "    </tr>\n",
       "    <tr>\n",
       "      <th>1</th>\n",
       "      <td>2015-01-01 01:00:00</td>\n",
       "      <td>-</td>\n",
       "    </tr>\n",
       "    <tr>\n",
       "      <th>2</th>\n",
       "      <td>2015-01-01 02:00:00</td>\n",
       "      <td>-</td>\n",
       "    </tr>\n",
       "    <tr>\n",
       "      <th>3</th>\n",
       "      <td>2015-01-01 03:00:00</td>\n",
       "      <td>-</td>\n",
       "    </tr>\n",
       "    <tr>\n",
       "      <th>4</th>\n",
       "      <td>2015-01-01 04:00:00</td>\n",
       "      <td>-</td>\n",
       "    </tr>\n",
       "  </tbody>\n",
       "</table>\n",
       "</div>"
      ],
      "text/plain": [
       "            timestamp Germany/Austria/Luxembourg[Euro/MWh]\n",
       "0 2015-01-01 00:00:00                                    -\n",
       "1 2015-01-01 01:00:00                                    -\n",
       "2 2015-01-01 02:00:00                                    -\n",
       "3 2015-01-01 03:00:00                                    -\n",
       "4 2015-01-01 04:00:00                                    -"
      ]
     },
     "execution_count": 386,
     "metadata": {},
     "output_type": "execute_result"
    }
   ],
   "source": [
    "price.head()"
   ]
  },
  {
   "cell_type": "markdown",
   "metadata": {},
   "source": [
    "**Rename Columns**"
   ]
  },
  {
   "cell_type": "code",
   "execution_count": 387,
   "metadata": {},
   "outputs": [],
   "source": [
    "price.rename(columns={'Germany/Austria/Luxembourg[Euro/MWh]':'Price [Euro/MWh]'}, inplace=True)"
   ]
  },
  {
   "cell_type": "markdown",
   "metadata": {},
   "source": [
    "**Correct the data range**"
   ]
  },
  {
   "cell_type": "code",
   "execution_count": 388,
   "metadata": {},
   "outputs": [],
   "source": [
    "price= price[price.timestamp.apply(lambda x: x.year) != 2020]"
   ]
  },
  {
   "cell_type": "code",
   "execution_count": 389,
   "metadata": {},
   "outputs": [
    {
     "data": {
      "text/html": [
       "<div>\n",
       "<style scoped>\n",
       "    .dataframe tbody tr th:only-of-type {\n",
       "        vertical-align: middle;\n",
       "    }\n",
       "\n",
       "    .dataframe tbody tr th {\n",
       "        vertical-align: top;\n",
       "    }\n",
       "\n",
       "    .dataframe thead th {\n",
       "        text-align: right;\n",
       "    }\n",
       "</style>\n",
       "<table border=\"1\" class=\"dataframe\">\n",
       "  <thead>\n",
       "    <tr style=\"text-align: right;\">\n",
       "      <th></th>\n",
       "      <th>timestamp</th>\n",
       "      <th>Price [Euro/MWh]</th>\n",
       "    </tr>\n",
       "  </thead>\n",
       "  <tbody>\n",
       "    <tr>\n",
       "      <th>count</th>\n",
       "      <td>43872</td>\n",
       "      <td>43872</td>\n",
       "    </tr>\n",
       "    <tr>\n",
       "      <th>unique</th>\n",
       "      <td>43819</td>\n",
       "      <td>6590</td>\n",
       "    </tr>\n",
       "    <tr>\n",
       "      <th>top</th>\n",
       "      <td>2017-01-01 10:00:00</td>\n",
       "      <td>-</td>\n",
       "    </tr>\n",
       "    <tr>\n",
       "      <th>freq</th>\n",
       "      <td>2</td>\n",
       "      <td>11113</td>\n",
       "    </tr>\n",
       "    <tr>\n",
       "      <th>first</th>\n",
       "      <td>2015-01-01 00:00:00</td>\n",
       "      <td>NaN</td>\n",
       "    </tr>\n",
       "    <tr>\n",
       "      <th>last</th>\n",
       "      <td>2019-12-31 23:00:00</td>\n",
       "      <td>NaN</td>\n",
       "    </tr>\n",
       "  </tbody>\n",
       "</table>\n",
       "</div>"
      ],
      "text/plain": [
       "                  timestamp Price [Euro/MWh]\n",
       "count                 43872            43872\n",
       "unique                43819             6590\n",
       "top     2017-01-01 10:00:00                -\n",
       "freq                      2            11113\n",
       "first   2015-01-01 00:00:00              NaN\n",
       "last    2019-12-31 23:00:00              NaN"
      ]
     },
     "execution_count": 389,
     "metadata": {},
     "output_type": "execute_result"
    }
   ],
   "source": [
    "price.describe(include='all')"
   ]
  },
  {
   "cell_type": "markdown",
   "metadata": {},
   "source": [
    "**Check duplicates**"
   ]
  },
  {
   "cell_type": "code",
   "execution_count": 390,
   "metadata": {},
   "outputs": [
    {
     "data": {
      "text/plain": [
       "51"
      ]
     },
     "execution_count": 390,
     "metadata": {},
     "output_type": "execute_result"
    }
   ],
   "source": [
    "price.duplicated().sum()"
   ]
  },
  {
   "cell_type": "code",
   "execution_count": 391,
   "metadata": {},
   "outputs": [],
   "source": [
    "price.drop_duplicates(inplace=True)"
   ]
  },
  {
   "cell_type": "code",
   "execution_count": 392,
   "metadata": {},
   "outputs": [
    {
     "data": {
      "text/plain": [
       "0"
      ]
     },
     "execution_count": 392,
     "metadata": {},
     "output_type": "execute_result"
    }
   ],
   "source": [
    "price.duplicated().sum()"
   ]
  },
  {
   "cell_type": "code",
   "execution_count": 393,
   "metadata": {},
   "outputs": [
    {
     "data": {
      "text/plain": [
       "2"
      ]
     },
     "execution_count": 393,
     "metadata": {},
     "output_type": "execute_result"
    }
   ],
   "source": [
    "price.timestamp.duplicated().sum()"
   ]
  },
  {
   "cell_type": "code",
   "execution_count": 394,
   "metadata": {},
   "outputs": [],
   "source": [
    "price= price[~price.timestamp.duplicated()]"
   ]
  },
  {
   "cell_type": "code",
   "execution_count": 395,
   "metadata": {},
   "outputs": [
    {
     "data": {
      "text/plain": [
       "0"
      ]
     },
     "execution_count": 395,
     "metadata": {},
     "output_type": "execute_result"
    }
   ],
   "source": [
    "price.timestamp.duplicated().sum()"
   ]
  },
  {
   "cell_type": "markdown",
   "metadata": {},
   "source": [
    "**Missing Timesteps**"
   ]
  },
  {
   "cell_type": "code",
   "execution_count": 396,
   "metadata": {},
   "outputs": [],
   "source": [
    "must_be_timesteps= (price.timestamp.max()-price.timestamp.min())/pd.to_timedelta(1,unit='h')+1"
   ]
  },
  {
   "cell_type": "code",
   "execution_count": 397,
   "metadata": {},
   "outputs": [
    {
     "name": "stdout",
     "output_type": "stream",
     "text": [
      "Existing Timesteps:  43819\n",
      "Target Timesteps:    43824.0\n",
      "missing Timesteps:   5.0\n"
     ]
    }
   ],
   "source": [
    "print('Existing Timesteps: ', price.shape[0])\n",
    "print('Target Timesteps:   ', must_be_timesteps)\n",
    "print('missing Timesteps:  ', must_be_timesteps-price.shape[0])"
   ]
  },
  {
   "cell_type": "code",
   "execution_count": 398,
   "metadata": {},
   "outputs": [],
   "source": [
    "# creating reference DatetimeIndex idx_ref with a 1-hour frequency\n",
    "idx_ref = pd.date_range(start=price.timestamp.min(), end=price.timestamp.max(),freq='h')\n",
    "\n",
    "# idx_dat represents your DatetimeIndex from the sensor\n",
    "gaps = idx_ref[~idx_ref.isin(price.timestamp)]"
   ]
  },
  {
   "cell_type": "code",
   "execution_count": 399,
   "metadata": {},
   "outputs": [
    {
     "data": {
      "text/plain": [
       "DatetimeIndex(['2015-03-29 02:00:00', '2016-03-27 02:00:00',\n",
       "               '2017-03-26 02:00:00', '2018-03-25 02:00:00',\n",
       "               '2019-03-31 02:00:00'],\n",
       "              dtype='datetime64[ns]', freq=None)"
      ]
     },
     "execution_count": 399,
     "metadata": {},
     "output_type": "execute_result"
    }
   ],
   "source": [
    "gaps"
   ]
  },
  {
   "cell_type": "code",
   "execution_count": 400,
   "metadata": {},
   "outputs": [],
   "source": [
    "# Dataframe for missing time steps\n",
    "gaps_pr= pd.DataFrame({'timestamp':gaps})"
   ]
  },
  {
   "cell_type": "code",
   "execution_count": 401,
   "metadata": {},
   "outputs": [],
   "source": [
    "# Add missing timesteps with NaN value\n",
    "price= pd.concat([price,gaps_pr]).sort_values(by='timestamp').reset_index(drop=True)"
   ]
  },
  {
   "cell_type": "markdown",
   "metadata": {},
   "source": [
    "**Missing Values**"
   ]
  },
  {
   "cell_type": "code",
   "execution_count": 402,
   "metadata": {},
   "outputs": [
    {
     "data": {
      "text/html": [
       "<div>\n",
       "<style scoped>\n",
       "    .dataframe tbody tr th:only-of-type {\n",
       "        vertical-align: middle;\n",
       "    }\n",
       "\n",
       "    .dataframe tbody tr th {\n",
       "        vertical-align: top;\n",
       "    }\n",
       "\n",
       "    .dataframe thead th {\n",
       "        text-align: right;\n",
       "    }\n",
       "</style>\n",
       "<table border=\"1\" class=\"dataframe\">\n",
       "  <thead>\n",
       "    <tr style=\"text-align: right;\">\n",
       "      <th></th>\n",
       "      <th>timestamp</th>\n",
       "      <th>Price [Euro/MWh]</th>\n",
       "    </tr>\n",
       "  </thead>\n",
       "  <tbody>\n",
       "    <tr>\n",
       "      <th>0</th>\n",
       "      <td>2015-01-01 00:00:00</td>\n",
       "      <td>-</td>\n",
       "    </tr>\n",
       "    <tr>\n",
       "      <th>1</th>\n",
       "      <td>2015-01-01 01:00:00</td>\n",
       "      <td>-</td>\n",
       "    </tr>\n",
       "    <tr>\n",
       "      <th>2</th>\n",
       "      <td>2015-01-01 02:00:00</td>\n",
       "      <td>-</td>\n",
       "    </tr>\n",
       "    <tr>\n",
       "      <th>3</th>\n",
       "      <td>2015-01-01 03:00:00</td>\n",
       "      <td>-</td>\n",
       "    </tr>\n",
       "    <tr>\n",
       "      <th>4</th>\n",
       "      <td>2015-01-01 04:00:00</td>\n",
       "      <td>-</td>\n",
       "    </tr>\n",
       "  </tbody>\n",
       "</table>\n",
       "</div>"
      ],
      "text/plain": [
       "            timestamp Price [Euro/MWh]\n",
       "0 2015-01-01 00:00:00                -\n",
       "1 2015-01-01 01:00:00                -\n",
       "2 2015-01-01 02:00:00                -\n",
       "3 2015-01-01 03:00:00                -\n",
       "4 2015-01-01 04:00:00                -"
      ]
     },
     "execution_count": 402,
     "metadata": {},
     "output_type": "execute_result"
    }
   ],
   "source": [
    "price.head()"
   ]
  },
  {
   "cell_type": "code",
   "execution_count": 403,
   "metadata": {},
   "outputs": [],
   "source": [
    "price['Price [Euro/MWh]'] = price['Price [Euro/MWh]']\\\n",
    "                            .apply(lambda x: np.nan if x=='-' else x)\\\n",
    "                            .astype(float)"
   ]
  },
  {
   "cell_type": "code",
   "execution_count": 404,
   "metadata": {},
   "outputs": [
    {
     "data": {
      "text/plain": [
       "timestamp               0\n",
       "Price [Euro/MWh]    11092\n",
       "dtype: int64"
      ]
     },
     "execution_count": 404,
     "metadata": {},
     "output_type": "execute_result"
    }
   ],
   "source": [
    "price.isna().sum()"
   ]
  },
  {
   "cell_type": "code",
   "execution_count": 405,
   "metadata": {},
   "outputs": [
    {
     "data": {
      "text/plain": [
       "<matplotlib.axes._subplots.AxesSubplot at 0x7f84a505cf98>"
      ]
     },
     "execution_count": 405,
     "metadata": {},
     "output_type": "execute_result"
    },
    {
     "data": {
      "image/png": "[encoded data removed]",
      "text/plain": [
       "<Figure size 864x432 with 5 Axes>"
      ]
     },
     "metadata": {},
     "output_type": "display_data"
    }
   ],
   "source": [
    "plt.figure(figsize=(12,6))\n",
    "plt.subplot(1,5,1)\n",
    "plt.title('2015')\n",
    "sns.heatmap(price[price.timestamp.apply(lambda x: x.year) == 2015].isnull(),\n",
    "            yticklabels=False,cbar=False,cmap='magma_r')\n",
    "plt.subplot(1,5,2)\n",
    "plt.title('2016')\n",
    "sns.heatmap(price[price.timestamp.apply(lambda x: x.year) == 2016].isnull(),\n",
    "            yticklabels=False,cbar=False,cmap='magma_r')\n",
    "plt.subplot(1,5,3)\n",
    "plt.title('2017')\n",
    "sns.heatmap(price[price.timestamp.apply(lambda x: x.year) == 2017].isnull(),\n",
    "            yticklabels=False,cbar=False,cmap='magma_r')\n",
    "plt.subplot(1,5,4)\n",
    "plt.title('2018')\n",
    "sns.heatmap(price[price.timestamp.apply(lambda x: x.year) == 2018].isnull(),\n",
    "            yticklabels=False,cbar=False,cmap='magma_r')\n",
    "plt.subplot(1,5,5)\n",
    "plt.title('2019')\n",
    "sns.heatmap(price[price.timestamp.apply(lambda x: x.year) == 2019].isnull(),\n",
    "            yticklabels=False,cbar=False,cmap='magma_r')"
   ]
  },
  {
   "cell_type": "markdown",
   "metadata": {},
   "source": [
    "These missing values can be found at *Germany/Luxembourg[Euro/MWh]* column."
   ]
  },
  {
   "cell_type": "code",
   "execution_count": 406,
   "metadata": {},
   "outputs": [],
   "source": [
    "price_2= pd.concat([price1,price2,price3], axis=0)"
   ]
  },
  {
   "cell_type": "code",
   "execution_count": 407,
   "metadata": {},
   "outputs": [],
   "source": [
    "price_2['timestamp']= price_2.apply(lambda x: (x['Date']+x['Time of day']), axis=1 )\\\n",
    "                                     .apply(lambda x: datetime.strptime(x, '%b %d, %Y%I:%M %p'))\\\n",
    "                                     .apply(lambda x: pd.to_datetime(x))"
   ]
  },
  {
   "cell_type": "code",
   "execution_count": 408,
   "metadata": {},
   "outputs": [],
   "source": [
    "price_2=price_2[['timestamp','Germany/Luxembourg[Euro/MWh]']]"
   ]
  },
  {
   "cell_type": "code",
   "execution_count": 409,
   "metadata": {},
   "outputs": [],
   "source": [
    "price_2.rename(columns={'Germany/Luxembourg[Euro/MWh]':'Price [Euro/MWh]'}, inplace=True)"
   ]
  },
  {
   "cell_type": "code",
   "execution_count": 410,
   "metadata": {},
   "outputs": [],
   "source": [
    "price_2= price_2[price_2.timestamp.apply(lambda x: x.year) != 2020]"
   ]
  },
  {
   "cell_type": "code",
   "execution_count": 411,
   "metadata": {},
   "outputs": [],
   "source": [
    "price_2.drop_duplicates(inplace=True)"
   ]
  },
  {
   "cell_type": "code",
   "execution_count": 412,
   "metadata": {},
   "outputs": [],
   "source": [
    "price_2= price_2[~price_2.timestamp.duplicated()]"
   ]
  },
  {
   "cell_type": "code",
   "execution_count": 413,
   "metadata": {},
   "outputs": [],
   "source": [
    "must_be_timesteps= (price_2.timestamp.max()-price_2.timestamp.min())/pd.to_timedelta(1,unit='h')+1"
   ]
  },
  {
   "cell_type": "code",
   "execution_count": 414,
   "metadata": {},
   "outputs": [],
   "source": [
    "# creating reference DatetimeIndex idx_ref with a 1-hour frequency\n",
    "idx_ref = pd.date_range(start=price_2.timestamp.min(), end=price_2.timestamp.max(),freq='h')\n",
    "\n",
    "# idx_dat represents your DatetimeIndex from the sensor\n",
    "gaps = idx_ref[~idx_ref.isin(price_2.timestamp)]"
   ]
  },
  {
   "cell_type": "code",
   "execution_count": 415,
   "metadata": {},
   "outputs": [],
   "source": [
    "# Dataframe for missing time steps\n",
    "gaps_pr= pd.DataFrame({'timestamp':gaps})"
   ]
  },
  {
   "cell_type": "code",
   "execution_count": 416,
   "metadata": {},
   "outputs": [],
   "source": [
    "# Add missing timesteps with NaN value\n",
    "price_2= pd.concat([price_2,gaps_pr]).sort_values(by='timestamp').reset_index(drop=True)"
   ]
  },
  {
   "cell_type": "code",
   "execution_count": 417,
   "metadata": {},
   "outputs": [],
   "source": [
    "price_2['Price [Euro/MWh]'] = price_2['Price [Euro/MWh]']\\\n",
    "                            .apply(lambda x: np.nan if x=='-' else x)\\\n",
    "                            .astype(float)"
   ]
  },
  {
   "cell_type": "code",
   "execution_count": 418,
   "metadata": {},
   "outputs": [
    {
     "data": {
      "text/plain": [
       "timestamp               0\n",
       "Price [Euro/MWh]    32905\n",
       "dtype: int64"
      ]
     },
     "execution_count": 418,
     "metadata": {},
     "output_type": "execute_result"
    }
   ],
   "source": [
    "price_2.isna().sum()"
   ]
  },
  {
   "cell_type": "code",
   "execution_count": 419,
   "metadata": {},
   "outputs": [
    {
     "data": {
      "text/plain": [
       "<matplotlib.axes._subplots.AxesSubplot at 0x7f84a5180c18>"
      ]
     },
     "execution_count": 419,
     "metadata": {},
     "output_type": "execute_result"
    },
    {
     "data": {
      "image/png": "[encoded data removed]",
      "text/plain": [
       "<Figure size 864x432 with 5 Axes>"
      ]
     },
     "metadata": {},
     "output_type": "display_data"
    }
   ],
   "source": [
    "plt.figure(figsize=(12,6))\n",
    "plt.subplot(1,5,1)\n",
    "plt.title('2015')\n",
    "sns.heatmap(price_2[price_2.timestamp.apply(lambda x: x.year) == 2015].isnull(),\n",
    "            yticklabels=False,cbar=False,cmap='magma_r')\n",
    "plt.subplot(1,5,2)\n",
    "plt.title('2016')\n",
    "sns.heatmap(price_2[price_2.timestamp.apply(lambda x: x.year) == 2016].isnull(),\n",
    "            yticklabels=False,cbar=False,cmap='magma_r')\n",
    "plt.subplot(1,5,3)\n",
    "plt.title('2017')\n",
    "sns.heatmap(price_2[price_2.timestamp.apply(lambda x: x.year) == 2017].isnull(),\n",
    "            yticklabels=False,cbar=False,cmap='magma_r')\n",
    "plt.subplot(1,5,4)\n",
    "plt.title('2018')\n",
    "sns.heatmap(price_2[price_2.timestamp.apply(lambda x: x.year) == 2018].isnull(),\n",
    "            yticklabels=False,cbar=False,cmap='magma_r')\n",
    "plt.subplot(1,5,5)\n",
    "plt.title('2019')\n",
    "sns.heatmap(price_2[price_2.timestamp.apply(lambda x: x.year) == 2019].isnull(),\n",
    "            yticklabels=False,cbar=False,cmap='magma_r')"
   ]
  },
  {
   "cell_type": "markdown",
   "metadata": {},
   "source": [
    "**Merging these two dataframes together**"
   ]
  },
  {
   "cell_type": "code",
   "execution_count": 425,
   "metadata": {},
   "outputs": [],
   "source": [
    "price= pd.concat([price.dropna(),price_2.dropna()])"
   ]
  },
  {
   "cell_type": "code",
   "execution_count": 427,
   "metadata": {},
   "outputs": [],
   "source": [
    "must_be_timesteps= (price.timestamp.max()-price.timestamp.min())/pd.to_timedelta(1,unit='h')+1\n",
    "# creating reference DatetimeIndex idx_ref with a 1-hour frequency\n",
    "idx_ref = pd.date_range(start=price.timestamp.min(), end=price.timestamp.max(),freq='h')\n",
    "# idx_dat represents your DatetimeIndex from the sensor\n",
    "gaps = idx_ref[~idx_ref.isin(price.timestamp)]\n",
    "# Dataframe for missing time steps\n",
    "gaps_pr= pd.DataFrame({'timestamp':gaps})\n",
    "# Add missing timesteps with NaN value\n",
    "price= pd.concat([price,gaps_pr]).sort_values(by='timestamp').reset_index(drop=True)"
   ]
  },
  {
   "cell_type": "code",
   "execution_count": 428,
   "metadata": {},
   "outputs": [
    {
     "data": {
      "text/plain": [
       "timestamp            0\n",
       "Price [Euro/MWh]    53\n",
       "dtype: int64"
      ]
     },
     "execution_count": 428,
     "metadata": {},
     "output_type": "execute_result"
    }
   ],
   "source": [
    "price.isna().sum()"
   ]
  },
  {
   "cell_type": "code",
   "execution_count": 432,
   "metadata": {},
   "outputs": [
    {
     "data": {
      "text/html": [
       "<div>\n",
       "<style scoped>\n",
       "    .dataframe tbody tr th:only-of-type {\n",
       "        vertical-align: middle;\n",
       "    }\n",
       "\n",
       "    .dataframe tbody tr th {\n",
       "        vertical-align: top;\n",
       "    }\n",
       "\n",
       "    .dataframe thead th {\n",
       "        text-align: right;\n",
       "    }\n",
       "</style>\n",
       "<table border=\"1\" class=\"dataframe\">\n",
       "  <thead>\n",
       "    <tr style=\"text-align: right;\">\n",
       "      <th></th>\n",
       "      <th>timestamp</th>\n",
       "      <th>Price [Euro/MWh]</th>\n",
       "    </tr>\n",
       "  </thead>\n",
       "  <tbody>\n",
       "    <tr>\n",
       "      <th>1970</th>\n",
       "      <td>2015-03-29 02:00:00</td>\n",
       "      <td>NaN</td>\n",
       "    </tr>\n",
       "    <tr>\n",
       "      <th>10706</th>\n",
       "      <td>2016-03-27 02:00:00</td>\n",
       "      <td>NaN</td>\n",
       "    </tr>\n",
       "    <tr>\n",
       "      <th>19442</th>\n",
       "      <td>2017-03-26 02:00:00</td>\n",
       "      <td>NaN</td>\n",
       "    </tr>\n",
       "    <tr>\n",
       "      <th>28178</th>\n",
       "      <td>2018-03-25 02:00:00</td>\n",
       "      <td>NaN</td>\n",
       "    </tr>\n",
       "    <tr>\n",
       "      <th>37082</th>\n",
       "      <td>2019-03-31 02:00:00</td>\n",
       "      <td>NaN</td>\n",
       "    </tr>\n",
       "    <tr>\n",
       "      <th>40008</th>\n",
       "      <td>2019-07-31 00:00:00</td>\n",
       "      <td>NaN</td>\n",
       "    </tr>\n",
       "    <tr>\n",
       "      <th>40009</th>\n",
       "      <td>2019-07-31 01:00:00</td>\n",
       "      <td>NaN</td>\n",
       "    </tr>\n",
       "    <tr>\n",
       "      <th>40010</th>\n",
       "      <td>2019-07-31 02:00:00</td>\n",
       "      <td>NaN</td>\n",
       "    </tr>\n",
       "    <tr>\n",
       "      <th>40011</th>\n",
       "      <td>2019-07-31 03:00:00</td>\n",
       "      <td>NaN</td>\n",
       "    </tr>\n",
       "    <tr>\n",
       "      <th>40012</th>\n",
       "      <td>2019-07-31 04:00:00</td>\n",
       "      <td>NaN</td>\n",
       "    </tr>\n",
       "    <tr>\n",
       "      <th>40013</th>\n",
       "      <td>2019-07-31 05:00:00</td>\n",
       "      <td>NaN</td>\n",
       "    </tr>\n",
       "    <tr>\n",
       "      <th>40014</th>\n",
       "      <td>2019-07-31 06:00:00</td>\n",
       "      <td>NaN</td>\n",
       "    </tr>\n",
       "    <tr>\n",
       "      <th>40015</th>\n",
       "      <td>2019-07-31 07:00:00</td>\n",
       "      <td>NaN</td>\n",
       "    </tr>\n",
       "    <tr>\n",
       "      <th>40016</th>\n",
       "      <td>2019-07-31 08:00:00</td>\n",
       "      <td>NaN</td>\n",
       "    </tr>\n",
       "    <tr>\n",
       "      <th>40017</th>\n",
       "      <td>2019-07-31 09:00:00</td>\n",
       "      <td>NaN</td>\n",
       "    </tr>\n",
       "    <tr>\n",
       "      <th>40018</th>\n",
       "      <td>2019-07-31 10:00:00</td>\n",
       "      <td>NaN</td>\n",
       "    </tr>\n",
       "    <tr>\n",
       "      <th>40019</th>\n",
       "      <td>2019-07-31 11:00:00</td>\n",
       "      <td>NaN</td>\n",
       "    </tr>\n",
       "    <tr>\n",
       "      <th>40020</th>\n",
       "      <td>2019-07-31 12:00:00</td>\n",
       "      <td>NaN</td>\n",
       "    </tr>\n",
       "    <tr>\n",
       "      <th>40021</th>\n",
       "      <td>2019-07-31 13:00:00</td>\n",
       "      <td>NaN</td>\n",
       "    </tr>\n",
       "    <tr>\n",
       "      <th>40022</th>\n",
       "      <td>2019-07-31 14:00:00</td>\n",
       "      <td>NaN</td>\n",
       "    </tr>\n",
       "    <tr>\n",
       "      <th>40023</th>\n",
       "      <td>2019-07-31 15:00:00</td>\n",
       "      <td>NaN</td>\n",
       "    </tr>\n",
       "    <tr>\n",
       "      <th>40024</th>\n",
       "      <td>2019-07-31 16:00:00</td>\n",
       "      <td>NaN</td>\n",
       "    </tr>\n",
       "    <tr>\n",
       "      <th>40025</th>\n",
       "      <td>2019-07-31 17:00:00</td>\n",
       "      <td>NaN</td>\n",
       "    </tr>\n",
       "    <tr>\n",
       "      <th>40026</th>\n",
       "      <td>2019-07-31 18:00:00</td>\n",
       "      <td>NaN</td>\n",
       "    </tr>\n",
       "    <tr>\n",
       "      <th>40027</th>\n",
       "      <td>2019-07-31 19:00:00</td>\n",
       "      <td>NaN</td>\n",
       "    </tr>\n",
       "    <tr>\n",
       "      <th>40028</th>\n",
       "      <td>2019-07-31 20:00:00</td>\n",
       "      <td>NaN</td>\n",
       "    </tr>\n",
       "    <tr>\n",
       "      <th>40029</th>\n",
       "      <td>2019-07-31 21:00:00</td>\n",
       "      <td>NaN</td>\n",
       "    </tr>\n",
       "    <tr>\n",
       "      <th>40030</th>\n",
       "      <td>2019-07-31 22:00:00</td>\n",
       "      <td>NaN</td>\n",
       "    </tr>\n",
       "    <tr>\n",
       "      <th>40031</th>\n",
       "      <td>2019-07-31 23:00:00</td>\n",
       "      <td>NaN</td>\n",
       "    </tr>\n",
       "    <tr>\n",
       "      <th>40824</th>\n",
       "      <td>2019-09-03 00:00:00</td>\n",
       "      <td>NaN</td>\n",
       "    </tr>\n",
       "    <tr>\n",
       "      <th>40825</th>\n",
       "      <td>2019-09-03 01:00:00</td>\n",
       "      <td>NaN</td>\n",
       "    </tr>\n",
       "    <tr>\n",
       "      <th>40826</th>\n",
       "      <td>2019-09-03 02:00:00</td>\n",
       "      <td>NaN</td>\n",
       "    </tr>\n",
       "    <tr>\n",
       "      <th>40827</th>\n",
       "      <td>2019-09-03 03:00:00</td>\n",
       "      <td>NaN</td>\n",
       "    </tr>\n",
       "    <tr>\n",
       "      <th>40828</th>\n",
       "      <td>2019-09-03 04:00:00</td>\n",
       "      <td>NaN</td>\n",
       "    </tr>\n",
       "    <tr>\n",
       "      <th>40829</th>\n",
       "      <td>2019-09-03 05:00:00</td>\n",
       "      <td>NaN</td>\n",
       "    </tr>\n",
       "    <tr>\n",
       "      <th>40830</th>\n",
       "      <td>2019-09-03 06:00:00</td>\n",
       "      <td>NaN</td>\n",
       "    </tr>\n",
       "    <tr>\n",
       "      <th>40831</th>\n",
       "      <td>2019-09-03 07:00:00</td>\n",
       "      <td>NaN</td>\n",
       "    </tr>\n",
       "    <tr>\n",
       "      <th>40832</th>\n",
       "      <td>2019-09-03 08:00:00</td>\n",
       "      <td>NaN</td>\n",
       "    </tr>\n",
       "    <tr>\n",
       "      <th>40833</th>\n",
       "      <td>2019-09-03 09:00:00</td>\n",
       "      <td>NaN</td>\n",
       "    </tr>\n",
       "    <tr>\n",
       "      <th>40834</th>\n",
       "      <td>2019-09-03 10:00:00</td>\n",
       "      <td>NaN</td>\n",
       "    </tr>\n",
       "    <tr>\n",
       "      <th>40835</th>\n",
       "      <td>2019-09-03 11:00:00</td>\n",
       "      <td>NaN</td>\n",
       "    </tr>\n",
       "    <tr>\n",
       "      <th>40836</th>\n",
       "      <td>2019-09-03 12:00:00</td>\n",
       "      <td>NaN</td>\n",
       "    </tr>\n",
       "    <tr>\n",
       "      <th>40837</th>\n",
       "      <td>2019-09-03 13:00:00</td>\n",
       "      <td>NaN</td>\n",
       "    </tr>\n",
       "    <tr>\n",
       "      <th>40838</th>\n",
       "      <td>2019-09-03 14:00:00</td>\n",
       "      <td>NaN</td>\n",
       "    </tr>\n",
       "    <tr>\n",
       "      <th>40839</th>\n",
       "      <td>2019-09-03 15:00:00</td>\n",
       "      <td>NaN</td>\n",
       "    </tr>\n",
       "    <tr>\n",
       "      <th>40840</th>\n",
       "      <td>2019-09-03 16:00:00</td>\n",
       "      <td>NaN</td>\n",
       "    </tr>\n",
       "    <tr>\n",
       "      <th>40841</th>\n",
       "      <td>2019-09-03 17:00:00</td>\n",
       "      <td>NaN</td>\n",
       "    </tr>\n",
       "    <tr>\n",
       "      <th>40842</th>\n",
       "      <td>2019-09-03 18:00:00</td>\n",
       "      <td>NaN</td>\n",
       "    </tr>\n",
       "    <tr>\n",
       "      <th>40843</th>\n",
       "      <td>2019-09-03 19:00:00</td>\n",
       "      <td>NaN</td>\n",
       "    </tr>\n",
       "    <tr>\n",
       "      <th>40844</th>\n",
       "      <td>2019-09-03 20:00:00</td>\n",
       "      <td>NaN</td>\n",
       "    </tr>\n",
       "    <tr>\n",
       "      <th>40845</th>\n",
       "      <td>2019-09-03 21:00:00</td>\n",
       "      <td>NaN</td>\n",
       "    </tr>\n",
       "    <tr>\n",
       "      <th>40846</th>\n",
       "      <td>2019-09-03 22:00:00</td>\n",
       "      <td>NaN</td>\n",
       "    </tr>\n",
       "    <tr>\n",
       "      <th>40847</th>\n",
       "      <td>2019-09-03 23:00:00</td>\n",
       "      <td>NaN</td>\n",
       "    </tr>\n",
       "  </tbody>\n",
       "</table>\n",
       "</div>"
      ],
      "text/plain": [
       "                timestamp  Price [Euro/MWh]\n",
       "1970  2015-03-29 02:00:00               NaN\n",
       "10706 2016-03-27 02:00:00               NaN\n",
       "19442 2017-03-26 02:00:00               NaN\n",
       "28178 2018-03-25 02:00:00               NaN\n",
       "37082 2019-03-31 02:00:00               NaN\n",
       "40008 2019-07-31 00:00:00               NaN\n",
       "40009 2019-07-31 01:00:00               NaN\n",
       "40010 2019-07-31 02:00:00               NaN\n",
       "40011 2019-07-31 03:00:00               NaN\n",
       "40012 2019-07-31 04:00:00               NaN\n",
       "40013 2019-07-31 05:00:00               NaN\n",
       "40014 2019-07-31 06:00:00               NaN\n",
       "40015 2019-07-31 07:00:00               NaN\n",
       "40016 2019-07-31 08:00:00               NaN\n",
       "40017 2019-07-31 09:00:00               NaN\n",
       "40018 2019-07-31 10:00:00               NaN\n",
       "40019 2019-07-31 11:00:00               NaN\n",
       "40020 2019-07-31 12:00:00               NaN\n",
       "40021 2019-07-31 13:00:00               NaN\n",
       "40022 2019-07-31 14:00:00               NaN\n",
       "40023 2019-07-31 15:00:00               NaN\n",
       "40024 2019-07-31 16:00:00               NaN\n",
       "40025 2019-07-31 17:00:00               NaN\n",
       "40026 2019-07-31 18:00:00               NaN\n",
       "40027 2019-07-31 19:00:00               NaN\n",
       "40028 2019-07-31 20:00:00               NaN\n",
       "40029 2019-07-31 21:00:00               NaN\n",
       "40030 2019-07-31 22:00:00               NaN\n",
       "40031 2019-07-31 23:00:00               NaN\n",
       "40824 2019-09-03 00:00:00               NaN\n",
       "40825 2019-09-03 01:00:00               NaN\n",
       "40826 2019-09-03 02:00:00               NaN\n",
       "40827 2019-09-03 03:00:00               NaN\n",
       "40828 2019-09-03 04:00:00               NaN\n",
       "40829 2019-09-03 05:00:00               NaN\n",
       "40830 2019-09-03 06:00:00               NaN\n",
       "40831 2019-09-03 07:00:00               NaN\n",
       "40832 2019-09-03 08:00:00               NaN\n",
       "40833 2019-09-03 09:00:00               NaN\n",
       "40834 2019-09-03 10:00:00               NaN\n",
       "40835 2019-09-03 11:00:00               NaN\n",
       "40836 2019-09-03 12:00:00               NaN\n",
       "40837 2019-09-03 13:00:00               NaN\n",
       "40838 2019-09-03 14:00:00               NaN\n",
       "40839 2019-09-03 15:00:00               NaN\n",
       "40840 2019-09-03 16:00:00               NaN\n",
       "40841 2019-09-03 17:00:00               NaN\n",
       "40842 2019-09-03 18:00:00               NaN\n",
       "40843 2019-09-03 19:00:00               NaN\n",
       "40844 2019-09-03 20:00:00               NaN\n",
       "40845 2019-09-03 21:00:00               NaN\n",
       "40846 2019-09-03 22:00:00               NaN\n",
       "40847 2019-09-03 23:00:00               NaN"
      ]
     },
     "execution_count": 432,
     "metadata": {},
     "output_type": "execute_result"
    }
   ],
   "source": [
    "price[price['Price [Euro/MWh]'].isna()]"
   ]
  },
  {
   "cell_type": "markdown",
   "metadata": {},
   "source": [
    "Two complete days and a few more values are missing. I copy the value of last observed day for each one."
   ]
  },
  {
   "cell_type": "code",
   "execution_count": 466,
   "metadata": {},
   "outputs": [],
   "source": [
    "idx1= price[price.timestamp.apply(lambda x: x.date())==pd.to_datetime('2019-09-03')].index"
   ]
  },
  {
   "cell_type": "code",
   "execution_count": 467,
   "metadata": {
    "scrolled": true
   },
   "outputs": [],
   "source": [
    "price.loc[idx1,'Price [Euro/MWh]']=\\\n",
    "(price[price.timestamp.apply(lambda x: x.date())==pd.to_datetime('2019-09-02')]['Price [Euro/MWh]'].values+\\\n",
    "price[price.timestamp.apply(lambda x: x.date())==pd.to_datetime('2019-09-04')]['Price [Euro/MWh]'].values)/2"
   ]
  },
  {
   "cell_type": "code",
   "execution_count": 468,
   "metadata": {},
   "outputs": [],
   "source": [
    "idx2= price[price.timestamp.apply(lambda x: x.date())==pd.to_datetime('2019-07-31')].index"
   ]
  },
  {
   "cell_type": "code",
   "execution_count": 469,
   "metadata": {},
   "outputs": [],
   "source": [
    "price.loc[idx2,'Price [Euro/MWh]']=\\\n",
    "(price[price.timestamp.apply(lambda x: x.date())==pd.to_datetime('2019-07-30')]['Price [Euro/MWh]'].values+\\\n",
    "price[price.timestamp.apply(lambda x: x.date())==pd.to_datetime('2019-08-01')]['Price [Euro/MWh]'].values)/2"
   ]
  },
  {
   "cell_type": "code",
   "execution_count": 470,
   "metadata": {},
   "outputs": [
    {
     "data": {
      "text/html": [
       "<div>\n",
       "<style scoped>\n",
       "    .dataframe tbody tr th:only-of-type {\n",
       "        vertical-align: middle;\n",
       "    }\n",
       "\n",
       "    .dataframe tbody tr th {\n",
       "        vertical-align: top;\n",
       "    }\n",
       "\n",
       "    .dataframe thead th {\n",
       "        text-align: right;\n",
       "    }\n",
       "</style>\n",
       "<table border=\"1\" class=\"dataframe\">\n",
       "  <thead>\n",
       "    <tr style=\"text-align: right;\">\n",
       "      <th></th>\n",
       "      <th>timestamp</th>\n",
       "      <th>Price [Euro/MWh]</th>\n",
       "    </tr>\n",
       "  </thead>\n",
       "  <tbody>\n",
       "    <tr>\n",
       "      <th>1970</th>\n",
       "      <td>2015-03-29 02:00:00</td>\n",
       "      <td>NaN</td>\n",
       "    </tr>\n",
       "    <tr>\n",
       "      <th>10706</th>\n",
       "      <td>2016-03-27 02:00:00</td>\n",
       "      <td>NaN</td>\n",
       "    </tr>\n",
       "    <tr>\n",
       "      <th>19442</th>\n",
       "      <td>2017-03-26 02:00:00</td>\n",
       "      <td>NaN</td>\n",
       "    </tr>\n",
       "    <tr>\n",
       "      <th>28178</th>\n",
       "      <td>2018-03-25 02:00:00</td>\n",
       "      <td>NaN</td>\n",
       "    </tr>\n",
       "    <tr>\n",
       "      <th>37082</th>\n",
       "      <td>2019-03-31 02:00:00</td>\n",
       "      <td>NaN</td>\n",
       "    </tr>\n",
       "  </tbody>\n",
       "</table>\n",
       "</div>"
      ],
      "text/plain": [
       "                timestamp  Price [Euro/MWh]\n",
       "1970  2015-03-29 02:00:00               NaN\n",
       "10706 2016-03-27 02:00:00               NaN\n",
       "19442 2017-03-26 02:00:00               NaN\n",
       "28178 2018-03-25 02:00:00               NaN\n",
       "37082 2019-03-31 02:00:00               NaN"
      ]
     },
     "execution_count": 470,
     "metadata": {},
     "output_type": "execute_result"
    }
   ],
   "source": [
    "price[price['Price [Euro/MWh]'].isna()]"
   ]
  },
  {
   "cell_type": "code",
   "execution_count": 471,
   "metadata": {},
   "outputs": [],
   "source": [
    "# fill NaN values with an average of last and next valid observation\n",
    "price[price.columns[1:]]=\\\n",
    "(price[price.columns[1:]].fillna(method='ffill')+\\\n",
    "price[price.columns[1:]].fillna(method='bfill'))/2"
   ]
  },
  {
   "cell_type": "code",
   "execution_count": 472,
   "metadata": {},
   "outputs": [
    {
     "data": {
      "text/plain": [
       "0"
      ]
     },
     "execution_count": 472,
     "metadata": {},
     "output_type": "execute_result"
    }
   ],
   "source": [
    "price['Price [Euro/MWh]'].isna().sum()"
   ]
  },
  {
   "cell_type": "markdown",
   "metadata": {},
   "source": [
    "**Dataframe is finally ready!**"
   ]
  },
  {
   "cell_type": "code",
   "execution_count": 473,
   "metadata": {},
   "outputs": [
    {
     "ename": "TypeError",
     "evalue": "'str' object is not callable",
     "output_type": "error",
     "traceback": [
      "\u001b[0;31m---------------------------------------------------------------------------\u001b[0m",
      "\u001b[0;31mTypeError\u001b[0m                                 Traceback (most recent call last)",
      "\u001b[0;32m<ipython-input-473-9acc7f55ddb6>\u001b[0m in \u001b[0;36m<module>\u001b[0;34m\u001b[0m\n\u001b[1;32m      3\u001b[0m     price['Price [Euro/MWh]'].values)\n\u001b[1;32m      4\u001b[0m \u001b[0mplt\u001b[0m\u001b[0;34m.\u001b[0m\u001b[0mtitle\u001b[0m\u001b[0;34m(\u001b[0m\u001b[0;34m'\\nElectricity Price in Germany\\n'\u001b[0m\u001b[0;34m,\u001b[0m \u001b[0mfontsize\u001b[0m\u001b[0;34m=\u001b[0m\u001b[0;36m20\u001b[0m\u001b[0;34m,\u001b[0m \u001b[0mfontweight\u001b[0m\u001b[0;34m=\u001b[0m\u001b[0;34m'bold'\u001b[0m\u001b[0;34m)\u001b[0m\u001b[0;34m\u001b[0m\u001b[0;34m\u001b[0m\u001b[0m\n\u001b[0;32m----> 5\u001b[0;31m \u001b[0mplt\u001b[0m\u001b[0;34m.\u001b[0m\u001b[0mylabel\u001b[0m\u001b[0;34m(\u001b[0m\u001b[0;34m'Price [Euro/MWh]'\u001b[0m\u001b[0;34m)\u001b[0m\u001b[0;34m\u001b[0m\u001b[0;34m\u001b[0m\u001b[0m\n\u001b[0m\u001b[1;32m      6\u001b[0m \u001b[0mplt\u001b[0m\u001b[0;34m.\u001b[0m\u001b[0mshow\u001b[0m\u001b[0;34m(\u001b[0m\u001b[0;34m)\u001b[0m\u001b[0;34m\u001b[0m\u001b[0;34m\u001b[0m\u001b[0m\n",
      "\u001b[0;31mTypeError\u001b[0m: 'str' object is not callable"
     ]
    },
    {
     "data": {
      "image/png": "[encoded data removed]",
      "text/plain": [
       "<Figure size 1008x288 with 1 Axes>"
      ]
     },
     "metadata": {},
     "output_type": "display_data"
    }
   ],
   "source": [
    "plt.figure(figsize=(14,4))\n",
    "plt.plot(price.timestamp,\n",
    "    price['Price [Euro/MWh]'].values)\n",
    "plt.title('\\nElectricity Price in Germany\\n', fontsize=20, fontweight='bold')\n",
    "plt.ylabel('Price [Euro/MWh]')\n",
    "plt.show()"
   ]
  },
  {
   "cell_type": "code",
   "execution_count": 477,
   "metadata": {},
   "outputs": [],
   "source": [
    "price.to_csv('../Data_Cleaned/price.csv', index=False)\n",
    "price.to_pickle('../Data_Cleaned/price.pkl')"
   ]
  },
  {
   "cell_type": "markdown",
   "metadata": {},
   "source": [
    "## Load"
   ]
  },
  {
   "cell_type": "markdown",
   "metadata": {},
   "source": [
    "In this section, we can connect to our database and store our tables in our data warehouse. For this project, wee don't need to do this. All our data are local in this case."
   ]
  },
  {
   "cell_type": "code",
   "execution_count": null,
   "metadata": {},
   "outputs": [],
   "source": []
  },
  {
   "cell_type": "code",
   "execution_count": null,
   "metadata": {},
   "outputs": [],
   "source": []
  },
  {
   "cell_type": "code",
   "execution_count": null,
   "metadata": {},
   "outputs": [],
   "source": []
  },
  {
   "cell_type": "code",
   "execution_count": null,
   "metadata": {},
   "outputs": [],
   "source": []
  },
  {
   "cell_type": "code",
   "execution_count": null,
   "metadata": {},
   "outputs": [],
   "source": []
  },
  {
   "cell_type": "code",
   "execution_count": null,
   "metadata": {},
   "outputs": [],
   "source": []
  }
 ],
 "metadata": {
  "kernelspec": {
   "display_name": "Python 3",
   "language": "python",
   "name": "python3"
  },
  "language_info": {
   "codemirror_mode": {
    "name": "ipython",
    "version": 3
   },
   "file_extension": ".py",
   "mimetype": "text/x-python",
   "name": "python",
   "nbconvert_exporter": "python",
   "pygments_lexer": "ipython3",
   "version": "3.7.3"
  }
 },
 "nbformat": 4,
 "nbformat_minor": 4
}
